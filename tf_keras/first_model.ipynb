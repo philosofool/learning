{
 "metadata": {
  "language_info": {
   "codemirror_mode": {
    "name": "ipython",
    "version": 3
   },
   "file_extension": ".py",
   "mimetype": "text/x-python",
   "name": "python",
   "nbconvert_exporter": "python",
   "pygments_lexer": "ipython3",
   "version": "3.8.5-final"
  },
  "orig_nbformat": 2,
  "kernelspec": {
   "name": "tensorflow",
   "display_name": "Python 3.8 (tensorflow)"
  }
 },
 "nbformat": 4,
 "nbformat_minor": 2,
 "cells": [
  {
   "source": [
    "# First Keras project\n",
    "\n",
    "Keeping it simple. Probably a little too simple, but let's finish this, learn what we learn and move on to something more educational.\n",
    "\n",
    "(I'm working with Kaggle's MNIST digist data. It's all preprocessed except for one little thing, which is why this is too easy.)"
   ],
   "cell_type": "markdown",
   "metadata": {}
  },
  {
   "cell_type": "code",
   "execution_count": 2,
   "metadata": {},
   "outputs": [
    {
     "output_type": "execute_result",
     "data": {
      "text/plain": [
       "'2.3.0-tf'"
      ]
     },
     "metadata": {},
     "execution_count": 2
    }
   ],
   "source": [
    "import numpy as np\n",
    "import pandas as pd\n",
    "import tensorflow as tf\n",
    "from tensorflow import keras\n",
    "\n",
    "keras.__version__"
   ]
  },
  {
   "cell_type": "code",
   "execution_count": 3,
   "metadata": {},
   "outputs": [
    {
     "output_type": "execute_result",
     "data": {
      "text/plain": [
       "[PhysicalDevice(name='/physical_device:GPU:0', device_type='GPU')]"
      ]
     },
     "metadata": {},
     "execution_count": 3
    }
   ],
   "source": [
    "#tf.python.client.device_lib.list_local_devices() #verifies GPU type.\n",
    "tf.config.experimental.list_physical_devices('GPU')#verifies GPU detected"
   ]
  },
  {
   "cell_type": "code",
   "execution_count": 4,
   "metadata": {},
   "outputs": [],
   "source": [
    "try: ## this means that if I re-run all cells, I don't have to wait for pd.read_csv, which is a little slow.\n",
    "    dataframe.head()\n",
    "except NameError:\n",
    "    dataframe = pd.read_csv('data/train.csv')\n",
    "dev_df = dataframe.sample(n=3000, random_state=1)\n",
    "train_df = dataframe.drop(dev_df.index)\n",
    "assert train_df.shape[1] == 785 #should be 784 + 1"
   ]
  },
  {
   "cell_type": "code",
   "execution_count": 5,
   "metadata": {},
   "outputs": [],
   "source": [
    "## I have some learning to do with datasets. \n",
    "## So the cells below don't get used as of 16/11/20.\n",
    "\n",
    "def dataframe_to_dataset(dataframe, batch_size=64, label='label'):\n",
    "    ds = tf.data.Dataset.from_tensor_slices((dataframe.drop(label,axis=1).to_numpy(), dataframe[label]))\n",
    "    ds.shuffle(buffer_size=len(dataframe))\n",
    "    ds.batch(batch_size)\n",
    "    return ds\n",
    "\n",
    "#dev_ds = dataframe_to_dataset(dev_df)\n",
    "#train_ds = dataframe_to_dataset(train_df)"
   ]
  },
  {
   "cell_type": "code",
   "execution_count": 6,
   "metadata": {},
   "outputs": [
    {
     "output_type": "stream",
     "name": "stdout",
     "text": [
      "Model: \"simple_model\"\n_________________________________________________________________\nLayer (type)                 Output Shape              Param #   \n=================================================================\ninput_1 (InputLayer)         [(None, 784)]             0         \n_________________________________________________________________\nrescaling (Rescaling)        (None, 784)               0         \n_________________________________________________________________\ndense (Dense)                (None, 100)               78500     \n_________________________________________________________________\ndense_1 (Dense)              (None, 100)               10100     \n_________________________________________________________________\ndense_2 (Dense)              (None, 10)                1010      \n=================================================================\nTotal params: 89,610\nTrainable params: 89,610\nNon-trainable params: 0\n_________________________________________________________________\n"
     ]
    }
   ],
   "source": [
    "from tensorflow.keras import layers\n",
    "\n",
    "##Build the model\n",
    "inputs = keras.Input(shape=(784))\n",
    "x = layers.experimental.preprocessing.Rescaling(1./255)(inputs)\n",
    "x = layers.Dense(100, activation='relu')(x)\n",
    "x = layers.Dense(100, activation='relu')(x)\n",
    "outputs = layers.Dense(10, activation='softmax')(x)\n",
    "model = keras.Model(inputs=inputs,outputs=outputs, name='simple_model')\n",
    "model.summary()"
   ]
  },
  {
   "cell_type": "code",
   "execution_count": 7,
   "metadata": {},
   "outputs": [],
   "source": [
    "## Cool. \n",
    "## Compile and train\n",
    "\n",
    "model.compile(optimizer=\"adam\", \n",
    "                loss=\"sparse_categorical_crossentropy\",\n",
    "                metrics=[keras.metrics.SparseCategoricalAccuracy(name=\"acc\")],\n",
    "            )\n",
    "(X, y) = (train_df.drop('label',axis=1).to_numpy(), train_df['label'].to_numpy())\n",
    "(X_val, y_val) = (dev_df.drop('label', axis = 1).to_numpy(), dev_df['label'].to_numpy())\n",
    "assert X.shape[1] == 784   #makes sure shape is correct.\n",
    "assert X.shape[0] == y.shape[0]\n",
    "\n",
    "# run once to see if everything is in order, or comment out and go to next cell\n",
    "# model.fit(X, y, epochs=1, batch_size=64, validation_data=(X_val, y_val))"
   ]
  },
  {
   "cell_type": "code",
   "execution_count": 8,
   "metadata": {},
   "outputs": [
    {
     "output_type": "stream",
     "name": "stdout",
     "text": [
      "Epoch 1/25\n",
      "153/153 [==============================] - 1s 7ms/step - loss: 0.5398 - acc: 0.8479 - val_loss: 0.2592 - val_acc: 0.9267\n",
      "Epoch 2/25\n",
      "153/153 [==============================] - 1s 5ms/step - loss: 0.2051 - acc: 0.9407 - val_loss: 0.1872 - val_acc: 0.9467\n",
      "Epoch 3/25\n",
      "153/153 [==============================] - 1s 5ms/step - loss: 0.1495 - acc: 0.9569 - val_loss: 0.1519 - val_acc: 0.9533\n",
      "Epoch 4/25\n",
      "153/153 [==============================] - 1s 5ms/step - loss: 0.1193 - acc: 0.9659 - val_loss: 0.1378 - val_acc: 0.9577\n",
      "Epoch 5/25\n",
      "153/153 [==============================] - 1s 5ms/step - loss: 0.0989 - acc: 0.9714 - val_loss: 0.1388 - val_acc: 0.9587\n",
      "Epoch 6/25\n",
      "153/153 [==============================] - 1s 5ms/step - loss: 0.0826 - acc: 0.9758 - val_loss: 0.1139 - val_acc: 0.9670\n",
      "Epoch 7/25\n",
      "153/153 [==============================] - 1s 5ms/step - loss: 0.0700 - acc: 0.9794 - val_loss: 0.1150 - val_acc: 0.9657\n",
      "Epoch 8/25\n",
      "153/153 [==============================] - 1s 5ms/step - loss: 0.0603 - acc: 0.9824 - val_loss: 0.1093 - val_acc: 0.9700\n",
      "Epoch 9/25\n",
      "153/153 [==============================] - 1s 5ms/step - loss: 0.0503 - acc: 0.9858 - val_loss: 0.1126 - val_acc: 0.9703\n",
      "Epoch 10/25\n",
      "153/153 [==============================] - 1s 5ms/step - loss: 0.0439 - acc: 0.9873 - val_loss: 0.1051 - val_acc: 0.9733\n",
      "Epoch 11/25\n",
      "153/153 [==============================] - 1s 5ms/step - loss: 0.0389 - acc: 0.9890 - val_loss: 0.1014 - val_acc: 0.9747\n",
      "Epoch 12/25\n",
      "153/153 [==============================] - 1s 6ms/step - loss: 0.0329 - acc: 0.9913 - val_loss: 0.1012 - val_acc: 0.9727\n",
      "Epoch 13/25\n",
      "153/153 [==============================] - 1s 6ms/step - loss: 0.0291 - acc: 0.9923 - val_loss: 0.1094 - val_acc: 0.9727\n",
      "Epoch 14/25\n",
      "153/153 [==============================] - 1s 5ms/step - loss: 0.0239 - acc: 0.9936 - val_loss: 0.1151 - val_acc: 0.9713\n",
      "Epoch 15/25\n",
      "153/153 [==============================] - 1s 6ms/step - loss: 0.0223 - acc: 0.9941 - val_loss: 0.1160 - val_acc: 0.9707\n",
      "Epoch 16/25\n",
      "153/153 [==============================] - 1s 6ms/step - loss: 0.0193 - acc: 0.9950 - val_loss: 0.1111 - val_acc: 0.9733\n",
      "Epoch 17/25\n",
      "153/153 [==============================] - 1s 5ms/step - loss: 0.0154 - acc: 0.9965 - val_loss: 0.1130 - val_acc: 0.9737\n",
      "Epoch 18/25\n",
      "153/153 [==============================] - 1s 5ms/step - loss: 0.0120 - acc: 0.9974 - val_loss: 0.1162 - val_acc: 0.9720\n",
      "Epoch 19/25\n",
      "153/153 [==============================] - 1s 5ms/step - loss: 0.0114 - acc: 0.9973 - val_loss: 0.1149 - val_acc: 0.9727\n",
      "Epoch 20/25\n",
      "153/153 [==============================] - 1s 5ms/step - loss: 0.0090 - acc: 0.9984 - val_loss: 0.1155 - val_acc: 0.9727\n",
      "Epoch 21/25\n",
      "153/153 [==============================] - 1s 5ms/step - loss: 0.0075 - acc: 0.9987 - val_loss: 0.1147 - val_acc: 0.9723\n",
      "Epoch 22/25\n",
      "153/153 [==============================] - 1s 5ms/step - loss: 0.0065 - acc: 0.9992 - val_loss: 0.1216 - val_acc: 0.9740\n",
      "Epoch 23/25\n",
      "153/153 [==============================] - 1s 5ms/step - loss: 0.0056 - acc: 0.9993 - val_loss: 0.1268 - val_acc: 0.9707\n",
      "Epoch 24/25\n",
      "153/153 [==============================] - 1s 5ms/step - loss: 0.0038 - acc: 0.9998 - val_loss: 0.1278 - val_acc: 0.9720\n",
      "Epoch 25/25\n",
      "153/153 [==============================] - 1s 5ms/step - loss: 0.0058 - acc: 0.9989 - val_loss: 0.1282 - val_acc: 0.9720\n"
     ]
    },
    {
     "output_type": "execute_result",
     "data": {
      "text/plain": [
       "<tensorflow.python.keras.callbacks.History at 0x7f5990bb9f40>"
      ]
     },
     "metadata": {},
     "execution_count": 8
    }
   ],
   "source": [
    "## 25 epochs to get close to 0 loss.\n",
    "batch_size = 256 ## Trial and error reveals this to be quick without stochastic bumps.\n",
    "model.fit(X, y, epochs=25, batch_size=batch_size, validation_data=(X_val, y_val))"
   ]
  },
  {
   "cell_type": "code",
   "execution_count": 11,
   "metadata": {},
   "outputs": [
    {
     "output_type": "stream",
     "name": "stdout",
     "text": [
      "Epoch 1/5\n",
      "153/153 [==============================] - 1s 5ms/step - loss: 0.0034 - acc: 0.9993 - val_loss: 0.1365 - val_acc: 0.9730\n",
      "Epoch 2/5\n",
      "153/153 [==============================] - 1s 5ms/step - loss: 0.0011 - acc: 1.0000 - val_loss: 0.1364 - val_acc: 0.9747\n",
      "Epoch 3/5\n",
      "153/153 [==============================] - 1s 5ms/step - loss: 6.1042e-04 - acc: 1.0000 - val_loss: 0.1410 - val_acc: 0.9730\n",
      "Epoch 4/5\n",
      "153/153 [==============================] - 1s 5ms/step - loss: 4.8987e-04 - acc: 1.0000 - val_loss: 0.1430 - val_acc: 0.9737\n",
      "Epoch 5/5\n",
      "153/153 [==============================] - 1s 5ms/step - loss: 4.3166e-04 - acc: 1.0000 - val_loss: 0.1459 - val_acc: 0.9720\n"
     ]
    },
    {
     "output_type": "execute_result",
     "data": {
      "text/plain": [
       "<tensorflow.python.keras.callbacks.History at 0x7f5990b92e80>"
      ]
     },
     "metadata": {},
     "execution_count": 11
    }
   ],
   "source": [
    "## We can now babysit by re-running until there's no consistent improvement in \n",
    "## training loss.\n",
    "\n",
    "model.fit(X, y, epochs=5, batch_size=batch_size, validation_data=(X_val, y_val))"
   ]
  },
  {
   "source": [
    "## First ever Keras model complete.\n",
    "\n",
    "That model was doomed to overfit the data; after about 45 epochs, acc = 100%. Validation loss has actually been increasing\n",
    "despite the accuracy being consistently between .972 and .974\n",
    "Next, I learn to add L2 regularization to reduce variance.\n",
    "\n",
    "We can [add regularizers to layers](https://keras.io/api/layers/regularizers/) by specifying a regularizer."
   ],
   "cell_type": "markdown",
   "metadata": {}
  },
  {
   "cell_type": "code",
   "execution_count": 14,
   "metadata": {},
   "outputs": [
    {
     "output_type": "stream",
     "name": "stdout",
     "text": [
      "Model: \"L2_Regularized_Model\"\n_________________________________________________________________\nLayer (type)                 Output Shape              Param #   \n=================================================================\ninput_3 (InputLayer)         [(None, 784)]             0         \n_________________________________________________________________\nrescaling_2 (Rescaling)      (None, 784)               0         \n_________________________________________________________________\ndense_6 (Dense)              (None, 100)               78500     \n_________________________________________________________________\ndense_7 (Dense)              (None, 100)               10100     \n_________________________________________________________________\ndense_8 (Dense)              (None, 10)                1010      \n=================================================================\nTotal params: 89,610\nTrainable params: 89,610\nNon-trainable params: 0\n_________________________________________________________________\n"
     ]
    }
   ],
   "source": [
    "##Build a model with regularization\n",
    "\n",
    "## I ran this once with alpha = .01 and it made very slow progress. That might be necessary,\n",
    "## but I am starting with a conservative .0003. We don't have that much variance in the\n",
    "## simple model.\n",
    "\n",
    "inputs = keras.Input(shape=(784))\n",
    "x = layers.experimental.preprocessing.Rescaling(1./255)(inputs)\n",
    "x = layers.Dense(100, activation='relu',\n",
    "                    kernel_regularizer=keras.regularizers.l2(0.0003))(x)\n",
    "x = layers.Dense(100, activation='relu',\n",
    "                    kernel_regularizer=keras.regularizers.l2(0.0003))(x)\n",
    "outputs = layers.Dense(10, activation='softmax')(x)\n",
    "model_reg = keras.Model(inputs=inputs,outputs=outputs, name='L2_Regularized_Model')\n",
    "model_reg.summary()\n"
   ]
  },
  {
   "cell_type": "code",
   "execution_count": 15,
   "metadata": {},
   "outputs": [
    {
     "output_type": "stream",
     "name": "stdout",
     "text": [
      "153/153 [==============================] - 1s 6ms/step - loss: 0.6049 - acc: 0.8555 - val_loss: 0.3173 - val_acc: 0.9310\n"
     ]
    },
    {
     "output_type": "execute_result",
     "data": {
      "text/plain": [
       "<tensorflow.python.keras.callbacks.History at 0x7f5990f6a400>"
      ]
     },
     "metadata": {},
     "execution_count": 15
    }
   ],
   "source": [
    "## Compile and run once to see if everything looks right\n",
    "model_reg.compile(optimizer=\"adam\", \n",
    "                loss=\"sparse_categorical_crossentropy\",\n",
    "                metrics=[keras.metrics.SparseCategoricalAccuracy(name=\"acc\")],\n",
    "            )\n",
    "model_reg.fit(X, y, epochs=1, batch_size=batch_size, validation_data=(X_val, y_val))"
   ]
  },
  {
   "cell_type": "code",
   "execution_count": 17,
   "metadata": {},
   "outputs": [
    {
     "output_type": "stream",
     "name": "stdout",
     "text": [
      "Epoch 1/100\n",
      "153/153 - 1s - loss: 0.0484 - acc: 0.9936 - val_loss: 0.1415 - val_acc: 0.9730\n",
      "Epoch 2/100\n",
      "153/153 - 1s - loss: 0.0436 - acc: 0.9962 - val_loss: 0.1323 - val_acc: 0.9707\n",
      "Epoch 3/100\n",
      "153/153 - 1s - loss: 0.0420 - acc: 0.9965 - val_loss: 0.1290 - val_acc: 0.9747\n",
      "Epoch 4/100\n",
      "153/153 - 1s - loss: 0.0376 - acc: 0.9983 - val_loss: 0.1204 - val_acc: 0.9753\n",
      "Epoch 5/100\n",
      "153/153 - 1s - loss: 0.0332 - acc: 0.9993 - val_loss: 0.1088 - val_acc: 0.9807\n",
      "Epoch 6/100\n",
      "153/153 - 1s - loss: 0.0317 - acc: 0.9994 - val_loss: 0.1151 - val_acc: 0.9770\n",
      "Epoch 7/100\n",
      "153/153 - 1s - loss: 0.0304 - acc: 0.9996 - val_loss: 0.1091 - val_acc: 0.9757\n",
      "Epoch 8/100\n",
      "153/153 - 1s - loss: 0.0353 - acc: 0.9977 - val_loss: 0.1212 - val_acc: 0.9730\n",
      "Epoch 9/100\n",
      "153/153 - 1s - loss: 0.0381 - acc: 0.9967 - val_loss: 0.1138 - val_acc: 0.9770\n",
      "Epoch 10/100\n",
      "153/153 - 1s - loss: 0.0456 - acc: 0.9945 - val_loss: 0.1539 - val_acc: 0.9657\n",
      "Epoch 11/100\n",
      "153/153 - 1s - loss: 0.0480 - acc: 0.9943 - val_loss: 0.1367 - val_acc: 0.9757\n",
      "Epoch 12/100\n",
      "153/153 - 1s - loss: 0.0425 - acc: 0.9965 - val_loss: 0.1166 - val_acc: 0.9780\n",
      "Epoch 13/100\n",
      "153/153 - 1s - loss: 0.0377 - acc: 0.9977 - val_loss: 0.1104 - val_acc: 0.9793\n",
      "Epoch 14/100\n",
      "153/153 - 1s - loss: 0.0335 - acc: 0.9991 - val_loss: 0.1182 - val_acc: 0.9757\n",
      "Epoch 15/100\n",
      "153/153 - 1s - loss: 0.0306 - acc: 0.9997 - val_loss: 0.1158 - val_acc: 0.9760\n",
      "Epoch 16/100\n",
      "153/153 - 1s - loss: 0.0281 - acc: 0.9999 - val_loss: 0.1101 - val_acc: 0.9770\n",
      "Epoch 17/100\n",
      "153/153 - 1s - loss: 0.0267 - acc: 1.0000 - val_loss: 0.1021 - val_acc: 0.9797\n",
      "Epoch 18/100\n",
      "153/153 - 1s - loss: 0.0279 - acc: 0.9995 - val_loss: 0.1151 - val_acc: 0.9737\n",
      "Epoch 19/100\n",
      "153/153 - 1s - loss: 0.0589 - acc: 0.9886 - val_loss: 0.1369 - val_acc: 0.9733\n",
      "Epoch 20/100\n",
      "153/153 - 1s - loss: 0.0528 - acc: 0.9920 - val_loss: 0.1230 - val_acc: 0.9730\n",
      "Epoch 21/100\n",
      "153/153 - 1s - loss: 0.0395 - acc: 0.9971 - val_loss: 0.1239 - val_acc: 0.9757\n",
      "Epoch 22/100\n",
      "153/153 - 1s - loss: 0.0351 - acc: 0.9985 - val_loss: 0.1277 - val_acc: 0.9757\n",
      "Epoch 23/100\n",
      "153/153 - 1s - loss: 0.0326 - acc: 0.9990 - val_loss: 0.1090 - val_acc: 0.9767\n",
      "Epoch 24/100\n",
      "153/153 - 1s - loss: 0.0292 - acc: 0.9997 - val_loss: 0.1112 - val_acc: 0.9780\n",
      "Epoch 25/100\n",
      "153/153 - 1s - loss: 0.0275 - acc: 0.9999 - val_loss: 0.1099 - val_acc: 0.9770\n",
      "Epoch 26/100\n",
      "153/153 - 1s - loss: 0.0256 - acc: 1.0000 - val_loss: 0.1049 - val_acc: 0.9767\n",
      "Epoch 27/100\n",
      "153/153 - 1s - loss: 0.0342 - acc: 0.9971 - val_loss: 0.1437 - val_acc: 0.9677\n",
      "Epoch 28/100\n",
      "153/153 - 1s - loss: 0.0520 - acc: 0.9916 - val_loss: 0.1286 - val_acc: 0.9710\n",
      "Epoch 29/100\n",
      "153/153 - 1s - loss: 0.0489 - acc: 0.9931 - val_loss: 0.1286 - val_acc: 0.9720\n",
      "Epoch 30/100\n",
      "153/153 - 1s - loss: 0.0430 - acc: 0.9960 - val_loss: 0.1246 - val_acc: 0.9733\n",
      "Epoch 31/100\n",
      "153/153 - 1s - loss: 0.0340 - acc: 0.9987 - val_loss: 0.1268 - val_acc: 0.9723\n",
      "Epoch 32/100\n",
      "153/153 - 1s - loss: 0.0309 - acc: 0.9993 - val_loss: 0.1118 - val_acc: 0.9763\n",
      "Epoch 33/100\n",
      "153/153 - 1s - loss: 0.0286 - acc: 0.9997 - val_loss: 0.1094 - val_acc: 0.9773\n",
      "Epoch 34/100\n",
      "153/153 - 1s - loss: 0.0267 - acc: 0.9999 - val_loss: 0.1119 - val_acc: 0.9743\n",
      "Epoch 35/100\n",
      "153/153 - 1s - loss: 0.0261 - acc: 0.9997 - val_loss: 0.1128 - val_acc: 0.9750\n",
      "Epoch 36/100\n",
      "153/153 - 1s - loss: 0.0450 - acc: 0.9930 - val_loss: 0.1450 - val_acc: 0.9667\n",
      "Epoch 37/100\n",
      "153/153 - 1s - loss: 0.0481 - acc: 0.9934 - val_loss: 0.1324 - val_acc: 0.9743\n",
      "Epoch 38/100\n",
      "153/153 - 1s - loss: 0.0385 - acc: 0.9967 - val_loss: 0.1184 - val_acc: 0.9747\n",
      "Epoch 39/100\n",
      "153/153 - 1s - loss: 0.0380 - acc: 0.9969 - val_loss: 0.1230 - val_acc: 0.9747\n",
      "Epoch 40/100\n",
      "153/153 - 1s - loss: 0.0394 - acc: 0.9965 - val_loss: 0.1130 - val_acc: 0.9767\n",
      "Epoch 41/100\n",
      "153/153 - 1s - loss: 0.0312 - acc: 0.9993 - val_loss: 0.1116 - val_acc: 0.9763\n",
      "Epoch 42/100\n",
      "153/153 - 1s - loss: 0.0274 - acc: 0.9999 - val_loss: 0.1033 - val_acc: 0.9773\n",
      "Epoch 43/100\n",
      "153/153 - 1s - loss: 0.0256 - acc: 0.9999 - val_loss: 0.1007 - val_acc: 0.9767\n",
      "Epoch 44/100\n",
      "153/153 - 1s - loss: 0.0262 - acc: 0.9997 - val_loss: 0.1093 - val_acc: 0.9767\n",
      "Epoch 45/100\n",
      "153/153 - 1s - loss: 0.0245 - acc: 1.0000 - val_loss: 0.1072 - val_acc: 0.9750\n",
      "Epoch 46/100\n",
      "153/153 - 1s - loss: 0.0287 - acc: 0.9984 - val_loss: 0.1210 - val_acc: 0.9707\n",
      "Epoch 47/100\n",
      "153/153 - 1s - loss: 0.0640 - acc: 0.9869 - val_loss: 0.1489 - val_acc: 0.9660\n",
      "Epoch 48/100\n",
      "153/153 - 1s - loss: 0.0502 - acc: 0.9922 - val_loss: 0.1234 - val_acc: 0.9733\n",
      "Epoch 49/100\n",
      "153/153 - 1s - loss: 0.0385 - acc: 0.9971 - val_loss: 0.1219 - val_acc: 0.9767\n",
      "Epoch 50/100\n",
      "153/153 - 1s - loss: 0.0311 - acc: 0.9994 - val_loss: 0.1185 - val_acc: 0.9753\n",
      "Epoch 51/100\n",
      "153/153 - 1s - loss: 0.0276 - acc: 1.0000 - val_loss: 0.1122 - val_acc: 0.9767\n",
      "Epoch 52/100\n",
      "153/153 - 1s - loss: 0.0254 - acc: 1.0000 - val_loss: 0.1050 - val_acc: 0.9793\n",
      "Epoch 53/100\n",
      "153/153 - 1s - loss: 0.0241 - acc: 1.0000 - val_loss: 0.1078 - val_acc: 0.9753\n",
      "Epoch 54/100\n",
      "153/153 - 1s - loss: 0.0241 - acc: 0.9999 - val_loss: 0.1041 - val_acc: 0.9747\n",
      "Epoch 55/100\n",
      "153/153 - 1s - loss: 0.0382 - acc: 0.9950 - val_loss: 0.1425 - val_acc: 0.9680\n",
      "Epoch 56/100\n",
      "153/153 - 1s - loss: 0.0492 - acc: 0.9914 - val_loss: 0.1389 - val_acc: 0.9710\n",
      "Epoch 57/100\n",
      "153/153 - 1s - loss: 0.0437 - acc: 0.9944 - val_loss: 0.1283 - val_acc: 0.9727\n",
      "Epoch 58/100\n",
      "153/153 - 1s - loss: 0.0394 - acc: 0.9958 - val_loss: 0.1342 - val_acc: 0.9743\n",
      "Epoch 59/100\n",
      "153/153 - 1s - loss: 0.0362 - acc: 0.9974 - val_loss: 0.1263 - val_acc: 0.9743\n",
      "Epoch 60/100\n",
      "153/153 - 1s - loss: 0.0300 - acc: 0.9992 - val_loss: 0.1164 - val_acc: 0.9787\n",
      "Epoch 61/100\n",
      "153/153 - 1s - loss: 0.0262 - acc: 0.9999 - val_loss: 0.1049 - val_acc: 0.9783\n",
      "Epoch 62/100\n",
      "153/153 - 1s - loss: 0.0244 - acc: 0.9999 - val_loss: 0.1083 - val_acc: 0.9773\n",
      "Epoch 63/100\n",
      "153/153 - 1s - loss: 0.0234 - acc: 0.9999 - val_loss: 0.1007 - val_acc: 0.9780\n",
      "Epoch 64/100\n",
      "153/153 - 1s - loss: 0.0225 - acc: 0.9999 - val_loss: 0.1095 - val_acc: 0.9753\n",
      "Epoch 65/100\n",
      "153/153 - 1s - loss: 0.0232 - acc: 0.9998 - val_loss: 0.1116 - val_acc: 0.9750\n",
      "Epoch 66/100\n",
      "153/153 - 1s - loss: 0.0547 - acc: 0.9893 - val_loss: 0.1406 - val_acc: 0.9700\n",
      "Epoch 67/100\n",
      "153/153 - 1s - loss: 0.0532 - acc: 0.9909 - val_loss: 0.1094 - val_acc: 0.9783\n",
      "Epoch 68/100\n",
      "153/153 - 1s - loss: 0.0389 - acc: 0.9962 - val_loss: 0.1276 - val_acc: 0.9740\n",
      "Epoch 69/100\n",
      "153/153 - 1s - loss: 0.0358 - acc: 0.9971 - val_loss: 0.1154 - val_acc: 0.9750\n",
      "Epoch 70/100\n",
      "153/153 - 1s - loss: 0.0322 - acc: 0.9984 - val_loss: 0.1256 - val_acc: 0.9730\n",
      "Epoch 71/100\n",
      "153/153 - 1s - loss: 0.0290 - acc: 0.9993 - val_loss: 0.1088 - val_acc: 0.9783\n",
      "Epoch 72/100\n",
      "153/153 - 1s - loss: 0.0275 - acc: 0.9994 - val_loss: 0.1083 - val_acc: 0.9763\n",
      "Epoch 73/100\n",
      "153/153 - 1s - loss: 0.0247 - acc: 0.9998 - val_loss: 0.1057 - val_acc: 0.9760\n",
      "Epoch 74/100\n",
      "153/153 - 1s - loss: 0.0239 - acc: 0.9998 - val_loss: 0.1131 - val_acc: 0.9743\n",
      "Epoch 75/100\n",
      "153/153 - 1s - loss: 0.0428 - acc: 0.9931 - val_loss: 0.1670 - val_acc: 0.9657\n",
      "Epoch 76/100\n",
      "153/153 - 1s - loss: 0.0483 - acc: 0.9919 - val_loss: 0.1119 - val_acc: 0.9753\n",
      "Epoch 77/100\n",
      "153/153 - 1s - loss: 0.0390 - acc: 0.9958 - val_loss: 0.1214 - val_acc: 0.9760\n",
      "Epoch 78/100\n",
      "153/153 - 1s - loss: 0.0328 - acc: 0.9982 - val_loss: 0.1120 - val_acc: 0.9770\n",
      "Epoch 79/100\n",
      "153/153 - 1s - loss: 0.0318 - acc: 0.9982 - val_loss: 0.1222 - val_acc: 0.9760\n",
      "Epoch 80/100\n",
      "153/153 - 1s - loss: 0.0279 - acc: 0.9995 - val_loss: 0.1172 - val_acc: 0.9743\n",
      "Epoch 81/100\n",
      "153/153 - 1s - loss: 0.0267 - acc: 0.9995 - val_loss: 0.1111 - val_acc: 0.9757\n",
      "Epoch 82/100\n",
      "153/153 - 1s - loss: 0.0247 - acc: 0.9997 - val_loss: 0.1123 - val_acc: 0.9753\n",
      "Epoch 83/100\n",
      "153/153 - 1s - loss: 0.0316 - acc: 0.9974 - val_loss: 0.1399 - val_acc: 0.9697\n",
      "Epoch 84/100\n",
      "153/153 - 1s - loss: 0.0525 - acc: 0.9900 - val_loss: 0.1300 - val_acc: 0.9707\n",
      "Epoch 85/100\n",
      "153/153 - 1s - loss: 0.0396 - acc: 0.9956 - val_loss: 0.1303 - val_acc: 0.9727\n",
      "Epoch 86/100\n",
      "153/153 - 1s - loss: 0.0352 - acc: 0.9973 - val_loss: 0.1297 - val_acc: 0.9743\n",
      "Epoch 87/100\n",
      "153/153 - 1s - loss: 0.0289 - acc: 0.9994 - val_loss: 0.1188 - val_acc: 0.9760\n",
      "Epoch 88/100\n",
      "153/153 - 1s - loss: 0.0311 - acc: 0.9981 - val_loss: 0.1383 - val_acc: 0.9720\n",
      "Epoch 89/100\n",
      "153/153 - 1s - loss: 0.0325 - acc: 0.9978 - val_loss: 0.1371 - val_acc: 0.9737\n",
      "Epoch 90/100\n",
      "153/153 - 1s - loss: 0.0352 - acc: 0.9971 - val_loss: 0.1153 - val_acc: 0.9763\n",
      "Epoch 91/100\n",
      "153/153 - 1s - loss: 0.0312 - acc: 0.9981 - val_loss: 0.1093 - val_acc: 0.9760\n",
      "Epoch 92/100\n",
      "153/153 - 1s - loss: 0.0291 - acc: 0.9988 - val_loss: 0.1202 - val_acc: 0.9750\n",
      "Epoch 93/100\n",
      "153/153 - 1s - loss: 0.0317 - acc: 0.9979 - val_loss: 0.1367 - val_acc: 0.9683\n",
      "Epoch 94/100\n",
      "153/153 - 1s - loss: 0.0407 - acc: 0.9946 - val_loss: 0.1205 - val_acc: 0.9733\n",
      "Epoch 95/100\n",
      "153/153 - 1s - loss: 0.0377 - acc: 0.9962 - val_loss: 0.1242 - val_acc: 0.9740\n",
      "Epoch 96/100\n",
      "153/153 - 1s - loss: 0.0327 - acc: 0.9979 - val_loss: 0.1167 - val_acc: 0.9763\n",
      "Epoch 97/100\n",
      "153/153 - 1s - loss: 0.0278 - acc: 0.9995 - val_loss: 0.1133 - val_acc: 0.9780\n",
      "Epoch 98/100\n",
      "153/153 - 1s - loss: 0.0257 - acc: 0.9996 - val_loss: 0.1169 - val_acc: 0.9713\n",
      "Epoch 99/100\n",
      "153/153 - 1s - loss: 0.0264 - acc: 0.9990 - val_loss: 0.1132 - val_acc: 0.9737\n",
      "Epoch 100/100\n",
      "153/153 - 1s - loss: 0.0280 - acc: 0.9985 - val_loss: 0.1165 - val_acc: 0.9743\n"
     ]
    },
    {
     "output_type": "execute_result",
     "data": {
      "text/plain": [
       "<tensorflow.python.keras.callbacks.History at 0x7f5990f16eb0>"
      ]
     },
     "metadata": {},
     "execution_count": 17
    }
   ],
   "source": [
    "model_reg.fit(X, y, epochs=100, verbose = 2, batch_size=batch_size, validation_data=(X_val, y_val))"
   ]
  },
  {
   "source": [
    "## Punch list\n",
    "\n",
    "Things to do:\n",
    "- Write a simple function to matplotlib the loss, given a history.\n",
    "- Learn about the hyperparameter tuning process.\n",
    "\n",
    "But first, **dropout** regularization."
   ],
   "cell_type": "markdown",
   "metadata": {}
  },
  {
   "cell_type": "code",
   "execution_count": 18,
   "metadata": {},
   "outputs": [
    {
     "output_type": "execute_result",
     "data": {
      "text/plain": [
       "<tensorflow.python.keras.engine.training.Model at 0x7f5990d56880>"
      ]
     },
     "metadata": {},
     "execution_count": 18
    }
   ],
   "source": [
    "model"
   ]
  },
  {
   "cell_type": "code",
   "execution_count": null,
   "metadata": {},
   "outputs": [],
   "source": []
  }
 ]
}