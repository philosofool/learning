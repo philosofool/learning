{
 "metadata": {
  "language_info": {
   "codemirror_mode": {
    "name": "ipython",
    "version": 3
   },
   "file_extension": ".py",
   "mimetype": "text/x-python",
   "name": "python",
   "nbconvert_exporter": "python",
   "pygments_lexer": "ipython3",
   "version": "3.8.5-final"
  },
  "orig_nbformat": 2,
  "kernelspec": {
   "name": "tensorflow",
   "display_name": "Python 3.8 (tensorflow)"
  }
 },
 "nbformat": 4,
 "nbformat_minor": 2,
 "cells": [
  {
   "source": [
    "# Using Callbacks\n",
    "\n",
    "Callbacks are an integral part of Keras. Callbacks are used to get performance information, log progress, halt in the event of errors, tune parameters, save model state (in case of crash, etc.), finish training once loss is minimized. The list goes on.\n",
    "\n",
    "## Goals\n",
    "\n",
    "The overarching goal is to learn to use callbacks for some typical tasks. These include:\n",
    "- Reporting about training progress.\n",
    "- Stoping once training no longer reduces loss.\n",
    "- Tuning hyperparameters.\n",
    "- Implementing adaptive learning rate decay.\n",
    "- Finding an optimal batch-size for training.\n",
    "- Putting some of this into ```my_keras_utils.py``` so that they can be easily called and reused.\n",
    "\n",
    "## What's Here?\n",
    "\n",
    "I continue working with MNIST data, which I began working with in [my first Keras models](first_model.ipynb). \n",
    "\n",
    "My **concrete objective** is to tune a model that does well on Kaggle: 97th percentile? That's tough, but I think I can make it work."
   ],
   "cell_type": "markdown",
   "metadata": {}
  },
  {
   "cell_type": "code",
   "execution_count": 1,
   "metadata": {},
   "outputs": [],
   "source": [
    "import numpy as np\n",
    "import pandas as pd\n",
    "import tensorflow as tf\n",
    "from tensorflow import keras\n",
    "from tensorflow.keras import layers\n",
    "\n",
    "import my_keras_utils as my_utils"
   ]
  },
  {
   "cell_type": "code",
   "execution_count": 4,
   "metadata": {},
   "outputs": [
    {
     "output_type": "execute_result",
     "data": {
      "text/plain": [
       "(38000, 784)"
      ]
     },
     "metadata": {},
     "execution_count": 4
    }
   ],
   "source": [
    "## Load our data.\n",
    "## Since the load process is a little slow, the try-except allows us to re-run all \n",
    "## cells without having to wait. \n",
    "try:\n",
    "    ## Raises NameError and loads data if X_train is not defined.\n",
    "    X_train.shape\n",
    "except NameError: \n",
    "    ((X_train, y_train), (X_dev, y_dev), (X_test, y_test)) = my_utils.load_kaggle_mnist()\n",
    "X_train.shape\n",
    "\n",
    "\n"
   ]
  },
  {
   "cell_type": "code",
   "execution_count": 7,
   "metadata": {},
   "outputs": [
    {
     "output_type": "execute_result",
     "data": {
      "text/plain": [
       "(38000, 784)"
      ]
     },
     "metadata": {},
     "execution_count": 7
    }
   ],
   "source": []
  },
  {
   "cell_type": "code",
   "execution_count": null,
   "metadata": {},
   "outputs": [],
   "source": []
  }
 ]
}