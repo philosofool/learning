{
 "cells": [
  {
   "cell_type": "code",
   "execution_count": null,
   "metadata": {},
   "outputs": [],
   "source": [
    "import numpy as np\n",
    "import pandas as pd\n",
    "import os"
   ]
  },
  {
   "cell_type": "code",
   "execution_count": null,
   "metadata": {},
   "outputs": [],
   "source": [
    "import tensorflow as tf, keras\n",
    "from keras import layers\n",
    "from keras.layers import StringLookup, IntegerLookup, Embedding, Normalization, Dense"
   ]
  },
  {
   "cell_type": "code",
   "execution_count": null,
   "metadata": {},
   "outputs": [],
   "source": [
    "path = os.path.normpath(\"C:\\\\Users\\lenha\\Dropbox\\\\baseball\\\\all_seasons_hitters.csv\")"
   ]
  },
  {
   "cell_type": "code",
   "execution_count": null,
   "metadata": {},
   "outputs": [],
   "source": [
    "df = pd.read_csv(path)\n",
    "df = (\n",
    "    df.rename(columns={\"K%\": \"K\", \"BB%\": \"BB\"})\n",
    "    .assign(BB=lambda df: df['BB'].str.replace('%', \"\"), K=lambda df: df['K'].str.replace('%', \"\"))\n",
    "    .astype({\"BB\": 'float', 'K': 'float'})\n",
    "    .drop(columns=['xwOBA'])\n",
    ")\n",
    "df = df.merge(df.assign(Season=lambda df: df.Season + 1, target=lambda df: df.HR)[['Season', 'playerid','target']], on=['Season', 'playerid'], how='left').dropna()\n",
    "df"
   ]
  },
  {
   "cell_type": "code",
   "execution_count": null,
   "metadata": {},
   "outputs": [],
   "source": [
    "def make_encoders(df: pd.DataFrame, as_cat=set()) -> dict:\n",
    "    encoders = {}\n",
    "    for col in df:\n",
    "\n",
    "        name=f\"{col}_encoder\"\n",
    "        if df[col].dtype == 'object' or col in as_cat:\n",
    "            # print(df[col])\n",
    "            if isinstance(df[col][0], str):\n",
    "                lookup_layer = keras.layers.StringLookup\n",
    "                print(col, \" is string type.\")\n",
    "            else:\n",
    "                print(col, \"is int type.\")\n",
    "                lookup_layer = keras.layers.IntegerLookup\n",
    "            values =  df[col].unique().tolist()\n",
    "            lookup = lookup_layer(vocabulary=values)\n",
    "            embedding = keras.layers.Embedding(len(values), int(np.log(len(values))))\n",
    "            # FIXME: just pass an input to the damned sequence.\n",
    "            # and flatten\n",
    "            print(lookup)\n",
    "            flatten = layers.Flatten()\n",
    "            encoder = keras.layers.Lambda(lambda x: flatten(embedding(lookup_layer(x))), name=name)\n",
    "            encoders[col] = encoder\n",
    "        else:\n",
    "            print(col, \" is numeric.\")\n",
    "            encoders[col] = keras.layers.Normalization(name=name)\n",
    "        # encoders[col] = map_to_encoder(args)\n",
    "    return encoders\n",
    "\n",
    "def make_inputs(df, as_cat=set()) -> dict:\n",
    "    encoders = make_encoders(df, as_cat)\n",
    "    return {k: encoder(keras.Input(shape=(1,), name=k)) for k, encoder in encoders.items()}\n"
   ]
  },
  {
   "cell_type": "code",
   "execution_count": null,
   "metadata": {},
   "outputs": [],
   "source": [
    "from sklearn.model_selection import train_test_split\n",
    "\n",
    "def prepare_data(df: pd.DataFrame) -> tuple[pd.DataFrame, ...]:\n",
    "    df = df.copy()\n",
    "    test_size = int(min(len(df) / 5, 5_000))\n",
    "    target = df.pop('target')\n",
    "    split_data = train_test_split(df, target, test_size=test_size)\n",
    "    return [dict(df) for df in splilt]\n",
    "\n",
    "x_train, x_val, y_train, y_val = prepare_data(df.drop(columns='Name'))"
   ]
  },
  {
   "cell_type": "code",
   "execution_count": null,
   "metadata": {},
   "outputs": [],
   "source": [
    "StringLookup(vocabulary=['SEA'])(['se', 'SEA'])"
   ]
  },
  {
   "cell_type": "code",
   "execution_count": null,
   "metadata": {},
   "outputs": [],
   "source": [
    "inputs = make_inputs(x_train, as_cat=['playerid', 'Season'])\n",
    "inputs"
   ]
  },
  {
   "cell_type": "code",
   "execution_count": null,
   "metadata": {},
   "outputs": [],
   "source": [
    "list(inputs.values())"
   ]
  },
  {
   "cell_type": "code",
   "execution_count": null,
   "metadata": {},
   "outputs": [],
   "source": [
    "x = layers.Concatenate()(list(inputs.values()))\n",
    "out = Dense(1, activation='sigmoid')(x)\n",
    "model = keras.Model(inputs, out)"
   ]
  },
  {
   "cell_type": "code",
   "execution_count": null,
   "metadata": {},
   "outputs": [],
   "source": [
    "model.compile('adam', keras.losses.MeanSquaredError())"
   ]
  },
  {
   "cell_type": "code",
   "execution_count": null,
   "metadata": {},
   "outputs": [],
   "source": [
    "x_train.values"
   ]
  },
  {
   "cell_type": "code",
   "execution_count": null,
   "metadata": {},
   "outputs": [],
   "source": [
    "model.fit(x_train.values, y_train.values)"
   ]
  },
  {
   "cell_type": "code",
   "execution_count": null,
   "metadata": {},
   "outputs": [],
   "source": [
    "for i in range(12):\n",
    "    print(f\"    {i}: ( ),\")"
   ]
  }
 ],
 "metadata": {
  "kernelspec": {
   "display_name": ".venv",
   "language": "python",
   "name": "python3"
  },
  "language_info": {
   "codemirror_mode": {
    "name": "ipython",
    "version": 3
   },
   "file_extension": ".py",
   "mimetype": "text/x-python",
   "name": "python",
   "nbconvert_exporter": "python",
   "pygments_lexer": "ipython3",
   "version": "3.11.9"
  }
 },
 "nbformat": 4,
 "nbformat_minor": 2
}
