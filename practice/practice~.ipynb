{
 "cells": [
  {
   "cell_type": "markdown",
   "metadata": {},
   "source": [
    "## Practice Data"
   ]
  },
  {
   "cell_type": "code",
   "execution_count": 42,
   "metadata": {},
   "outputs": [],
   "source": [
    "import os\n",
    "import pandas as pd\n",
    "import numpy as np"
   ]
  },
  {
   "cell_type": "code",
   "execution_count": 43,
   "metadata": {},
   "outputs": [],
   "source": [
    "import tensorflow as tf, keras\n",
    "from keras import layers\n",
    "from keras.layers import StringLookup, IntegerLookup, Embedding, Normalization, Dense"
   ]
  },
  {
   "cell_type": "code",
   "execution_count": 44,
   "metadata": {},
   "outputs": [],
   "source": [
    "path = os.path.normpath(\"practice_baseball_data.csv\")"
   ]
  },
  {
   "cell_type": "code",
   "execution_count": 45,
   "metadata": {},
   "outputs": [
    {
     "name": "stderr",
     "output_type": "stream",
     "text": [
      "C:\\Users\\lenha\\AppData\\Local\\Temp\\ipykernel_2036\\114222278.py:4: FutureWarning: The provided callable <function mean at 0x000002207FB687C0> is currently using SeriesGroupBy.mean. In a future version of pandas, the provided callable will be used directly. To keep current behavior pass the string \"mean\" instead.\n",
      "  above_average_for_season = df.groupby(['Season'])['HR'].transform(np.mean)\n"
     ]
    },
    {
     "data": {
      "text/plain": [
       "label       int32\n",
       "Season      int64\n",
       "HR          int64\n",
       "K         float64\n",
       "BB        float64\n",
       "PA          int64\n",
       "Team       object\n",
       "dtype: object"
      ]
     },
     "execution_count": 45,
     "metadata": {},
     "output_type": "execute_result"
    }
   ],
   "source": [
    "df = pd.read_csv(path)\n",
    "\n",
    "def make_label(df) -> pd.Series:\n",
    "    above_average_for_season = df.groupby(['Season'])['HR'].transform(np.mean)\n",
    "    return (df.HR > above_average_for_season).astype(int)\n",
    "\n",
    "\n",
    "def preprocess_data(df) -> pd.DataFrame:\n",
    "    \"\"\"Not really a part of practice. This is cleaning we would normally expect to be finished.\"\"\"\n",
    "    df = (\n",
    "        df.rename(columns={\"K%\": \"K\", \"BB%\": \"BB\"})\n",
    "        .assign(BB=lambda df: df['BB'].str.replace('%', \"\"), K=lambda df: df['K'].str.replace('%', \"\"))\n",
    "        .astype({\"BB\": 'float', 'K': 'float'})\n",
    "        .drop(columns=['xwOBA'])\n",
    "    )\n",
    "    df = df.merge(df.assign(Season=lambda df: df.Season + 1, label=make_label)[['Season', 'playerid','label']], on=['Season', 'playerid'], how='left').dropna()\n",
    "    df.label = df.label.astype(int)\n",
    "    return df\n",
    "\n",
    "df = preprocess_data(df)\n",
    "# df = df.drop(columns=['Name', \"Team\"])\n",
    "selected = ['label'] + [\"Season\", \"HR\", \"K\", \"BB\", \"PA\", \"Team\"]\n",
    "df = df[selected]\n",
    "df.dtypes\n",
    "#df.label.astype(int, inplace=True)"
   ]
  },
  {
   "cell_type": "code",
   "execution_count": 46,
   "metadata": {},
   "outputs": [
    {
     "data": {
      "text/plain": [
       "label     0\n",
       "Season    0\n",
       "HR        0\n",
       "K         0\n",
       "BB        0\n",
       "PA        0\n",
       "Team      0\n",
       "dtype: int64"
      ]
     },
     "execution_count": 46,
     "metadata": {},
     "output_type": "execute_result"
    }
   ],
   "source": [
    "df.isna().sum()"
   ]
  },
  {
   "cell_type": "markdown",
   "metadata": {},
   "source": [
    "## Practice Code"
   ]
  },
  {
   "cell_type": "code",
   "execution_count": 47,
   "metadata": {},
   "outputs": [],
   "source": [
    "def dataframe_to_dataset(df: pd.DataFrame, batch_size: int = 512, shuffle: bool = True) -> tf.data.Dataset:\n",
    "    df = df.copy()\n",
    "    label = df.pop('label')  # TODO: no hardcoded values.\n",
    "    _df: dict = {col: df[col].values[:, tf.newaxis] for col in df}\n",
    "    ds = tf.data.Dataset.from_tensor_slices((dict(_df), label))\n",
    "    if shuffle:\n",
    "        ds = ds.shuffle(len(df))\n",
    "    ds = ds.batch(batch_size)\n",
    "    ds = ds.prefetch(batch_size)\n",
    "    return ds\n",
    "\n",
    "def extract_feature_ds(data: tf.data.Dataset, name: str) -> tf.data.Dataset:\n",
    "    feature_ds = data.map(lambda x, y: x[name])\n",
    "    dtype = feature_ds.element_spec.dtype\n",
    "    return feature_ds, dtype\n",
    "\n",
    "def make_embedding(data: tf.data.Dataset, name):\n",
    "    feature_ds, dtype = extract_feature_ds(data, name)\n",
    "    if dtype == tf.string:\n",
    "        lookup = StringLookup()\n",
    "    else:\n",
    "        lookup = IntegerLookup()\n",
    "    lookup.adapt(feature_ds)\n",
    "    in_dims = len(lookup.get_vocabulary())\n",
    "    out_dims = max(2, int(np.log(in_dims)))\n",
    "    return lambda x: Embedding(in_dims, out_dims)(lookup(x))\n",
    "\n",
    "def make_normalization(data: tf.data.Dataset, name: str) -> Normalization:\n",
    "    feature_ds, dtype = extract_feature_ds(data, name)\n",
    "    lookup = Normalization()\n",
    "    lookup.adapt(feature_ds)\n",
    "    return lookup\n",
    "\n",
    "def make_inputs_and_encoded_features(data: tf.data.Dataset, cat_features) -> tuple[list, dict]:\n",
    "    all_features = {}\n",
    "    all_inputs = []\n",
    "    for name, spec in data.element_spec[0].items():\n",
    "        _input = keras.Input((1,), dtype=spec.dtype, name=name)\n",
    "        if name in cat_features:\n",
    "            encoder = make_embedding(data, name)\n",
    "        else:\n",
    "            encoder = make_normalization(data, name)\n",
    "        all_features[name] = encoder(_input)\n",
    "        all_inputs.append(_input)\n",
    "    return all_inputs, all_features\n"
   ]
  },
  {
   "cell_type": "code",
   "execution_count": 48,
   "metadata": {},
   "outputs": [
    {
     "name": "stdout",
     "output_type": "stream",
     "text": [
      "2103 16821\n"
     ]
    }
   ],
   "source": [
    "from sklearn.model_selection import train_test_split\n",
    "train, holdout = train_test_split(df, test_size=.2, random_state=42)\n",
    "val, test = train_test_split(holdout, test_size=.5, random_state=42)\n",
    "print(len(val), len(train))\n",
    "train_ds = dataframe_to_dataset(train)\n",
    "val_ds = dataframe_to_dataset(val, shuffle=False)\n",
    "test_ds = dataframe_to_dataset(test, shuffle=False)\n",
    "\n",
    "cat_features = ['Season', 'Team']"
   ]
  },
  {
   "cell_type": "code",
   "execution_count": 49,
   "metadata": {},
   "outputs": [],
   "source": [
    "all_inputs, all_features = make_inputs_and_encoded_features(train_ds, cat_features)"
   ]
  },
  {
   "cell_type": "code",
   "execution_count": 50,
   "metadata": {},
   "outputs": [],
   "source": [
    "def build_topology(all_features, cat_features):\n",
    "    embedded = [keras.layers.Flatten()(all_features[feature]) for feature in cat_features]\n",
    "    numeric = [all_features[feature] for feature in all_features if feature not in cat_features]\n",
    "    x = keras.layers.Concatenate()(numeric + embedded)\n",
    "    x = Dense(32, activation='relu')(x)\n",
    "    x = keras.layers.Dropout(.03)(x)\n",
    "    x = Dense(1, activation='sigmoid')(x)\n",
    "    return x\n",
    "\n",
    "model = keras.Model(all_inputs, build_topology(all_features, cat_features))\n",
    "metrics = [keras.metrics.BinaryAccuracy(), keras.metrics.Precision(), keras.metrics.Recall(), keras.metrics.AUC()]\n",
    "\n",
    "model.compile(optimizer=keras.optimizers.Adam(learning_rate=.003), loss=keras.losses.BinaryCrossentropy(from_logits=False), metrics=metrics)\n"
   ]
  },
  {
   "cell_type": "code",
   "execution_count": 54,
   "metadata": {},
   "outputs": [
    {
     "name": "stdout",
     "output_type": "stream",
     "text": [
      "Epoch 1/200\n",
      "\u001b[1m33/33\u001b[0m \u001b[32m━━━━━━━━━━━━━━━━━━━━\u001b[0m\u001b[37m\u001b[0m \u001b[1m0s\u001b[0m 2ms/step - auc_6: 0.8314 - binary_accuracy: 0.7612 - loss: 0.5058 - precision_6: 0.7670 - recall_6: 0.6728 - val_auc_6: 0.8385 - val_binary_accuracy: 0.7680 - val_loss: 0.4968 - val_precision_6: 0.7760 - val_recall_6: 0.7029\n",
      "Epoch 2/200\n",
      "\u001b[1m33/33\u001b[0m \u001b[32m━━━━━━━━━━━━━━━━━━━━\u001b[0m\u001b[37m\u001b[0m \u001b[1m0s\u001b[0m 2ms/step - auc_6: 0.8313 - binary_accuracy: 0.7603 - loss: 0.5052 - precision_6: 0.7588 - recall_6: 0.6802 - val_auc_6: 0.8391 - val_binary_accuracy: 0.7632 - val_loss: 0.4982 - val_precision_6: 0.7873 - val_recall_6: 0.6711\n",
      "Epoch 3/200\n",
      "\u001b[1m33/33\u001b[0m \u001b[32m━━━━━━━━━━━━━━━━━━━━\u001b[0m\u001b[37m\u001b[0m \u001b[1m0s\u001b[0m 2ms/step - auc_6: 0.8349 - binary_accuracy: 0.7610 - loss: 0.5026 - precision_6: 0.7675 - recall_6: 0.6753 - val_auc_6: 0.8400 - val_binary_accuracy: 0.7675 - val_loss: 0.4958 - val_precision_6: 0.7733 - val_recall_6: 0.7059\n",
      "Epoch 4/200\n",
      "\u001b[1m33/33\u001b[0m \u001b[32m━━━━━━━━━━━━━━━━━━━━\u001b[0m\u001b[37m\u001b[0m \u001b[1m0s\u001b[0m 2ms/step - auc_6: 0.8393 - binary_accuracy: 0.7625 - loss: 0.4961 - precision_6: 0.7631 - recall_6: 0.6833 - val_auc_6: 0.8401 - val_binary_accuracy: 0.7699 - val_loss: 0.4938 - val_precision_6: 0.7668 - val_recall_6: 0.7244\n",
      "Epoch 5/200\n",
      "\u001b[1m33/33\u001b[0m \u001b[32m━━━━━━━━━━━━━━━━━━━━\u001b[0m\u001b[37m\u001b[0m \u001b[1m0s\u001b[0m 2ms/step - auc_6: 0.8369 - binary_accuracy: 0.7644 - loss: 0.4983 - precision_6: 0.7610 - recall_6: 0.6969 - val_auc_6: 0.8387 - val_binary_accuracy: 0.7622 - val_loss: 0.4994 - val_precision_6: 0.7938 - val_recall_6: 0.6588\n",
      "Epoch 6/200\n",
      "\u001b[1m33/33\u001b[0m \u001b[32m━━━━━━━━━━━━━━━━━━━━\u001b[0m\u001b[37m\u001b[0m \u001b[1m0s\u001b[0m 2ms/step - auc_6: 0.8403 - binary_accuracy: 0.7672 - loss: 0.4938 - precision_6: 0.7694 - recall_6: 0.6879 - val_auc_6: 0.8394 - val_binary_accuracy: 0.7665 - val_loss: 0.4962 - val_precision_6: 0.7877 - val_recall_6: 0.6803\n",
      "Epoch 7/200\n",
      "\u001b[1m33/33\u001b[0m \u001b[32m━━━━━━━━━━━━━━━━━━━━\u001b[0m\u001b[37m\u001b[0m \u001b[1m0s\u001b[0m 2ms/step - auc_6: 0.8407 - binary_accuracy: 0.7622 - loss: 0.4942 - precision_6: 0.7679 - recall_6: 0.6927 - val_auc_6: 0.8405 - val_binary_accuracy: 0.7708 - val_loss: 0.4932 - val_precision_6: 0.7697 - val_recall_6: 0.7223\n",
      "Epoch 8/200\n",
      "\u001b[1m33/33\u001b[0m \u001b[32m━━━━━━━━━━━━━━━━━━━━\u001b[0m\u001b[37m\u001b[0m \u001b[1m0s\u001b[0m 2ms/step - auc_6: 0.8406 - binary_accuracy: 0.7665 - loss: 0.4926 - precision_6: 0.7630 - recall_6: 0.7056 - val_auc_6: 0.8401 - val_binary_accuracy: 0.7689 - val_loss: 0.4949 - val_precision_6: 0.7652 - val_recall_6: 0.7244\n",
      "Epoch 9/200\n",
      "\u001b[1m33/33\u001b[0m \u001b[32m━━━━━━━━━━━━━━━━━━━━\u001b[0m\u001b[37m\u001b[0m \u001b[1m0s\u001b[0m 2ms/step - auc_6: 0.8426 - binary_accuracy: 0.7645 - loss: 0.4907 - precision_6: 0.7596 - recall_6: 0.7033 - val_auc_6: 0.8388 - val_binary_accuracy: 0.7637 - val_loss: 0.5004 - val_precision_6: 0.7882 - val_recall_6: 0.6711\n",
      "Epoch 10/200\n",
      "\u001b[1m33/33\u001b[0m \u001b[32m━━━━━━━━━━━━━━━━━━━━\u001b[0m\u001b[37m\u001b[0m \u001b[1m0s\u001b[0m 2ms/step - auc_6: 0.8375 - binary_accuracy: 0.7621 - loss: 0.4978 - precision_6: 0.7550 - recall_6: 0.7030 - val_auc_6: 0.8395 - val_binary_accuracy: 0.7722 - val_loss: 0.4941 - val_precision_6: 0.7777 - val_recall_6: 0.7131\n",
      "Epoch 11/200\n",
      "\u001b[1m33/33\u001b[0m \u001b[32m━━━━━━━━━━━━━━━━━━━━\u001b[0m\u001b[37m\u001b[0m \u001b[1m0s\u001b[0m 2ms/step - auc_6: 0.8416 - binary_accuracy: 0.7652 - loss: 0.4906 - precision_6: 0.7529 - recall_6: 0.7153 - val_auc_6: 0.8388 - val_binary_accuracy: 0.7680 - val_loss: 0.4972 - val_precision_6: 0.7766 - val_recall_6: 0.7018\n",
      "Epoch 12/200\n",
      "\u001b[1m33/33\u001b[0m \u001b[32m━━━━━━━━━━━━━━━━━━━━\u001b[0m\u001b[37m\u001b[0m \u001b[1m0s\u001b[0m 2ms/step - auc_6: 0.8426 - binary_accuracy: 0.7647 - loss: 0.4888 - precision_6: 0.7463 - recall_6: 0.7203 - val_auc_6: 0.8400 - val_binary_accuracy: 0.7660 - val_loss: 0.4952 - val_precision_6: 0.7387 - val_recall_6: 0.7674\n",
      "Epoch 13/200\n",
      "\u001b[1m33/33\u001b[0m \u001b[32m━━━━━━━━━━━━━━━━━━━━\u001b[0m\u001b[37m\u001b[0m \u001b[1m0s\u001b[0m 2ms/step - auc_6: 0.8378 - binary_accuracy: 0.7603 - loss: 0.4959 - precision_6: 0.7373 - recall_6: 0.7336 - val_auc_6: 0.8401 - val_binary_accuracy: 0.7675 - val_loss: 0.4932 - val_precision_6: 0.7544 - val_recall_6: 0.7398\n",
      "Epoch 14/200\n",
      "\u001b[1m33/33\u001b[0m \u001b[32m━━━━━━━━━━━━━━━━━━━━\u001b[0m\u001b[37m\u001b[0m \u001b[1m0s\u001b[0m 2ms/step - auc_6: 0.8410 - binary_accuracy: 0.7643 - loss: 0.4919 - precision_6: 0.7504 - recall_6: 0.7260 - val_auc_6: 0.8404 - val_binary_accuracy: 0.7680 - val_loss: 0.4930 - val_precision_6: 0.7596 - val_recall_6: 0.7316\n",
      "Epoch 15/200\n",
      "\u001b[1m33/33\u001b[0m \u001b[32m━━━━━━━━━━━━━━━━━━━━\u001b[0m\u001b[37m\u001b[0m \u001b[1m0s\u001b[0m 2ms/step - auc_6: 0.8431 - binary_accuracy: 0.7656 - loss: 0.4884 - precision_6: 0.7477 - recall_6: 0.7219 - val_auc_6: 0.8400 - val_binary_accuracy: 0.7632 - val_loss: 0.4934 - val_precision_6: 0.7459 - val_recall_6: 0.7428\n",
      "Epoch 16/200\n",
      "\u001b[1m33/33\u001b[0m \u001b[32m━━━━━━━━━━━━━━━━━━━━\u001b[0m\u001b[37m\u001b[0m \u001b[1m0s\u001b[0m 2ms/step - auc_6: 0.8425 - binary_accuracy: 0.7657 - loss: 0.4895 - precision_6: 0.7472 - recall_6: 0.7372 - val_auc_6: 0.8401 - val_binary_accuracy: 0.7684 - val_loss: 0.4947 - val_precision_6: 0.7638 - val_recall_6: 0.7254\n"
     ]
    }
   ],
   "source": [
    "callbacks = [keras.callbacks.EarlyStopping(patience=6, min_delta=.001, start_from_epoch=10)]\n",
    "history = model.fit(train_ds, validation_data=val_ds, epochs=200, callbacks=callbacks)"
   ]
  },
  {
   "cell_type": "code",
   "execution_count": 52,
   "metadata": {},
   "outputs": [
    {
     "name": "stdout",
     "output_type": "stream",
     "text": [
      "\u001b[1m33/33\u001b[0m \u001b[32m━━━━━━━━━━━━━━━━━━━━\u001b[0m\u001b[37m\u001b[0m \u001b[1m0s\u001b[0m 1ms/step - auc_6: 0.8404 - binary_accuracy: 0.7587 - loss: 0.4990 - precision_6: 0.7804 - recall_6: 0.6451 \n",
      "va\n",
      "\u001b[1m5/5\u001b[0m \u001b[32m━━━━━━━━━━━━━━━━━━━━\u001b[0m\u001b[37m\u001b[0m \u001b[1m0s\u001b[0m 2ms/step - auc_6: 0.8438 - binary_accuracy: 0.7673 - loss: 0.4938 - precision_6: 0.7961 - recall_6: 0.6734\n"
     ]
    },
    {
     "data": {
      "text/plain": [
       "[0.5013224482536316,\n",
       " 0.7603423595428467,\n",
       " 0.7920792102813721,\n",
       " 0.6557376980781555,\n",
       " 0.83780837059021]"
      ]
     },
     "execution_count": 52,
     "metadata": {},
     "output_type": "execute_result"
    }
   ],
   "source": [
    "model.evaluate(train_ds)\n",
    "print('va')\n",
    "model.evaluate(val_ds)"
   ]
  },
  {
   "cell_type": "code",
   "execution_count": 55,
   "metadata": {},
   "outputs": [
    {
     "name": "stdout",
     "output_type": "stream",
     "text": [
      "\u001b[1m5/5\u001b[0m \u001b[32m━━━━━━━━━━━━━━━━━━━━\u001b[0m\u001b[37m\u001b[0m \u001b[1m0s\u001b[0m 1000us/step\n"
     ]
    },
    {
     "data": {
      "text/plain": [
       "<sklearn.calibration.CalibrationDisplay at 0x2203afe96d0>"
      ]
     },
     "execution_count": 55,
     "metadata": {},
     "output_type": "execute_result"
    },
    {
     "data": {
      "image/png": "[encoded data removed]",
      "text/plain": [
       "<Figure size 640x480 with 1 Axes>"
      ]
     },
     "metadata": {},
     "output_type": "display_data"
    }
   ],
   "source": [
    "from sklearn.calibration import CalibrationDisplay\n",
    "\n",
    "y_hat = model.predict(val_ds).reshape(-1)\n",
    "y_true = val.label.values\n",
    "CalibrationDisplay.from_predictions(y_true, y_hat)"
   ]
  },
  {
   "cell_type": "code",
   "execution_count": null,
   "metadata": {},
   "outputs": [],
   "source": []
  }
 ],
 "metadata": {
  "kernelspec": {
   "display_name": ".venv",
   "language": "python",
   "name": "python3"
  },
  "language_info": {
   "codemirror_mode": {
    "name": "ipython",
    "version": 3
   },
   "file_extension": ".py",
   "mimetype": "text/x-python",
   "name": "python",
   "nbconvert_exporter": "python",
   "pygments_lexer": "ipython3",
   "version": "3.11.9"
  }
 },
 "nbformat": 4,
 "nbformat_minor": 2
}
