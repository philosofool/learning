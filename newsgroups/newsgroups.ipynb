{
 "metadata": {
  "language_info": {
   "codemirror_mode": {
    "name": "ipython",
    "version": 3
   },
   "file_extension": ".py",
   "mimetype": "text/x-python",
   "name": "python",
   "nbconvert_exporter": "python",
   "pygments_lexer": "ipython3",
   "version": "3.8.3-final"
  },
  "orig_nbformat": 2,
  "kernelspec": {
   "name": "python38364bitbaseconda1fad7997e8f94ea293ffe5b4ecbfb0c4",
   "display_name": "Python 3.8.3 64-bit ('base': conda)"
  }
 },
 "nbformat": 4,
 "nbformat_minor": 2,
 "cells": [
  {
   "source": [
    "# Newsgroups\n",
    "\n",
    "In order to practice and learn to work with text data, let's use the 20 Newsgroups archive.\n",
    "\n",
    "Things we're going to do:\n",
    "- get the data\n",
    "- work with some feature extraction\n",
    "- develop a model that can classify the Newsgroups"
   ],
   "cell_type": "markdown",
   "metadata": {}
  },
  {
   "cell_type": "code",
   "execution_count": 24,
   "metadata": {},
   "outputs": [],
   "source": [
    "## import essentials and anticipated packages\n",
    "\n",
    "import numpy as np\n",
    "import pandas as pd\n",
    "import re\n",
    "\n",
    "from sklearn.datasets import fetch_20newsgroups\n",
    "\n",
    "from sklearn.pipeline import Pipeline\n",
    "from sklearn.compose import ColumnTransformer\n",
    "from sklearn.feature_extraction.text import TfidfTransformer,TfidfVectorizer, CountVectorizer\n",
    "\n",
    "\n",
    "from sklearn.naive_bayes import MultinomialNB"
   ]
  },
  {
   "cell_type": "code",
   "execution_count": 7,
   "metadata": {},
   "outputs": [],
   "source": [
    "train = fetch_20newsgroups(remove=('headers', 'footers', 'quotes'),subset='train')"
   ]
  },
  {
   "cell_type": "code",
   "execution_count": 18,
   "metadata": {},
   "outputs": [
    {
     "output_type": "stream",
     "name": "stdout",
     "text": [
      "                                                                      \nALL this shows is that YOU do\n10    600\n15    599\n8     598\n9     597\n11    595\n13    594\n7     594\n14    593\n5     593\n12    591\n2     591\n3     590\n6     585\n1     584\n4     578\n17    564\n16    546\n0     480\n18    465\n19    377\ndtype: int64\n10    1.060633\n15    1.058865\n8     1.057097\n9     1.055330\n11    1.051794\n13    1.050027\n7     1.050027\n14    1.048259\n5     1.048259\n12    1.044723\n2     1.044723\n3     1.042956\n6     1.034117\n1     1.032349\n4     1.021743\n17    0.996995\n16    0.965176\n0     0.848506\n18    0.821990\n19    0.666431\ndtype: float64\n"
     ]
    }
   ],
   "source": [
    "## Let's look at some stuff.fetch_20newsgroups\n",
    "\n",
    "print(train.data[7][:100]) ##this is such a newsgroup discussion about comptuers\n",
    "y_train = pd.Series(train.target) \n",
    "print(y_train.value_counts())\n",
    "print(y_train.value_counts()/y_train.value_counts().mean())#not particularly skew\n",
    "X_train = pd.DataFrame(train.data)"
   ]
  },
  {
   "cell_type": "code",
   "execution_count": null,
   "metadata": {},
   "outputs": [],
   "source": [
    "##A dictionary of the topics for ease of reference.\n",
    "\n",
    "train.target_names\n",
    "target_names_dict = { i : train.target_names[i] for i in range(0,20)}\n",
    "target_names_dict"
   ]
  },
  {
   "cell_type": "code",
   "execution_count": 46,
   "metadata": {},
   "outputs": [
    {
     "output_type": "stream",
     "name": "stdout",
     "text": [
      "['4,000']\n"
     ]
    }
   ],
   "source": [
    "X_train.rename({0:'text'}, axis=1, inplace=True)\n",
    "X_train['text length'] = X_train['text'].apply(lambda x: len(x))\n",
    "numeric_expression = '[\\d]{1,3},[\\d]+'##digits, optional commas, optional decimal (one)\n",
    "print(re.findall(numeric_expression,'1 12 4000000 4,000 3.14159'))\n",
    "X_train['numeric expression count'] = X_train['text'].apply(lambda x: len(re.findall('expression',x)))"
   ]
  },
  {
   "cell_type": "code",
   "execution_count": 26,
   "metadata": {},
   "outputs": [
    {
     "output_type": "execute_result",
     "data": {
      "text/plain": [
       "                                                    text  text length  \\\n",
       "0      I was wondering if anyone out there could enli...          475   \n",
       "1      A fair number of brave souls who upgraded thei...          530   \n",
       "2      well folks, my mac plus finally gave up the gh...         1659   \n",
       "3      \\nDo you have Weitek's address/phone number?  ...           95   \n",
       "4      From article <C5owCB.n3p@world.std.com>, by to...          448   \n",
       "...                                                  ...          ...   \n",
       "11309  DN> From: nyeda@cnsvax.uwec.edu (David Nye)\\nD...         1782   \n",
       "11310  I have a (very old) Mac 512k and a Mac Plus, b...          674   \n",
       "11311  I just installed a DX2-66 CPU in a clone mothe...          581   \n",
       "11312  \\nWouldn't this require a hyper-sphere.  In 3-...          311   \n",
       "11313  Stolen from Pasadena between 4:30 and 6:30 pm ...          321   \n",
       "\n",
       "       numeric expression count  \n",
       "0                             0  \n",
       "1                             0  \n",
       "2                             0  \n",
       "3                             0  \n",
       "4                             0  \n",
       "...                         ...  \n",
       "11309                         0  \n",
       "11310                         0  \n",
       "11311                         0  \n",
       "11312                         0  \n",
       "11313                         0  \n",
       "\n",
       "[11314 rows x 3 columns]"
      ],
      "text/html": "<div>\n<style scoped>\n    .dataframe tbody tr th:only-of-type {\n        vertical-align: middle;\n    }\n\n    .dataframe tbody tr th {\n        vertical-align: top;\n    }\n\n    .dataframe thead th {\n        text-align: right;\n    }\n</style>\n<table border=\"1\" class=\"dataframe\">\n  <thead>\n    <tr style=\"text-align: right;\">\n      <th></th>\n      <th>text</th>\n      <th>text length</th>\n      <th>numeric expression count</th>\n    </tr>\n  </thead>\n  <tbody>\n    <tr>\n      <th>0</th>\n      <td>I was wondering if anyone out there could enli...</td>\n      <td>475</td>\n      <td>0</td>\n    </tr>\n    <tr>\n      <th>1</th>\n      <td>A fair number of brave souls who upgraded thei...</td>\n      <td>530</td>\n      <td>0</td>\n    </tr>\n    <tr>\n      <th>2</th>\n      <td>well folks, my mac plus finally gave up the gh...</td>\n      <td>1659</td>\n      <td>0</td>\n    </tr>\n    <tr>\n      <th>3</th>\n      <td>\\nDo you have Weitek's address/phone number?  ...</td>\n      <td>95</td>\n      <td>0</td>\n    </tr>\n    <tr>\n      <th>4</th>\n      <td>From article &lt;C5owCB.n3p@world.std.com&gt;, by to...</td>\n      <td>448</td>\n      <td>0</td>\n    </tr>\n    <tr>\n      <th>...</th>\n      <td>...</td>\n      <td>...</td>\n      <td>...</td>\n    </tr>\n    <tr>\n      <th>11309</th>\n      <td>DN&gt; From: nyeda@cnsvax.uwec.edu (David Nye)\\nD...</td>\n      <td>1782</td>\n      <td>0</td>\n    </tr>\n    <tr>\n      <th>11310</th>\n      <td>I have a (very old) Mac 512k and a Mac Plus, b...</td>\n      <td>674</td>\n      <td>0</td>\n    </tr>\n    <tr>\n      <th>11311</th>\n      <td>I just installed a DX2-66 CPU in a clone mothe...</td>\n      <td>581</td>\n      <td>0</td>\n    </tr>\n    <tr>\n      <th>11312</th>\n      <td>\\nWouldn't this require a hyper-sphere.  In 3-...</td>\n      <td>311</td>\n      <td>0</td>\n    </tr>\n    <tr>\n      <th>11313</th>\n      <td>Stolen from Pasadena between 4:30 and 6:30 pm ...</td>\n      <td>321</td>\n      <td>0</td>\n    </tr>\n  </tbody>\n</table>\n<p>11314 rows × 3 columns</p>\n</div>"
     },
     "metadata": {},
     "execution_count": 26
    }
   ],
   "source": [
    "X_train"
   ]
  },
  {
   "cell_type": "code",
   "execution_count": null,
   "metadata": {},
   "outputs": [],
   "source": []
  }
 ]
}