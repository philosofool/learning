{
 "cells": [
  {
   "cell_type": "markdown",
   "metadata": {},
   "source": [
    "# Newsgroups\n",
    "\n",
    "In order to practice and learn to work with text data, let's use the 20 Newsgroups archive.\n",
    "\n",
    "Things we're going to do:\n",
    "- get the data\n",
    "- work with some feature extraction\n",
    "- develop a model that can classify the Newsgroups\n",
    "- Investigate the results of unsupervised clustering models on this group."
   ]
  },
  {
   "cell_type": "code",
   "execution_count": 1,
   "metadata": {},
   "outputs": [],
   "source": [
    "## import essentials and anticipated packages\n",
    "\n",
    "import numpy as np\n",
    "import pandas as pd\n",
    "import re\n",
    "\n",
    "from sklearn.datasets import fetch_20newsgroups\n",
    "\n",
    "from sklearn.pipeline import Pipeline\n",
    "from sklearn.compose import ColumnTransformer\n",
    "from sklearn.feature_extraction.text import TfidfTransformer, TfidfVectorizer, CountVectorizer\n",
    "from sklearn.preprocessing import StandardScaler\n",
    "from sklearn.model_selection import GridSearchCV, KFold\n",
    "from sklearn.kernel_approximation import Nystroem #I need to read up on this. It was not helpful out-of-box.\n",
    "\n",
    "from sklearn.naive_bayes import MultinomialNB\n",
    "from sklearn.svm import SVC\n",
    "from sklearn.linear_model import SGDClassifier\n",
    "\n",
    "from sklearn.metrics import accuracy_score, precision_score, recall_score, f1_score, confusion_matrix\n",
    "#%matplotlib notebook"
   ]
  },
  {
   "cell_type": "code",
   "execution_count": 2,
   "metadata": {},
   "outputs": [],
   "source": [
    "train = fetch_20newsgroups(remove=('headers', 'footers', 'quotes'),subset='train')\n",
    "test = fetch_20newsgroups(remove=('headers', 'footers', 'quotes'),subset='test')"
   ]
  },
  {
   "cell_type": "code",
   "execution_count": 3,
   "metadata": {},
   "outputs": [
    {
     "output_type": "stream",
     "name": "stdout",
     "text": [
      "                                                                      \n",
      "ALL this shows is that YOU do\n",
      "10    600\n",
      "15    599\n",
      "8     598\n",
      "9     597\n",
      "11    595\n",
      "13    594\n",
      "7     594\n",
      "14    593\n",
      "5     593\n",
      "12    591\n",
      "2     591\n",
      "3     590\n",
      "6     585\n",
      "1     584\n",
      "4     578\n",
      "17    564\n",
      "16    546\n",
      "0     480\n",
      "18    465\n",
      "19    377\n",
      "dtype: int64\n",
      "10    1.060633\n",
      "15    1.058865\n",
      "8     1.057097\n",
      "9     1.055330\n",
      "11    1.051794\n",
      "13    1.050027\n",
      "7     1.050027\n",
      "14    1.048259\n",
      "5     1.048259\n",
      "12    1.044723\n",
      "2     1.044723\n",
      "3     1.042956\n",
      "6     1.034117\n",
      "1     1.032349\n",
      "4     1.021743\n",
      "17    0.996995\n",
      "16    0.965176\n",
      "0     0.848506\n",
      "18    0.821990\n",
      "19    0.666431\n",
      "dtype: float64\n"
     ]
    }
   ],
   "source": [
    "## What's the distribution like?\n",
    "\n",
    "## check that I know how the data is structured.\n",
    "print(train.data[7][:100]) ##this is such a newsgroup discussion about comptuers\n",
    "\n",
    "\n",
    "## set as Pandas objects for easier access and manipulation\n",
    "y_train = pd.Series(train.target)\n",
    "y_test = pd.Series(test.target) \n",
    "X_train = pd.DataFrame(train.data)\n",
    "X_test = pd.DataFrame(test.data)\n",
    "\n",
    "## check skew in data\n",
    "print(y_train.value_counts())\n",
    "print(y_train.value_counts()/y_train.value_counts().mean())#not particularly skew\n",
    "\n",
    "\n",
    "##A dictionary of the topics for ease of reference.\n",
    "train.target_names\n",
    "target_names_dict = { i : train.target_names[i] for i in range(0,20)}"
   ]
  },
  {
   "cell_type": "code",
   "execution_count": 4,
   "metadata": {},
   "outputs": [],
   "source": [
    "## set up some reporting tools which we will use to evaluate models.\n",
    "\n",
    "import matplotlib.pyplot as plt\n",
    "import seaborn\n",
    "\n",
    "## matplotlib confusion matrix\n",
    "def draw_confusion_matrix(clf,X,y,predicted = False,title=\"Confusion Matrix\"):\n",
    "    ''' \n",
    "    Draws a nice looking confusion matrix for a classifier, given features X and target y\n",
    "    '''\n",
    "    if not predicted:\n",
    "        X = clf.predict(X)\n",
    "    confusion = confusion_matrix(y, X)\n",
    "    df_confusion = pd.DataFrame(confusion, index = [i for i in range(0,len(y.unique()))],\n",
    "                      columns = [i for i in range(0,len(y.unique()))]).astype(int)\n",
    "    plt.figure()\n",
    "    seaborn.heatmap(df_confusion, annot=False)\n",
    "    plt.title(title)\n",
    "    plt.ylabel('True label')\n",
    "    plt.xlabel('Predicted label')\n",
    "    plt.show()\n",
    "\n",
    "## A short evaluation report.    \n",
    "def report_clf_evals(clf,X,y,predicted=False):\n",
    "    '''\n",
    "    Produces text summary and confusion matrix graphic of clf.\n",
    "    '''\n",
    "    actual=y\n",
    "    if not predicted:\n",
    "        predicted = clf.predict(X)\n",
    "    else:\n",
    "        predicted = X\n",
    "    print('  Accuracy: {:.4f}'.format(accuracy_score(actual, predicted)))\n",
    "    print('  Precision: {:.4f}'.format(precision_score(actual, predicted, average='macro')))\n",
    "    print('  Recall: {:.4f}'.format(recall_score(actual, predicted, average='macro')))\n",
    "    print('  F1: {:.4f}'.format(f1_score(actual, predicted, average='macro')))\n",
    "    #print(confusion_matrix(actual,predicted))\n",
    "    draw_confusion_matrix(clf,predicted,actual,predicted=True)"
   ]
  },
  {
   "source": [
    "## Part 2\n",
    "\n",
    "Now we've established some features. Time to build models and see what works. \n",
    "\n",
    "We begin with Multinomial Bayes and a bag of words."
   ],
   "cell_type": "markdown",
   "metadata": {}
  },
  {
   "cell_type": "code",
   "execution_count": 5,
   "metadata": {},
   "outputs": [],
   "source": [
    "col_trans = ColumnTransformer([('vectorizer', CountVectorizer(), 'text')\n",
    "                                ])\n",
    "\n",
    "count_bayes_clf = Pipeline(steps= [\n",
    "                        ('column_transformer', col_trans),\n",
    "                        ('multinomial_bayes', MultinomialNB())\n",
    "                        ]\n",
    "                        )\n"
   ]
  },
  {
   "cell_type": "code",
   "execution_count": null,
   "metadata": {
    "scrolled": true
   },
   "outputs": [],
   "source": [
    "count_bayes_clf.fit(X_train,y_train)\n",
    "report_clf_evals(count_bayes_clf,X_train,y_train)"
   ]
  },
  {
   "cell_type": "code",
   "execution_count": null,
   "metadata": {},
   "outputs": [],
   "source": [
    "report_clf_evals(count_bayes_clf,X_test,y_test)\n"
   ]
  },
  {
   "cell_type": "code",
   "execution_count": 6,
   "metadata": {},
   "outputs": [],
   "source": [
    "k_fold = KFold(n_splits=2) ##we're still looking for gross differences, not fine tuning. \n",
    "\n",
    "parameters = {\n",
    "    'column_transformer__vectorizer__ngram_range' :[(1,1),(1,2),(1,3),(2,2)]\n",
    "}\n",
    "\n",
    "grid_search = GridSearchCV(count_bayes_clf, parameters, cv=k_fold, return_train_score=True)"
   ]
  },
  {
   "cell_type": "code",
   "execution_count": null,
   "metadata": {},
   "outputs": [],
   "source": [
    "grid_search.fit(X_train,y_train)\n",
    "grid_search.cv_results_"
   ]
  },
  {
   "cell_type": "code",
   "execution_count": 7,
   "metadata": {},
   "outputs": [],
   "source": [
    "parameters = {\n",
    "    #'column_transformer__vectorizer__ngram_range' :[(1,1),(1,2),(1,3),(2,2)]\n",
    "    'multinomial_bayes__alpha':[.005,.01,.03] ## alpha higher than 1 reduced train and test scores\n",
    "}\n",
    "k_fold.n_splits = 5 ## seemed to be a pretty robust result in favor of reducing alpha.\n",
    "grid_search = GridSearchCV(count_bayes_clf, parameters, cv=k_fold, return_train_score=True)\n",
    "#"
   ]
  },
  {
   "cell_type": "code",
   "execution_count": null,
   "metadata": {},
   "outputs": [],
   "source": [
    "grid_search.fit(X_train,y_train)\n",
    "grid_search.cv_results_"
   ]
  },
  {
   "cell_type": "code",
   "execution_count": 8,
   "metadata": {},
   "outputs": [],
   "source": [
    "parameters = {\n",
    "    'column_transformer__vectorizer__stop_words' :[None,'english'],\n",
    "    'multinomial_bayes__alpha':[.01] ## alpha close to zero is better than close to 1.\n",
    "}\n",
    "k_fold.n_splits = 2 ## seemed to be a pretty robust result in favor of reducing alpha.\n",
    "grid_search = GridSearchCV(count_bayes_clf, parameters, cv=k_fold, return_train_score=True)"
   ]
  },
  {
   "cell_type": "code",
   "execution_count": null,
   "metadata": {},
   "outputs": [],
   "source": [
    "grid_search.fit(X_train,y_train)\n",
    "grid_search.cv_results_"
   ]
  },
  {
   "cell_type": "code",
   "execution_count": 9,
   "metadata": {},
   "outputs": [],
   "source": [
    "## Our strongest Bayesian model with a count vectorizer is very close to this.\n",
    "count_vect = CountVectorizer(ngram_range=(1,3), stop_words='english')\n",
    "\n",
    "col_trans = ColumnTransformer([('vectorizer', count_vect, 'text')\n",
    "                                ])\n",
    "\n",
    "count_bayes_clf = Pipeline(steps= [\n",
    "                        ('column_transformer', col_trans),\n",
    "                        ('multinomial_bayes', MultinomialNB(alpha=.01))\n",
    "                        ]\n",
    "                        )"
   ]
  },
  {
   "cell_type": "code",
   "execution_count": null,
   "metadata": {},
   "outputs": [],
   "source": [
    "count_bayes_clf.fit(X_train,y_train)\n",
    "report_clf_evals(count_bayes_clf, X_test, y_test)"
   ]
  },
  {
   "source": [
    "## Part 3: tf-idf\n",
    "\n",
    "Notice that the grid search results were a lot stronger than the test results. They aren't from the same distribution; the train and test sets are split by date, not randomly. This makes it a nice real-world case."
   ],
   "cell_type": "markdown",
   "metadata": {}
  },
  {
   "cell_type": "code",
   "execution_count": 10,
   "metadata": {},
   "outputs": [],
   "source": [
    "## Let's inspect a tfidf vectorizer inplace of the bag-of-words approach.\n",
    "\n",
    "tfidf_vect = TfidfVectorizer()\n",
    "\n",
    "col_trans = ColumnTransformer([#('vectorizer', count_vect, 'text'),\n",
    "                                ('vectorizer', tfidf_vect, 'text')\n",
    "                                ])\n",
    "\n",
    "bayes_tfidf_clf = Pipeline(steps= [\n",
    "                        ('column_transformer', col_trans),\n",
    "                        ('multinomial_bayes', MultinomialNB())\n",
    "                        ]\n",
    "                        )\n"
   ]
  },
  {
   "cell_type": "code",
   "execution_count": 11,
   "metadata": {},
   "outputs": [],
   "source": [
    "## Let's run the same three search, but define them all at once.\n",
    "k_fold = KFold(n_splits=2) \n",
    "\n",
    "parameters = {\n",
    "    'multinomial_bayes__alpha':[.01,.03,.1,1] ## alpha higher than 1 reduced train and test scores\n",
    "}\n",
    "alpha_search = GridSearchCV(bayes_tfidf_clf, parameters, cv=k_fold, return_train_score=True)\n",
    "\n",
    "parameters = {\n",
    "    #'column_transformer__vectorizer__ngram_range' :[(1,1),(1,2),(1,3),(2,2)].\n",
    "    'multinomial_bayes__alpha':[.03], ## alpha higher than 1 reduced train and test scores\n",
    "    'column_transformer__vectorizer__stop_words' :[None,'english']\n",
    "}\n",
    "stop_word_search = GridSearchCV(bayes_tfidf_clf, parameters, cv=k_fold, return_train_score=True)\n",
    "\n",
    "parameters = {\n",
    "    'multinomial_bayes__alpha':[.03], ## using default (=1), the below is just all around weak on test sets.\n",
    "    'column_transformer__vectorizer__stop_words' :['english'],\n",
    "    'column_transformer__vectorizer__ngram_range' :[(1,1),(1,2),(1,3),(2,2)]\n",
    "}\n",
    "ngram_search = GridSearchCV(bayes_tfidf_clf, parameters, cv=k_fold, return_train_score=True)"
   ]
  },
  {
   "cell_type": "code",
   "execution_count": null,
   "metadata": {},
   "outputs": [],
   "source": [
    "alpha_search.fit(X_train,y_train)\n",
    "alpha_search.cv_results_"
   ]
  },
  {
   "cell_type": "code",
   "execution_count": null,
   "metadata": {},
   "outputs": [],
   "source": [
    "stop_word_search.fit(X_train,y_train)\n",
    "stop_word_search.cv_results_"
   ]
  },
  {
   "cell_type": "code",
   "execution_count": null,
   "metadata": {},
   "outputs": [],
   "source": [
    "ngram_search.fit(X_train,y_train)\n",
    "ngram_search.cv_results_"
   ]
  },
  {
   "cell_type": "code",
   "execution_count": 12,
   "metadata": {},
   "outputs": [],
   "source": [
    "parameters = {\n",
    "    'multinomial_bayes__alpha':[.01,.03], ## using default (=1), the below is just all around weak on test sets.\n",
    "    'column_transformer__vectorizer__stop_words' :['english'],\n",
    "    'column_transformer__vectorizer__ngram_range' :[(1,1),(1,2),(1,3)]\n",
    "}\n",
    "k_fold.n_splits = 3\n",
    "final_search = GridSearchCV(bayes_tfidf_clf, parameters, cv=k_fold, return_train_score=True)"
   ]
  },
  {
   "cell_type": "code",
   "execution_count": null,
   "metadata": {},
   "outputs": [],
   "source": [
    "final_search.fit(X_train,y_train)\n",
    "final_search.cv_results_"
   ]
  },
  {
   "cell_type": "code",
   "execution_count": null,
   "metadata": {},
   "outputs": [],
   "source": [
    "\n",
    "tfidf_vect.ngram_range = (1,2)\n",
    "tfidf_vect.stop_words = 'english'\n",
    "col_trans = ColumnTransformer([#('vectorizer', count_vect, 'text'),\n",
    "                                ('vectorizer', tfidf_vect, 'text')\n",
    "                                ])\n",
    "\n",
    "bayes_tfidf_clf = Pipeline(steps= [\n",
    "                        ('column_transformer', col_trans),\n",
    "                        ('multinomial_bayes', MultinomialNB(alpha = .01))\n",
    "                        ]\n",
    "                        )"
   ]
  },
  {
   "cell_type": "code",
   "execution_count": null,
   "metadata": {},
   "outputs": [],
   "source": [
    "bayes_tfidf_clf.fit(X_train,y_train)\n",
    "report_clf_evals(bayes_tfidf_clf,X_test,y_test)"
   ]
  },
  {
   "source": [
    "## Step 4: SVC Classifier"
   ],
   "cell_type": "markdown",
   "metadata": {}
  },
  {
   "cell_type": "code",
   "execution_count": 13,
   "metadata": {},
   "outputs": [],
   "source": [
    "scale_cols = ['text length'] ##the columns value in the column transformer needs a list\n",
    "col_trans = ColumnTransformer([('scaler', StandardScaler(),scale_cols),\n",
    "                                ('vectorizer', tfidf_vect, 'text')\n",
    "                                ])\n",
    "svc_clf = Pipeline(steps=[('col_transformer',col_trans),\n",
    "                            ('svc_clf',SVC())])\n"
   ]
  },
  {
   "cell_type": "code",
   "execution_count": null,
   "metadata": {},
   "outputs": [],
   "source": [
    "#svc_clf.fit(X_train.sample(300,random_state=1),y_train.sample(300,random_state=1)) #fast version, for debugging\n",
    "#report_clf_evals(svc_clf,X_test.sample(300,random_state=1),y_test.sample(300,random_state=1))#fasterm for debugging\n",
    "\n",
    "## NOPE!\n",
    "## SVC is a fun idea, but it's remarkably slow with 12,000 training samples.\n",
    "see_how_slow = False\n",
    "if see_how_slow:\n",
    "    svc_clf.fit(X_train,y_train)\n",
    "    report_clf_evals(svc_clf,X_train,y_train)\n",
    "    report_clf_evals(svc_clf,X_test,y_test)"
   ]
  },
  {
   "cell_type": "code",
   "execution_count": 14,
   "metadata": {},
   "outputs": [],
   "source": [
    "from sklearn.kernel_approximation import Nystroem\n",
    "\n",
    "scale_cols = ['text length'] ##the columns value in the column transformer needs a list\n",
    "col_trans = ColumnTransformer([('scaler', StandardScaler(),scale_cols),\n",
    "                                ('vectorizer', tfidf_vect, 'text'),\n",
    "                                ])\n",
    "sgd_clf = Pipeline(steps=[('col_transformer',col_trans),\n",
    "                            #('kernel_approximator',Nystroem()),\n",
    "                            ('sgd_clf',SGDClassifier())])"
   ]
  },
  {
   "cell_type": "code",
   "execution_count": null,
   "metadata": {},
   "outputs": [],
   "source": [
    "sgd_clf.fit(X_train,y_train)\n",
    "report_clf_evals(sgd_clf,X_train,y_train)\n",
    "report_clf_evals(sgd_clf,X_test,y_test)"
   ]
  },
  {
   "cell_type": "code",
   "execution_count": 15,
   "metadata": {},
   "outputs": [],
   "source": [
    "\n",
    "\n",
    "parameters = {'sgd_clf__alpha':[.0001,.001,.01,.1]}\n",
    "\n",
    "k_fold.n_splits = 2\n",
    "sgd_grid = GridSearchCV(sgd_clf,parameters,cv = k_fold, return_train_score=True)"
   ]
  },
  {
   "cell_type": "code",
   "execution_count": null,
   "metadata": {},
   "outputs": [],
   "source": [
    "sgd_grid.fit(X_train,y_train)\n",
    "sgd_grid.cv_results_"
   ]
  },
  {
   "source": [
    "### Comment\n",
    "\n",
    "The multinomial baysian classifier is the best so far; it has the highest score (by a very small, possibly insignificant) margin but trains fastest. I'm going to try an MLP just because I think it would be a mistake not to, but I suspect we have too many features relative to total data (~600 samples per class) for it to work well."
   ],
   "cell_type": "markdown",
   "metadata": {}
  },
  {
   "cell_type": "code",
   "execution_count": null,
   "metadata": {},
   "outputs": [],
   "source": [
    "from sklearn.neural_network import MLPClassifier\n",
    "\n",
    "mlp_clf = Pipeline(steps=[('col_transformer',col_trans),\n",
    "                            #('kernel_approximator',Nystroem()),\n",
    "                            ('mlp_clf', MLPClassifier(hidden_layer_sizes=(20),\n",
    "                                        learning_rate_init=.03,\n",
    "                                        batch_size=128))])"
   ]
  },
  {
   "cell_type": "code",
   "execution_count": null,
   "metadata": {},
   "outputs": [],
   "source": [
    "mlp_clf.fit(X_train,y_train)\n",
    "report_clf_evals(mlp_clf,X_train,y_train)\n",
    "report_clf_evals(mlp_clf,X_test,y_test)\n"
   ]
  },
  {
   "cell_type": "code",
   "execution_count": null,
   "metadata": {},
   "outputs": [],
   "source": [
    "\n",
    "parameters = {\n",
    "                'mlp_clf__alpha':[.0001,.001,.01],\n",
    "                'mlp_clf__hidden_layer_sizes': [8]}\n",
    "mlp_search = GridSearchCV(mlp_clf,parameters,cv = k_fold, return_train_score=True)"
   ]
  },
  {
   "cell_type": "code",
   "execution_count": null,
   "metadata": {},
   "outputs": [],
   "source": [
    "mlp_search.fit(X_train,y_train)\n",
    "mlp_search.cv_results_"
   ]
  },
  {
   "source": [
    "## More Features\n",
    "\n",
    "As expected, the MLP is a processor intesive exercise in low performance. But the overall performance of our models isn't all that strong. I would like to add some features and try some tricks.\n",
    "\n",
    "- Digit and numeric expression counts for texts.\n",
    "- Stemming/Lemmatization"
   ],
   "cell_type": "markdown",
   "metadata": {}
  },
  {
   "cell_type": "code",
   "execution_count": 16,
   "metadata": {},
   "outputs": [],
   "source": [
    "## Let's make the length of the message a feature.\n",
    "X_train2 = X_train.copy()\n",
    "X_test2 = X_test.copy()\n",
    "for df in (X_train2, X_test2):\n",
    "    df.rename({0:'text'}, axis=1, inplace=True)\n",
    "    df['text length'] = df['text'].apply(lambda x: len(x))\n"
   ]
  },
  {
   "cell_type": "code",
   "execution_count": null,
   "metadata": {},
   "outputs": [],
   "source": [
    "## Let's see if that's any info at all. \n",
    "quick_clf = MultinomialNB(alpha=.01)\n",
    "quick_clf.fit(X_train2.drop('text',axis=1),y_train)\n",
    "report_clf_evals(quick_clf,X_train2.drop('text', axis=1),y_train)\n",
    "## This appears to have no effect on classification."
   ]
  },
  {
   "cell_type": "code",
   "execution_count": null,
   "metadata": {},
   "outputs": [],
   "source": [
    "## Science and sports may \n",
    "## have more numbers than atheism, politics or religion, for example of why. Do not match currency expressions.\n",
    "\n",
    "\n",
    "## The following expression was is good r'(?<=\\s)[1-9][\\d]{0,2}[(,?\\d{3})*|(\\d)*]*\\.?\\d*'\n",
    "numeric_expression = r'(?<=\\s)[1-9][\\d]{0,2}[(,?\\d{3})*|(\\d)*]*\\.?\\d*'##digits, optional commas, optional decimal (one)\n",
    "\n",
    "## https://stackoverflow.com/questions/5917082/regular-expression-to-match-numbers-with-or-without-commas-and-decimals-in-text\n",
    "#numeric_expression = r'(?<!\\S)(\\d*\\.?\\d+|\\d{1,3}(,\\d{3})*(\\.\\d+)?)(?!\\S)' ##\n",
    "# I like mine better. Grouping is annoying in this context.\n",
    "\n",
    "## Test set to see that we're matching and not matching correct stuff.\n",
    "#print(re.findall(numeric_expression,'1 12 1,234,567 4010020030 4,000 3.14159'))#we want to match all of these\n",
    "#print(re.findall(numeric_expression, 'catch22 $123 $3.14')) #but don't match these\n",
    "\n",
    "X_train2['numeric expression count'] = X_train2['text'].apply(lambda x: len(re.findall(numeric_expression,x)))\n",
    "X_test2['numeric expression count'] = X_test2['text'].apply(lambda x: len(re.findall(numeric_expression,x)))\n"
   ]
  },
  {
   "cell_type": "code",
   "execution_count": null,
   "metadata": {},
   "outputs": [],
   "source": [
    "## Let's see if that's any info at all. \n",
    "quick_clf = MultinomialNB(alpha=.01)\n",
    "quick_clf.fit(X_train2.drop('text',axis=1),y_train)\n",
    "report_clf_evals(quick_clf,X_train2.drop('text', axis=1),y_train)\n",
    "\n",
    "## It's hardly enough to make things accurate. But\n",
    "## this is information: it clearly changes how things are categorized. \n"
   ]
  },
  {
   "cell_type": "code",
   "execution_count": null,
   "metadata": {},
   "outputs": [],
   "source": [
    "## Let's add a currency expression feature. \n",
    "## It would be better to include pound symbols and stuff like that.\n",
    "currency_expression = r'\\$[1-9][\\d]{0,2}[(,?\\d{3})*|(\\d)*]*\\.?\\d*'##digits, optional commas, optional decimal (one)\n",
    "\n",
    "contains_ce = ' $3.14, $300, $4,499, $1,001,350.10 $500000000000'\n",
    "contains_no_ce = '3.14159, 11.2.2020,'\n",
    "#print(re.findall(currency_expression,contains_ce))\n",
    "#print(re.findall(currency_expression,contains_no_ce))\n",
    "\n",
    "X_train2['currency expression count'] = X_train2['text'].apply(lambda x: len(re.findall(currency_expression,x)))\n",
    "X_test2['currency expression count'] = X_test2['text'].apply(lambda x: len(re.findall(currency_expression,x)))\n",
    "## Let's see if that's any info at all. \n",
    "quick_clf = MultinomialNB(alpha=.01)\n",
    "quick_clf.fit(X_train2.drop('text',axis=1),y_train)\n",
    "report_clf_evals(quick_clf,X_train2.drop('text', axis=1),y_train)\n",
    "\n",
    "## each of these features makes a small improvement."
   ]
  },
  {
   "cell_type": "code",
   "execution_count": null,
   "metadata": {},
   "outputs": [],
   "source": [
    "## Exponentials are scientific jargon...\n",
    "\n",
    "exponential_expression = r'\\^\\-?[.\\d]+'\n",
    "contains_exp_exp = '3.00x10^8  10^-9, 2^.5'##This variable name shows that I'm getting a little punchy.\n",
    "re.findall(exponential_expression,contains_exp_exp)\n",
    "\n",
    "X_train2['exponential expression count'] = X_train2['text'].apply(lambda x: len(re.findall(exponential_expression,x)))\n",
    "X_test2['exponential expression count'] = X_test2['text'].apply(lambda x: len(re.findall(exponential_expression,x)))\n",
    "## Let's see if that's any info at all. \n",
    "quick_clf = MultinomialNB(alpha=.01)\n",
    "quick_clf.fit(X_train2.drop('text',axis=1),y_train)\n",
    "report_clf_evals(quick_clf,X_train2.drop('text', axis=1),y_train)"
   ]
  },
  {
   "cell_type": "code",
   "execution_count": null,
   "metadata": {},
   "outputs": [],
   "source": [
    "tfidf_vect.ngram_range = (1,2)\n",
    "tfidf_vect.stop_words = 'english'\n",
    "col_trans = ColumnTransformer([#('vectorizer', count_vect, 'text'),\n",
    "                                ('vectorizer', tfidf_vect, 'text')\n",
    "                                ], remainder='passthrough')\n",
    "\n",
    "bayes_tfidf_clf = Pipeline(steps= [\n",
    "                        ('column_transformer', col_trans),\n",
    "                        ('multinomial_bayes', MultinomialNB(alpha = .001))\n",
    "                        ]\n",
    "                        )\n",
    "bayes_tfidf_clf.fit(X_train2,y_train)"
   ]
  },
  {
   "cell_type": "code",
   "execution_count": null,
   "metadata": {},
   "outputs": [],
   "source": [
    "report_clf_evals(bayes_tfidf_clf,X_train2,y_train)\n",
    "report_clf_evals(bayes_tfidf_clf,X_test2,y_test)"
   ]
  },
  {
   "cell_type": "code",
   "execution_count": null,
   "metadata": {},
   "outputs": [],
   "source": [
    "scale_cols = X_train2.select_dtypes(int).columns ##the columns value in the column transformer needs a list\n",
    "col_trans2 = ColumnTransformer([('scaler', StandardScaler(),scale_cols),\n",
    "                                ('vectorizer', tfidf_vect, 'text'),\n",
    "                                ], \n",
    "                                remainder='passthrough')\n",
    "sgd_clf = Pipeline(steps=[('col_transformer',col_trans2),\n",
    "                            #('kernel_approximator',Nystroem()),\n",
    "                            ('sgd_clf',SGDClassifier())])\n",
    "sgd_clf.fit(X_train2,y_train)"
   ]
  },
  {
   "cell_type": "code",
   "execution_count": null,
   "metadata": {},
   "outputs": [],
   "source": [
    "report_clf_evals(sgd_clf,X_train2,y_train)\n",
    "report_clf_evals(sgd_clf,X_test2,y_test)"
   ]
  },
  {
   "source": [
    "## Lemmatize? \n",
    "\n",
    "I want to check if lemmatizing has any benefit. I'm going to set up a lemmatizer and see if I get a noteworthy performance jump. I don't really anticipate that and the computational costs (large) probably outweigh benefitis. However, this might have an effect that worth capturing.\n",
    "\n",
    "### Comment on more features\n",
    "\n",
    "Those features mostly seemed to bias the classifier toward misclassifying some docs as coming from \"mathy\" subject. There was no performance increase. You can't usually predict the effect of adding features..."
   ],
   "cell_type": "markdown",
   "metadata": {}
  },
  {
   "cell_type": "code",
   "execution_count": null,
   "metadata": {},
   "outputs": [],
   "source": []
  },
  {
   "cell_type": "code",
   "execution_count": 19,
   "metadata": {},
   "outputs": [
    {
     "output_type": "execute_result",
     "data": {
      "text/plain": [
       "['ever', 'see', '.', 'I', 'have']"
      ]
     },
     "metadata": {},
     "execution_count": 19
    }
   ],
   "source": [
    "import nltk\n",
    "from nltk import WordNetLemmatizer, pos_tag, pos_tag_sents, word_tokenize\n",
    "from nltk.corpus import wordnet\n",
    "from nltk.stem import SnowballStemmer, PorterStemmer\n",
    "from collections import defaultdict\n",
    "\n",
    "test_string = \"The Big Lebowski is the funniest movie I have ever seen. I have been watching it yearly since I saw it in the theatre the year it was released.\" ## used to make sure we're gettting desired results.\n",
    "\n",
    "lemmatizer = WordNetLemmatizer()\n",
    "#print(pos_tag(word_tokenize(test_string)),'\\n\\n')\n",
    "\n",
    "## set up a mapper. Just in case we get a \n",
    "pos_map = defaultdict(lambda: 'n') ##if the key is not found, assumes noun.\n",
    "pos_map['J'] = wordnet.ADJ\n",
    "pos_map['N'] = wordnet.NOUN\n",
    "pos_map['V'] = wordnet.VERB\n",
    "pos_map['R'] = wordnet.ADV \n",
    " \n",
    "\n",
    "def pos_tag_as_wn(word_list,map):\n",
    "    \"\"\" \n",
    "    Returns a (string, pos) tuple from a list of words. The pos is a string\n",
    "    that has the value of a wordnet POS tag.\n",
    "    \"\"\"\n",
    "    return [(w[0],map[w[1][0]]) for w in pos_tag(word_list)]\n",
    "\n",
    "[lemmatizer.lemmatize(w[0], w[1]) for w in pos_tag_as_wn(word_tokenize(test_string),pos_map)][9:14]"
   ]
  },
  {
   "cell_type": "code",
   "execution_count": null,
   "metadata": {},
   "outputs": [],
   "source": [
    "## Checking speed of defaultdict\n",
    "## Usually, python stuff is pretty optimized, but I wondered whether a default dict would \n",
    "## be faster than just using dict.setdefault()\n",
    "import time\n",
    "start = time.time()\n",
    "for i in range(100_000):\n",
    "    for e in 'JNVRA':\n",
    "        pos_map[e]\n",
    "end = time.time()\n",
    "print(end-start)\n",
    "temp = {'J':'a','N':'n','V':'v','R':wordnet.ADV}\n",
    "start = time.time()\n",
    "for i in range(100_000):\n",
    "    for e in 'JNVRA':\n",
    "        temp.setdefault(e,'n')\n",
    "end = time.time()\n",
    "print(end-start)\n",
    "## Default dict is fast!"
   ]
  },
  {
   "cell_type": "code",
   "execution_count": 20,
   "metadata": {},
   "outputs": [],
   "source": [
    "def lemmatizing_tokenizer(text):\n",
    "    '''\n",
    "    Returns lemmatized string lists given a text to lemmatize, i.e. gives the lemmatized tokens in text.\n",
    "\n",
    "    This is a very slow operation for a large number of docs; pos_tag is comp expensive. \n",
    "    I was mostly concerned to see if lemmatizing helped. If it had, I would work out a solution with pos_tag_sent, which (I hope) would     give some performance benefit. \n",
    "    '''\n",
    "    return [lemmatizer.lemmatize(w[0], w[1]) for w in pos_tag_as_wn(word_tokenize(text),pos_map)]"
   ]
  },
  {
   "cell_type": "code",
   "execution_count": 31,
   "metadata": {},
   "outputs": [],
   "source": [
    "X_train.rename({0: 'text'}, axis=1, inplace=True)\n",
    "X_test.rename({0: 'text'}, axis=1, inplace=True)\n",
    "\n",
    "tfidf_vect.ngram_range = (1,2)\n",
    "tfidf_vect.tokenizer = None\n",
    "tfidf_vect.stop_words = 'english'\n",
    "col_trans = ColumnTransformer([#('vectorizer', count_vect, 'text'),\n",
    "                                ('vectorizer', tfidf_vect, 'text')\n",
    "                                ], remainder='passthrough')\n",
    "\n",
    "bayes_tfidf_clf = Pipeline(steps= [\n",
    "                        ('column_transformer', col_trans),\n",
    "                        ('multinomial_bayes', MultinomialNB(alpha = .001))\n",
    "                        ]\n",
    "                        )\n"
   ]
  },
  {
   "cell_type": "code",
   "execution_count": 32,
   "metadata": {},
   "outputs": [
    {
     "output_type": "stream",
     "name": "stdout",
     "text": [
      "  Accuracy: 0.6981\n  Precision: 0.6973\n  Recall: 0.6869\n  F1: 0.6862\n"
     ]
    },
    {
     "output_type": "display_data",
     "data": {
      "text/plain": "<Figure size 432x288 with 2 Axes>",
      "image/svg+xml": "<?xml version=\"1.0\" encoding=\"utf-8\" standalone=\"no\"?>\n<!DOCTYPE svg PUBLIC \"-//W3C//DTD SVG 1.1//EN\"\n  \"http://www.w3.org/Graphics/SVG/1.1/DTD/svg11.dtd\">\n<!-- Created with matplotlib (https://matplotlib.org/) -->\n<svg height=\"277.314375pt\" version=\"1.1\" viewBox=\"0 0 369.342625 277.314375\" width=\"369.342625pt\" xmlns=\"http://www.w3.org/2000/svg\" xmlns:xlink=\"http://www.w3.org/1999/xlink\">\n <defs>\n  <style type=\"text/css\">\n*{stroke-linecap:butt;stroke-linejoin:round;}\n  </style>\n </defs>\n <g id=\"figure_1\">\n  <g id=\"patch_1\">\n   <path d=\"M 0 277.314375 \nL 369.342625 277.314375 \nL 369.342625 0 \nL 0 0 \nz\n\" style=\"fill:none;\"/>\n  </g>\n  <g id=\"axes_1\">\n   <g id=\"patch_2\">\n    <path d=\"M 40.603125 239.758125 \nL 308.443125 239.758125 \nL 308.443125 22.318125 \nL 40.603125 22.318125 \nz\n\" style=\"fill:#ffffff;\"/>\n   </g>\n   <g id=\"QuadMesh_1\">\n    <path clip-path=\"url(#pfdd365e9a7)\" d=\"M 40.603125 22.318125 \nL 53.995125 22.318125 \nL 53.995125 33.190125 \nL 40.603125 33.190125 \nL 40.603125 22.318125 \n\" style=\"fill:#ad1759;\"/>\n    <path clip-path=\"url(#pfdd365e9a7)\" d=\"M 53.995125 22.318125 \nL 67.387125 22.318125 \nL 67.387125 33.190125 \nL 53.995125 33.190125 \nL 53.995125 22.318125 \n\" style=\"fill:#04051a;\"/>\n    <path clip-path=\"url(#pfdd365e9a7)\" d=\"M 67.387125 22.318125 \nL 80.779125 22.318125 \nL 80.779125 33.190125 \nL 67.387125 33.190125 \nL 67.387125 22.318125 \n\" style=\"fill:#04051a;\"/>\n    <path clip-path=\"url(#pfdd365e9a7)\" d=\"M 80.779125 22.318125 \nL 94.171125 22.318125 \nL 94.171125 33.190125 \nL 80.779125 33.190125 \nL 80.779125 22.318125 \n\" style=\"fill:#03051a;\"/>\n    <path clip-path=\"url(#pfdd365e9a7)\" d=\"M 94.171125 22.318125 \nL 107.563125 22.318125 \nL 107.563125 33.190125 \nL 94.171125 33.190125 \nL 94.171125 22.318125 \n\" style=\"fill:#03051a;\"/>\n    <path clip-path=\"url(#pfdd365e9a7)\" d=\"M 107.563125 22.318125 \nL 120.955125 22.318125 \nL 120.955125 33.190125 \nL 107.563125 33.190125 \nL 107.563125 22.318125 \n\" style=\"fill:#04051a;\"/>\n    <path clip-path=\"url(#pfdd365e9a7)\" d=\"M 120.955125 22.318125 \nL 134.347125 22.318125 \nL 134.347125 33.190125 \nL 120.955125 33.190125 \nL 120.955125 22.318125 \n\" style=\"fill:#03051a;\"/>\n    <path clip-path=\"url(#pfdd365e9a7)\" d=\"M 134.347125 22.318125 \nL 147.739125 22.318125 \nL 147.739125 33.190125 \nL 134.347125 33.190125 \nL 134.347125 22.318125 \n\" style=\"fill:#03051a;\"/>\n    <path clip-path=\"url(#pfdd365e9a7)\" d=\"M 147.739125 22.318125 \nL 161.131125 22.318125 \nL 161.131125 33.190125 \nL 147.739125 33.190125 \nL 147.739125 22.318125 \n\" style=\"fill:#05061b;\"/>\n    <path clip-path=\"url(#pfdd365e9a7)\" d=\"M 161.131125 22.318125 \nL 174.523125 22.318125 \nL 174.523125 33.190125 \nL 161.131125 33.190125 \nL 161.131125 22.318125 \n\" style=\"fill:#03051a;\"/>\n    <path clip-path=\"url(#pfdd365e9a7)\" d=\"M 174.523125 22.318125 \nL 187.915125 22.318125 \nL 187.915125 33.190125 \nL 174.523125 33.190125 \nL 174.523125 22.318125 \n\" style=\"fill:#0d0a21;\"/>\n    <path clip-path=\"url(#pfdd365e9a7)\" d=\"M 187.915125 22.318125 \nL 201.307125 22.318125 \nL 201.307125 33.190125 \nL 187.915125 33.190125 \nL 187.915125 22.318125 \n\" style=\"fill:#07071d;\"/>\n    <path clip-path=\"url(#pfdd365e9a7)\" d=\"M 201.307125 22.318125 \nL 214.699125 22.318125 \nL 214.699125 33.190125 \nL 201.307125 33.190125 \nL 201.307125 22.318125 \n\" style=\"fill:#03051a;\"/>\n    <path clip-path=\"url(#pfdd365e9a7)\" d=\"M 214.699125 22.318125 \nL 228.091125 22.318125 \nL 228.091125 33.190125 \nL 214.699125 33.190125 \nL 214.699125 22.318125 \n\" style=\"fill:#05061b;\"/>\n    <path clip-path=\"url(#pfdd365e9a7)\" d=\"M 228.091125 22.318125 \nL 241.483125 22.318125 \nL 241.483125 33.190125 \nL 228.091125 33.190125 \nL 228.091125 22.318125 \n\" style=\"fill:#08081e;\"/>\n    <path clip-path=\"url(#pfdd365e9a7)\" d=\"M 241.483125 22.318125 \nL 254.875125 22.318125 \nL 254.875125 33.190125 \nL 241.483125 33.190125 \nL 241.483125 22.318125 \n\" style=\"fill:#3a1a41;\"/>\n    <path clip-path=\"url(#pfdd365e9a7)\" d=\"M 254.875125 22.318125 \nL 268.267125 22.318125 \nL 268.267125 33.190125 \nL 254.875125 33.190125 \nL 254.875125 22.318125 \n\" style=\"fill:#0a091f;\"/>\n    <path clip-path=\"url(#pfdd365e9a7)\" d=\"M 268.267125 22.318125 \nL 281.659125 22.318125 \nL 281.659125 33.190125 \nL 268.267125 33.190125 \nL 268.267125 22.318125 \n\" style=\"fill:#08081e;\"/>\n    <path clip-path=\"url(#pfdd365e9a7)\" d=\"M 281.659125 22.318125 \nL 295.051125 22.318125 \nL 295.051125 33.190125 \nL 281.659125 33.190125 \nL 281.659125 22.318125 \n\" style=\"fill:#0b0920;\"/>\n    <path clip-path=\"url(#pfdd365e9a7)\" d=\"M 295.051125 22.318125 \nL 308.443125 22.318125 \nL 308.443125 33.190125 \nL 295.051125 33.190125 \nL 295.051125 22.318125 \n\" style=\"fill:#20122e;\"/>\n    <path clip-path=\"url(#pfdd365e9a7)\" d=\"M 40.603125 33.190125 \nL 53.995125 33.190125 \nL 53.995125 44.062125 \nL 40.603125 44.062125 \nL 40.603125 33.190125 \n\" style=\"fill:#05061b;\"/>\n    <path clip-path=\"url(#pfdd365e9a7)\" d=\"M 53.995125 33.190125 \nL 67.387125 33.190125 \nL 67.387125 44.062125 \nL 53.995125 44.062125 \nL 53.995125 33.190125 \n\" style=\"fill:#f58b63;\"/>\n    <path clip-path=\"url(#pfdd365e9a7)\" d=\"M 67.387125 33.190125 \nL 80.779125 33.190125 \nL 80.779125 44.062125 \nL 67.387125 44.062125 \nL 67.387125 33.190125 \n\" style=\"fill:#0a091f;\"/>\n    <path clip-path=\"url(#pfdd365e9a7)\" d=\"M 80.779125 33.190125 \nL 94.171125 33.190125 \nL 94.171125 44.062125 \nL 80.779125 44.062125 \nL 80.779125 33.190125 \n\" style=\"fill:#100b23;\"/>\n    <path clip-path=\"url(#pfdd365e9a7)\" d=\"M 94.171125 33.190125 \nL 107.563125 33.190125 \nL 107.563125 44.062125 \nL 94.171125 44.062125 \nL 94.171125 33.190125 \n\" style=\"fill:#07071d;\"/>\n    <path clip-path=\"url(#pfdd365e9a7)\" d=\"M 107.563125 33.190125 \nL 120.955125 33.190125 \nL 120.955125 44.062125 \nL 107.563125 44.062125 \nL 107.563125 33.190125 \n\" style=\"fill:#180f29;\"/>\n    <path clip-path=\"url(#pfdd365e9a7)\" d=\"M 120.955125 33.190125 \nL 134.347125 33.190125 \nL 134.347125 44.062125 \nL 120.955125 44.062125 \nL 120.955125 33.190125 \n\" style=\"fill:#05061b;\"/>\n    <path clip-path=\"url(#pfdd365e9a7)\" d=\"M 134.347125 33.190125 \nL 147.739125 33.190125 \nL 147.739125 44.062125 \nL 134.347125 44.062125 \nL 134.347125 33.190125 \n\" style=\"fill:#03051a;\"/>\n    <path clip-path=\"url(#pfdd365e9a7)\" d=\"M 147.739125 33.190125 \nL 161.131125 33.190125 \nL 161.131125 44.062125 \nL 147.739125 44.062125 \nL 147.739125 33.190125 \n\" style=\"fill:#05061b;\"/>\n    <path clip-path=\"url(#pfdd365e9a7)\" d=\"M 161.131125 33.190125 \nL 174.523125 33.190125 \nL 174.523125 44.062125 \nL 161.131125 44.062125 \nL 161.131125 33.190125 \n\" style=\"fill:#04051a;\"/>\n    <path clip-path=\"url(#pfdd365e9a7)\" d=\"M 174.523125 33.190125 \nL 187.915125 33.190125 \nL 187.915125 44.062125 \nL 174.523125 44.062125 \nL 174.523125 33.190125 \n\" style=\"fill:#07071d;\"/>\n    <path clip-path=\"url(#pfdd365e9a7)\" d=\"M 187.915125 33.190125 \nL 201.307125 33.190125 \nL 201.307125 44.062125 \nL 187.915125 44.062125 \nL 187.915125 33.190125 \n\" style=\"fill:#100b23;\"/>\n    <path clip-path=\"url(#pfdd365e9a7)\" d=\"M 201.307125 33.190125 \nL 214.699125 33.190125 \nL 214.699125 44.062125 \nL 201.307125 44.062125 \nL 201.307125 33.190125 \n\" style=\"fill:#05061b;\"/>\n    <path clip-path=\"url(#pfdd365e9a7)\" d=\"M 214.699125 33.190125 \nL 228.091125 33.190125 \nL 228.091125 44.062125 \nL 214.699125 44.062125 \nL 214.699125 33.190125 \n\" style=\"fill:#03051a;\"/>\n    <path clip-path=\"url(#pfdd365e9a7)\" d=\"M 228.091125 33.190125 \nL 241.483125 33.190125 \nL 241.483125 44.062125 \nL 228.091125 44.062125 \nL 228.091125 33.190125 \n\" style=\"fill:#08081e;\"/>\n    <path clip-path=\"url(#pfdd365e9a7)\" d=\"M 241.483125 33.190125 \nL 254.875125 33.190125 \nL 254.875125 44.062125 \nL 241.483125 44.062125 \nL 241.483125 33.190125 \n\" style=\"fill:#04051a;\"/>\n    <path clip-path=\"url(#pfdd365e9a7)\" d=\"M 254.875125 33.190125 \nL 268.267125 33.190125 \nL 268.267125 44.062125 \nL 254.875125 44.062125 \nL 254.875125 33.190125 \n\" style=\"fill:#03051a;\"/>\n    <path clip-path=\"url(#pfdd365e9a7)\" d=\"M 268.267125 33.190125 \nL 281.659125 33.190125 \nL 281.659125 44.062125 \nL 268.267125 44.062125 \nL 268.267125 33.190125 \n\" style=\"fill:#04051a;\"/>\n    <path clip-path=\"url(#pfdd365e9a7)\" d=\"M 281.659125 33.190125 \nL 295.051125 33.190125 \nL 295.051125 44.062125 \nL 281.659125 44.062125 \nL 281.659125 33.190125 \n\" style=\"fill:#03051a;\"/>\n    <path clip-path=\"url(#pfdd365e9a7)\" d=\"M 295.051125 33.190125 \nL 308.443125 33.190125 \nL 308.443125 44.062125 \nL 295.051125 44.062125 \nL 295.051125 33.190125 \n\" style=\"fill:#03051a;\"/>\n    <path clip-path=\"url(#pfdd365e9a7)\" d=\"M 40.603125 44.062125 \nL 53.995125 44.062125 \nL 53.995125 54.934125 \nL 40.603125 54.934125 \nL 40.603125 44.062125 \n\" style=\"fill:#05061b;\"/>\n    <path clip-path=\"url(#pfdd365e9a7)\" d=\"M 53.995125 44.062125 \nL 67.387125 44.062125 \nL 67.387125 54.934125 \nL 53.995125 54.934125 \nL 53.995125 44.062125 \n\" style=\"fill:#170f28;\"/>\n    <path clip-path=\"url(#pfdd365e9a7)\" d=\"M 67.387125 44.062125 \nL 80.779125 44.062125 \nL 80.779125 54.934125 \nL 67.387125 54.934125 \nL 67.387125 44.062125 \n\" style=\"fill:#e43841;\"/>\n    <path clip-path=\"url(#pfdd365e9a7)\" d=\"M 80.779125 44.062125 \nL 94.171125 44.062125 \nL 94.171125 54.934125 \nL 80.779125 54.934125 \nL 80.779125 44.062125 \n\" style=\"fill:#2a1636;\"/>\n    <path clip-path=\"url(#pfdd365e9a7)\" d=\"M 94.171125 44.062125 \nL 107.563125 44.062125 \nL 107.563125 54.934125 \nL 94.171125 54.934125 \nL 94.171125 44.062125 \n\" style=\"fill:#07071d;\"/>\n    <path clip-path=\"url(#pfdd365e9a7)\" d=\"M 107.563125 44.062125 \nL 120.955125 44.062125 \nL 120.955125 54.934125 \nL 107.563125 54.934125 \nL 107.563125 44.062125 \n\" style=\"fill:#1d112c;\"/>\n    <path clip-path=\"url(#pfdd365e9a7)\" d=\"M 120.955125 44.062125 \nL 134.347125 44.062125 \nL 134.347125 54.934125 \nL 120.955125 54.934125 \nL 120.955125 44.062125 \n\" style=\"fill:#07071d;\"/>\n    <path clip-path=\"url(#pfdd365e9a7)\" d=\"M 134.347125 44.062125 \nL 147.739125 44.062125 \nL 147.739125 54.934125 \nL 134.347125 54.934125 \nL 134.347125 44.062125 \n\" style=\"fill:#05061b;\"/>\n    <path clip-path=\"url(#pfdd365e9a7)\" d=\"M 147.739125 44.062125 \nL 161.131125 44.062125 \nL 161.131125 54.934125 \nL 147.739125 54.934125 \nL 147.739125 44.062125 \n\" style=\"fill:#04051a;\"/>\n    <path clip-path=\"url(#pfdd365e9a7)\" d=\"M 161.131125 44.062125 \nL 174.523125 44.062125 \nL 174.523125 54.934125 \nL 161.131125 54.934125 \nL 161.131125 44.062125 \n\" style=\"fill:#03051a;\"/>\n    <path clip-path=\"url(#pfdd365e9a7)\" d=\"M 174.523125 44.062125 \nL 187.915125 44.062125 \nL 187.915125 54.934125 \nL 174.523125 54.934125 \nL 174.523125 44.062125 \n\" style=\"fill:#100b23;\"/>\n    <path clip-path=\"url(#pfdd365e9a7)\" d=\"M 187.915125 44.062125 \nL 201.307125 44.062125 \nL 201.307125 54.934125 \nL 187.915125 54.934125 \nL 187.915125 44.062125 \n\" style=\"fill:#0d0a21;\"/>\n    <path clip-path=\"url(#pfdd365e9a7)\" d=\"M 201.307125 44.062125 \nL 214.699125 44.062125 \nL 214.699125 54.934125 \nL 201.307125 54.934125 \nL 201.307125 44.062125 \n\" style=\"fill:#05061b;\"/>\n    <path clip-path=\"url(#pfdd365e9a7)\" d=\"M 214.699125 44.062125 \nL 228.091125 44.062125 \nL 228.091125 54.934125 \nL 214.699125 54.934125 \nL 214.699125 44.062125 \n\" style=\"fill:#05061b;\"/>\n    <path clip-path=\"url(#pfdd365e9a7)\" d=\"M 228.091125 44.062125 \nL 241.483125 44.062125 \nL 241.483125 54.934125 \nL 228.091125 54.934125 \nL 228.091125 44.062125 \n\" style=\"fill:#0d0a21;\"/>\n    <path clip-path=\"url(#pfdd365e9a7)\" d=\"M 241.483125 44.062125 \nL 254.875125 44.062125 \nL 254.875125 54.934125 \nL 241.483125 54.934125 \nL 241.483125 44.062125 \n\" style=\"fill:#05061b;\"/>\n    <path clip-path=\"url(#pfdd365e9a7)\" d=\"M 254.875125 44.062125 \nL 268.267125 44.062125 \nL 268.267125 54.934125 \nL 254.875125 54.934125 \nL 254.875125 44.062125 \n\" style=\"fill:#05061b;\"/>\n    <path clip-path=\"url(#pfdd365e9a7)\" d=\"M 268.267125 44.062125 \nL 281.659125 44.062125 \nL 281.659125 54.934125 \nL 268.267125 54.934125 \nL 268.267125 44.062125 \n\" style=\"fill:#03051a;\"/>\n    <path clip-path=\"url(#pfdd365e9a7)\" d=\"M 281.659125 44.062125 \nL 295.051125 44.062125 \nL 295.051125 54.934125 \nL 281.659125 54.934125 \nL 281.659125 44.062125 \n\" style=\"fill:#05061b;\"/>\n    <path clip-path=\"url(#pfdd365e9a7)\" d=\"M 295.051125 44.062125 \nL 308.443125 44.062125 \nL 308.443125 54.934125 \nL 295.051125 54.934125 \nL 295.051125 44.062125 \n\" style=\"fill:#04051a;\"/>\n    <path clip-path=\"url(#pfdd365e9a7)\" d=\"M 40.603125 54.934125 \nL 53.995125 54.934125 \nL 53.995125 65.806125 \nL 40.603125 65.806125 \nL 40.603125 54.934125 \n\" style=\"fill:#03051a;\"/>\n    <path clip-path=\"url(#pfdd365e9a7)\" d=\"M 53.995125 54.934125 \nL 67.387125 54.934125 \nL 67.387125 65.806125 \nL 53.995125 65.806125 \nL 53.995125 54.934125 \n\" style=\"fill:#130d25;\"/>\n    <path clip-path=\"url(#pfdd365e9a7)\" d=\"M 67.387125 54.934125 \nL 80.779125 54.934125 \nL 80.779125 65.806125 \nL 67.387125 65.806125 \nL 67.387125 54.934125 \n\" style=\"fill:#1d112c;\"/>\n    <path clip-path=\"url(#pfdd365e9a7)\" d=\"M 80.779125 54.934125 \nL 94.171125 54.934125 \nL 94.171125 65.806125 \nL 80.779125 65.806125 \nL 80.779125 54.934125 \n\" style=\"fill:#f47c55;\"/>\n    <path clip-path=\"url(#pfdd365e9a7)\" d=\"M 94.171125 54.934125 \nL 107.563125 54.934125 \nL 107.563125 65.806125 \nL 94.171125 65.806125 \nL 94.171125 54.934125 \n\" style=\"fill:#211330;\"/>\n    <path clip-path=\"url(#pfdd365e9a7)\" d=\"M 107.563125 54.934125 \nL 120.955125 54.934125 \nL 120.955125 65.806125 \nL 107.563125 65.806125 \nL 107.563125 54.934125 \n\" style=\"fill:#03051a;\"/>\n    <path clip-path=\"url(#pfdd365e9a7)\" d=\"M 120.955125 54.934125 \nL 134.347125 54.934125 \nL 134.347125 65.806125 \nL 120.955125 65.806125 \nL 120.955125 54.934125 \n\" style=\"fill:#0d0a21;\"/>\n    <path clip-path=\"url(#pfdd365e9a7)\" d=\"M 134.347125 54.934125 \nL 147.739125 54.934125 \nL 147.739125 65.806125 \nL 134.347125 65.806125 \nL 134.347125 54.934125 \n\" style=\"fill:#03051a;\"/>\n    <path clip-path=\"url(#pfdd365e9a7)\" d=\"M 147.739125 54.934125 \nL 161.131125 54.934125 \nL 161.131125 65.806125 \nL 147.739125 65.806125 \nL 147.739125 54.934125 \n\" style=\"fill:#03051a;\"/>\n    <path clip-path=\"url(#pfdd365e9a7)\" d=\"M 161.131125 54.934125 \nL 174.523125 54.934125 \nL 174.523125 65.806125 \nL 161.131125 65.806125 \nL 161.131125 54.934125 \n\" style=\"fill:#03051a;\"/>\n    <path clip-path=\"url(#pfdd365e9a7)\" d=\"M 174.523125 54.934125 \nL 187.915125 54.934125 \nL 187.915125 65.806125 \nL 174.523125 65.806125 \nL 174.523125 54.934125 \n\" style=\"fill:#07071d;\"/>\n    <path clip-path=\"url(#pfdd365e9a7)\" d=\"M 187.915125 54.934125 \nL 201.307125 54.934125 \nL 201.307125 65.806125 \nL 187.915125 65.806125 \nL 187.915125 54.934125 \n\" style=\"fill:#04051a;\"/>\n    <path clip-path=\"url(#pfdd365e9a7)\" d=\"M 201.307125 54.934125 \nL 214.699125 54.934125 \nL 214.699125 65.806125 \nL 201.307125 65.806125 \nL 201.307125 54.934125 \n\" style=\"fill:#100b23;\"/>\n    <path clip-path=\"url(#pfdd365e9a7)\" d=\"M 214.699125 54.934125 \nL 228.091125 54.934125 \nL 228.091125 65.806125 \nL 214.699125 65.806125 \nL 214.699125 54.934125 \n\" style=\"fill:#03051a;\"/>\n    <path clip-path=\"url(#pfdd365e9a7)\" d=\"M 228.091125 54.934125 \nL 241.483125 54.934125 \nL 241.483125 65.806125 \nL 228.091125 65.806125 \nL 228.091125 54.934125 \n\" style=\"fill:#03051a;\"/>\n    <path clip-path=\"url(#pfdd365e9a7)\" d=\"M 241.483125 54.934125 \nL 254.875125 54.934125 \nL 254.875125 65.806125 \nL 241.483125 65.806125 \nL 241.483125 54.934125 \n\" style=\"fill:#03051a;\"/>\n    <path clip-path=\"url(#pfdd365e9a7)\" d=\"M 254.875125 54.934125 \nL 268.267125 54.934125 \nL 268.267125 65.806125 \nL 254.875125 65.806125 \nL 254.875125 54.934125 \n\" style=\"fill:#03051a;\"/>\n    <path clip-path=\"url(#pfdd365e9a7)\" d=\"M 268.267125 54.934125 \nL 281.659125 54.934125 \nL 281.659125 65.806125 \nL 268.267125 65.806125 \nL 268.267125 54.934125 \n\" style=\"fill:#03051a;\"/>\n    <path clip-path=\"url(#pfdd365e9a7)\" d=\"M 281.659125 54.934125 \nL 295.051125 54.934125 \nL 295.051125 65.806125 \nL 281.659125 65.806125 \nL 281.659125 54.934125 \n\" style=\"fill:#03051a;\"/>\n    <path clip-path=\"url(#pfdd365e9a7)\" d=\"M 295.051125 54.934125 \nL 308.443125 54.934125 \nL 308.443125 65.806125 \nL 295.051125 65.806125 \nL 295.051125 54.934125 \n\" style=\"fill:#03051a;\"/>\n    <path clip-path=\"url(#pfdd365e9a7)\" d=\"M 40.603125 65.806125 \nL 53.995125 65.806125 \nL 53.995125 76.678125 \nL 40.603125 76.678125 \nL 40.603125 65.806125 \n\" style=\"fill:#04051a;\"/>\n    <path clip-path=\"url(#pfdd365e9a7)\" d=\"M 53.995125 65.806125 \nL 67.387125 65.806125 \nL 67.387125 76.678125 \nL 53.995125 76.678125 \nL 53.995125 65.806125 \n\" style=\"fill:#0e0b22;\"/>\n    <path clip-path=\"url(#pfdd365e9a7)\" d=\"M 67.387125 65.806125 \nL 80.779125 65.806125 \nL 80.779125 76.678125 \nL 67.387125 76.678125 \nL 67.387125 65.806125 \n\" style=\"fill:#0a091f;\"/>\n    <path clip-path=\"url(#pfdd365e9a7)\" d=\"M 80.779125 65.806125 \nL 94.171125 65.806125 \nL 94.171125 76.678125 \nL 80.779125 76.678125 \nL 80.779125 65.806125 \n\" style=\"fill:#1b112b;\"/>\n    <path clip-path=\"url(#pfdd365e9a7)\" d=\"M 94.171125 65.806125 \nL 107.563125 65.806125 \nL 107.563125 76.678125 \nL 94.171125 76.678125 \nL 94.171125 65.806125 \n\" style=\"fill:#f3714d;\"/>\n    <path clip-path=\"url(#pfdd365e9a7)\" d=\"M 107.563125 65.806125 \nL 120.955125 65.806125 \nL 120.955125 76.678125 \nL 107.563125 76.678125 \nL 107.563125 65.806125 \n\" style=\"fill:#06071c;\"/>\n    <path clip-path=\"url(#pfdd365e9a7)\" d=\"M 120.955125 65.806125 \nL 134.347125 65.806125 \nL 134.347125 76.678125 \nL 120.955125 76.678125 \nL 120.955125 65.806125 \n\" style=\"fill:#0e0b22;\"/>\n    <path clip-path=\"url(#pfdd365e9a7)\" d=\"M 134.347125 65.806125 \nL 147.739125 65.806125 \nL 147.739125 76.678125 \nL 134.347125 76.678125 \nL 134.347125 65.806125 \n\" style=\"fill:#05061b;\"/>\n    <path clip-path=\"url(#pfdd365e9a7)\" d=\"M 147.739125 65.806125 \nL 161.131125 65.806125 \nL 161.131125 76.678125 \nL 147.739125 76.678125 \nL 147.739125 65.806125 \n\" style=\"fill:#05061b;\"/>\n    <path clip-path=\"url(#pfdd365e9a7)\" d=\"M 161.131125 65.806125 \nL 174.523125 65.806125 \nL 174.523125 76.678125 \nL 161.131125 76.678125 \nL 161.131125 65.806125 \n\" style=\"fill:#03051a;\"/>\n    <path clip-path=\"url(#pfdd365e9a7)\" d=\"M 174.523125 65.806125 \nL 187.915125 65.806125 \nL 187.915125 76.678125 \nL 174.523125 76.678125 \nL 174.523125 65.806125 \n\" style=\"fill:#100b23;\"/>\n    <path clip-path=\"url(#pfdd365e9a7)\" d=\"M 187.915125 65.806125 \nL 201.307125 65.806125 \nL 201.307125 76.678125 \nL 187.915125 76.678125 \nL 187.915125 65.806125 \n\" style=\"fill:#05061b;\"/>\n    <path clip-path=\"url(#pfdd365e9a7)\" d=\"M 201.307125 65.806125 \nL 214.699125 65.806125 \nL 214.699125 76.678125 \nL 201.307125 76.678125 \nL 201.307125 65.806125 \n\" style=\"fill:#0a091f;\"/>\n    <path clip-path=\"url(#pfdd365e9a7)\" d=\"M 214.699125 65.806125 \nL 228.091125 65.806125 \nL 228.091125 76.678125 \nL 214.699125 76.678125 \nL 214.699125 65.806125 \n\" style=\"fill:#05061b;\"/>\n    <path clip-path=\"url(#pfdd365e9a7)\" d=\"M 228.091125 65.806125 \nL 241.483125 65.806125 \nL 241.483125 76.678125 \nL 228.091125 76.678125 \nL 228.091125 65.806125 \n\" style=\"fill:#0a091f;\"/>\n    <path clip-path=\"url(#pfdd365e9a7)\" d=\"M 241.483125 65.806125 \nL 254.875125 65.806125 \nL 254.875125 76.678125 \nL 241.483125 76.678125 \nL 241.483125 65.806125 \n\" style=\"fill:#03051a;\"/>\n    <path clip-path=\"url(#pfdd365e9a7)\" d=\"M 254.875125 65.806125 \nL 268.267125 65.806125 \nL 268.267125 76.678125 \nL 254.875125 76.678125 \nL 254.875125 65.806125 \n\" style=\"fill:#04051a;\"/>\n    <path clip-path=\"url(#pfdd365e9a7)\" d=\"M 268.267125 65.806125 \nL 281.659125 65.806125 \nL 281.659125 76.678125 \nL 268.267125 76.678125 \nL 268.267125 65.806125 \n\" style=\"fill:#03051a;\"/>\n    <path clip-path=\"url(#pfdd365e9a7)\" d=\"M 281.659125 65.806125 \nL 295.051125 65.806125 \nL 295.051125 76.678125 \nL 281.659125 76.678125 \nL 281.659125 65.806125 \n\" style=\"fill:#03051a;\"/>\n    <path clip-path=\"url(#pfdd365e9a7)\" d=\"M 295.051125 65.806125 \nL 308.443125 65.806125 \nL 308.443125 76.678125 \nL 295.051125 76.678125 \nL 295.051125 65.806125 \n\" style=\"fill:#03051a;\"/>\n    <path clip-path=\"url(#pfdd365e9a7)\" d=\"M 40.603125 76.678125 \nL 53.995125 76.678125 \nL 53.995125 87.550125 \nL 40.603125 87.550125 \nL 40.603125 76.678125 \n\" style=\"fill:#03051a;\"/>\n    <path clip-path=\"url(#pfdd365e9a7)\" d=\"M 53.995125 76.678125 \nL 67.387125 76.678125 \nL 67.387125 87.550125 \nL 53.995125 87.550125 \nL 53.995125 76.678125 \n\" style=\"fill:#2a1636;\"/>\n    <path clip-path=\"url(#pfdd365e9a7)\" d=\"M 67.387125 76.678125 \nL 80.779125 76.678125 \nL 80.779125 87.550125 \nL 67.387125 87.550125 \nL 67.387125 76.678125 \n\" style=\"fill:#170f28;\"/>\n    <path clip-path=\"url(#pfdd365e9a7)\" d=\"M 80.779125 76.678125 \nL 94.171125 76.678125 \nL 94.171125 87.550125 \nL 80.779125 87.550125 \nL 80.779125 76.678125 \n\" style=\"fill:#06071c;\"/>\n    <path clip-path=\"url(#pfdd365e9a7)\" d=\"M 94.171125 76.678125 \nL 107.563125 76.678125 \nL 107.563125 87.550125 \nL 94.171125 87.550125 \nL 94.171125 76.678125 \n\" style=\"fill:#08081e;\"/>\n    <path clip-path=\"url(#pfdd365e9a7)\" d=\"M 107.563125 76.678125 \nL 120.955125 76.678125 \nL 120.955125 87.550125 \nL 107.563125 87.550125 \nL 107.563125 76.678125 \n\" style=\"fill:#f59970;\"/>\n    <path clip-path=\"url(#pfdd365e9a7)\" d=\"M 120.955125 76.678125 \nL 134.347125 76.678125 \nL 134.347125 87.550125 \nL 120.955125 87.550125 \nL 120.955125 76.678125 \n\" style=\"fill:#05061b;\"/>\n    <path clip-path=\"url(#pfdd365e9a7)\" d=\"M 134.347125 76.678125 \nL 147.739125 76.678125 \nL 147.739125 87.550125 \nL 134.347125 87.550125 \nL 134.347125 76.678125 \n\" style=\"fill:#03051a;\"/>\n    <path clip-path=\"url(#pfdd365e9a7)\" d=\"M 147.739125 76.678125 \nL 161.131125 76.678125 \nL 161.131125 87.550125 \nL 147.739125 87.550125 \nL 147.739125 76.678125 \n\" style=\"fill:#03051a;\"/>\n    <path clip-path=\"url(#pfdd365e9a7)\" d=\"M 161.131125 76.678125 \nL 174.523125 76.678125 \nL 174.523125 87.550125 \nL 161.131125 87.550125 \nL 161.131125 76.678125 \n\" style=\"fill:#03051a;\"/>\n    <path clip-path=\"url(#pfdd365e9a7)\" d=\"M 174.523125 76.678125 \nL 187.915125 76.678125 \nL 187.915125 87.550125 \nL 174.523125 87.550125 \nL 174.523125 76.678125 \n\" style=\"fill:#08081e;\"/>\n    <path clip-path=\"url(#pfdd365e9a7)\" d=\"M 187.915125 76.678125 \nL 201.307125 76.678125 \nL 201.307125 87.550125 \nL 187.915125 87.550125 \nL 187.915125 76.678125 \n\" style=\"fill:#05061b;\"/>\n    <path clip-path=\"url(#pfdd365e9a7)\" d=\"M 201.307125 76.678125 \nL 214.699125 76.678125 \nL 214.699125 87.550125 \nL 201.307125 87.550125 \nL 201.307125 76.678125 \n\" style=\"fill:#03051a;\"/>\n    <path clip-path=\"url(#pfdd365e9a7)\" d=\"M 214.699125 76.678125 \nL 228.091125 76.678125 \nL 228.091125 87.550125 \nL 214.699125 87.550125 \nL 214.699125 76.678125 \n\" style=\"fill:#05061b;\"/>\n    <path clip-path=\"url(#pfdd365e9a7)\" d=\"M 228.091125 76.678125 \nL 241.483125 76.678125 \nL 241.483125 87.550125 \nL 228.091125 87.550125 \nL 228.091125 76.678125 \n\" style=\"fill:#05061b;\"/>\n    <path clip-path=\"url(#pfdd365e9a7)\" d=\"M 241.483125 76.678125 \nL 254.875125 76.678125 \nL 254.875125 87.550125 \nL 241.483125 87.550125 \nL 241.483125 76.678125 \n\" style=\"fill:#03051a;\"/>\n    <path clip-path=\"url(#pfdd365e9a7)\" d=\"M 254.875125 76.678125 \nL 268.267125 76.678125 \nL 268.267125 87.550125 \nL 254.875125 87.550125 \nL 254.875125 76.678125 \n\" style=\"fill:#03051a;\"/>\n    <path clip-path=\"url(#pfdd365e9a7)\" d=\"M 268.267125 76.678125 \nL 281.659125 76.678125 \nL 281.659125 87.550125 \nL 268.267125 87.550125 \nL 268.267125 76.678125 \n\" style=\"fill:#03051a;\"/>\n    <path clip-path=\"url(#pfdd365e9a7)\" d=\"M 281.659125 76.678125 \nL 295.051125 76.678125 \nL 295.051125 87.550125 \nL 281.659125 87.550125 \nL 281.659125 76.678125 \n\" style=\"fill:#03051a;\"/>\n    <path clip-path=\"url(#pfdd365e9a7)\" d=\"M 295.051125 76.678125 \nL 308.443125 76.678125 \nL 308.443125 87.550125 \nL 295.051125 87.550125 \nL 295.051125 76.678125 \n\" style=\"fill:#03051a;\"/>\n    <path clip-path=\"url(#pfdd365e9a7)\" d=\"M 40.603125 87.550125 \nL 53.995125 87.550125 \nL 53.995125 98.422125 \nL 40.603125 98.422125 \nL 40.603125 87.550125 \n\" style=\"fill:#03051a;\"/>\n    <path clip-path=\"url(#pfdd365e9a7)\" d=\"M 53.995125 87.550125 \nL 67.387125 87.550125 \nL 67.387125 98.422125 \nL 53.995125 98.422125 \nL 53.995125 87.550125 \n\" style=\"fill:#06071c;\"/>\n    <path clip-path=\"url(#pfdd365e9a7)\" d=\"M 67.387125 87.550125 \nL 80.779125 87.550125 \nL 80.779125 98.422125 \nL 67.387125 98.422125 \nL 67.387125 87.550125 \n\" style=\"fill:#04051a;\"/>\n    <path clip-path=\"url(#pfdd365e9a7)\" d=\"M 80.779125 87.550125 \nL 94.171125 87.550125 \nL 94.171125 98.422125 \nL 80.779125 98.422125 \nL 80.779125 87.550125 \n\" style=\"fill:#1d112c;\"/>\n    <path clip-path=\"url(#pfdd365e9a7)\" d=\"M 94.171125 87.550125 \nL 107.563125 87.550125 \nL 107.563125 98.422125 \nL 94.171125 98.422125 \nL 94.171125 87.550125 \n\" style=\"fill:#0e0b22;\"/>\n    <path clip-path=\"url(#pfdd365e9a7)\" d=\"M 107.563125 87.550125 \nL 120.955125 87.550125 \nL 120.955125 98.422125 \nL 107.563125 98.422125 \nL 107.563125 87.550125 \n\" style=\"fill:#03051a;\"/>\n    <path clip-path=\"url(#pfdd365e9a7)\" d=\"M 120.955125 87.550125 \nL 134.347125 87.550125 \nL 134.347125 98.422125 \nL 120.955125 98.422125 \nL 120.955125 87.550125 \n\" style=\"fill:#f69b71;\"/>\n    <path clip-path=\"url(#pfdd365e9a7)\" d=\"M 134.347125 87.550125 \nL 147.739125 87.550125 \nL 147.739125 98.422125 \nL 134.347125 98.422125 \nL 134.347125 87.550125 \n\" style=\"fill:#0a091f;\"/>\n    <path clip-path=\"url(#pfdd365e9a7)\" d=\"M 147.739125 87.550125 \nL 161.131125 87.550125 \nL 161.131125 98.422125 \nL 147.739125 98.422125 \nL 147.739125 87.550125 \n\" style=\"fill:#06071c;\"/>\n    <path clip-path=\"url(#pfdd365e9a7)\" d=\"M 161.131125 87.550125 \nL 174.523125 87.550125 \nL 174.523125 98.422125 \nL 161.131125 98.422125 \nL 161.131125 87.550125 \n\" style=\"fill:#04051a;\"/>\n    <path clip-path=\"url(#pfdd365e9a7)\" d=\"M 174.523125 87.550125 \nL 187.915125 87.550125 \nL 187.915125 98.422125 \nL 174.523125 98.422125 \nL 174.523125 87.550125 \n\" style=\"fill:#0a091f;\"/>\n    <path clip-path=\"url(#pfdd365e9a7)\" d=\"M 187.915125 87.550125 \nL 201.307125 87.550125 \nL 201.307125 98.422125 \nL 187.915125 98.422125 \nL 187.915125 87.550125 \n\" style=\"fill:#03051a;\"/>\n    <path clip-path=\"url(#pfdd365e9a7)\" d=\"M 201.307125 87.550125 \nL 214.699125 87.550125 \nL 214.699125 98.422125 \nL 201.307125 98.422125 \nL 201.307125 87.550125 \n\" style=\"fill:#07071d;\"/>\n    <path clip-path=\"url(#pfdd365e9a7)\" d=\"M 214.699125 87.550125 \nL 228.091125 87.550125 \nL 228.091125 98.422125 \nL 214.699125 98.422125 \nL 214.699125 87.550125 \n\" style=\"fill:#03051a;\"/>\n    <path clip-path=\"url(#pfdd365e9a7)\" d=\"M 228.091125 87.550125 \nL 241.483125 87.550125 \nL 241.483125 98.422125 \nL 228.091125 98.422125 \nL 228.091125 87.550125 \n\" style=\"fill:#07071d;\"/>\n    <path clip-path=\"url(#pfdd365e9a7)\" d=\"M 241.483125 87.550125 \nL 254.875125 87.550125 \nL 254.875125 98.422125 \nL 241.483125 98.422125 \nL 241.483125 87.550125 \n\" style=\"fill:#03051a;\"/>\n    <path clip-path=\"url(#pfdd365e9a7)\" d=\"M 254.875125 87.550125 \nL 268.267125 87.550125 \nL 268.267125 98.422125 \nL 254.875125 98.422125 \nL 254.875125 87.550125 \n\" style=\"fill:#03051a;\"/>\n    <path clip-path=\"url(#pfdd365e9a7)\" d=\"M 268.267125 87.550125 \nL 281.659125 87.550125 \nL 281.659125 98.422125 \nL 268.267125 98.422125 \nL 268.267125 87.550125 \n\" style=\"fill:#03051a;\"/>\n    <path clip-path=\"url(#pfdd365e9a7)\" d=\"M 281.659125 87.550125 \nL 295.051125 87.550125 \nL 295.051125 98.422125 \nL 281.659125 98.422125 \nL 281.659125 87.550125 \n\" style=\"fill:#03051a;\"/>\n    <path clip-path=\"url(#pfdd365e9a7)\" d=\"M 295.051125 87.550125 \nL 308.443125 87.550125 \nL 308.443125 98.422125 \nL 295.051125 98.422125 \nL 295.051125 87.550125 \n\" style=\"fill:#03051a;\"/>\n    <path clip-path=\"url(#pfdd365e9a7)\" d=\"M 40.603125 98.422125 \nL 53.995125 98.422125 \nL 53.995125 109.294125 \nL 40.603125 109.294125 \nL 40.603125 98.422125 \n\" style=\"fill:#03051a;\"/>\n    <path clip-path=\"url(#pfdd365e9a7)\" d=\"M 53.995125 98.422125 \nL 67.387125 98.422125 \nL 67.387125 109.294125 \nL 53.995125 109.294125 \nL 53.995125 98.422125 \n\" style=\"fill:#03051a;\"/>\n    <path clip-path=\"url(#pfdd365e9a7)\" d=\"M 67.387125 98.422125 \nL 80.779125 98.422125 \nL 80.779125 109.294125 \nL 67.387125 109.294125 \nL 67.387125 98.422125 \n\" style=\"fill:#04051a;\"/>\n    <path clip-path=\"url(#pfdd365e9a7)\" d=\"M 80.779125 98.422125 \nL 94.171125 98.422125 \nL 94.171125 109.294125 \nL 80.779125 109.294125 \nL 80.779125 98.422125 \n\" style=\"fill:#03051a;\"/>\n    <path clip-path=\"url(#pfdd365e9a7)\" d=\"M 94.171125 98.422125 \nL 107.563125 98.422125 \nL 107.563125 109.294125 \nL 94.171125 109.294125 \nL 94.171125 98.422125 \n\" style=\"fill:#05061b;\"/>\n    <path clip-path=\"url(#pfdd365e9a7)\" d=\"M 107.563125 98.422125 \nL 120.955125 98.422125 \nL 120.955125 109.294125 \nL 107.563125 109.294125 \nL 107.563125 98.422125 \n\" style=\"fill:#03051a;\"/>\n    <path clip-path=\"url(#pfdd365e9a7)\" d=\"M 120.955125 98.422125 \nL 134.347125 98.422125 \nL 134.347125 109.294125 \nL 120.955125 109.294125 \nL 120.955125 98.422125 \n\" style=\"fill:#0d0a21;\"/>\n    <path clip-path=\"url(#pfdd365e9a7)\" d=\"M 134.347125 98.422125 \nL 147.739125 98.422125 \nL 147.739125 109.294125 \nL 134.347125 109.294125 \nL 134.347125 98.422125 \n\" style=\"fill:#f58a61;\"/>\n    <path clip-path=\"url(#pfdd365e9a7)\" d=\"M 147.739125 98.422125 \nL 161.131125 98.422125 \nL 161.131125 109.294125 \nL 147.739125 109.294125 \nL 147.739125 98.422125 \n\" style=\"fill:#1a102a;\"/>\n    <path clip-path=\"url(#pfdd365e9a7)\" d=\"M 161.131125 98.422125 \nL 174.523125 98.422125 \nL 174.523125 109.294125 \nL 161.131125 109.294125 \nL 161.131125 98.422125 \n\" style=\"fill:#03051a;\"/>\n    <path clip-path=\"url(#pfdd365e9a7)\" d=\"M 174.523125 98.422125 \nL 187.915125 98.422125 \nL 187.915125 109.294125 \nL 174.523125 109.294125 \nL 174.523125 98.422125 \n\" style=\"fill:#1a102a;\"/>\n    <path clip-path=\"url(#pfdd365e9a7)\" d=\"M 187.915125 98.422125 \nL 201.307125 98.422125 \nL 201.307125 109.294125 \nL 187.915125 109.294125 \nL 187.915125 98.422125 \n\" style=\"fill:#07071d;\"/>\n    <path clip-path=\"url(#pfdd365e9a7)\" d=\"M 201.307125 98.422125 \nL 214.699125 98.422125 \nL 214.699125 109.294125 \nL 201.307125 109.294125 \nL 201.307125 98.422125 \n\" style=\"fill:#08081e;\"/>\n    <path clip-path=\"url(#pfdd365e9a7)\" d=\"M 214.699125 98.422125 \nL 228.091125 98.422125 \nL 228.091125 109.294125 \nL 214.699125 109.294125 \nL 214.699125 98.422125 \n\" style=\"fill:#04051a;\"/>\n    <path clip-path=\"url(#pfdd365e9a7)\" d=\"M 228.091125 98.422125 \nL 241.483125 98.422125 \nL 241.483125 109.294125 \nL 228.091125 109.294125 \nL 228.091125 98.422125 \n\" style=\"fill:#06071c;\"/>\n    <path clip-path=\"url(#pfdd365e9a7)\" d=\"M 241.483125 98.422125 \nL 254.875125 98.422125 \nL 254.875125 109.294125 \nL 241.483125 109.294125 \nL 241.483125 98.422125 \n\" style=\"fill:#07071d;\"/>\n    <path clip-path=\"url(#pfdd365e9a7)\" d=\"M 254.875125 98.422125 \nL 268.267125 98.422125 \nL 268.267125 109.294125 \nL 254.875125 109.294125 \nL 254.875125 98.422125 \n\" style=\"fill:#03051a;\"/>\n    <path clip-path=\"url(#pfdd365e9a7)\" d=\"M 268.267125 98.422125 \nL 281.659125 98.422125 \nL 281.659125 109.294125 \nL 268.267125 109.294125 \nL 268.267125 98.422125 \n\" style=\"fill:#05061b;\"/>\n    <path clip-path=\"url(#pfdd365e9a7)\" d=\"M 281.659125 98.422125 \nL 295.051125 98.422125 \nL 295.051125 109.294125 \nL 281.659125 109.294125 \nL 281.659125 98.422125 \n\" style=\"fill:#07071d;\"/>\n    <path clip-path=\"url(#pfdd365e9a7)\" d=\"M 295.051125 98.422125 \nL 308.443125 98.422125 \nL 308.443125 109.294125 \nL 295.051125 109.294125 \nL 295.051125 98.422125 \n\" style=\"fill:#04051a;\"/>\n    <path clip-path=\"url(#pfdd365e9a7)\" d=\"M 40.603125 109.294125 \nL 53.995125 109.294125 \nL 53.995125 120.166125 \nL 40.603125 120.166125 \nL 40.603125 109.294125 \n\" style=\"fill:#05061b;\"/>\n    <path clip-path=\"url(#pfdd365e9a7)\" d=\"M 53.995125 109.294125 \nL 67.387125 109.294125 \nL 67.387125 120.166125 \nL 53.995125 120.166125 \nL 53.995125 109.294125 \n\" style=\"fill:#05061b;\"/>\n    <path clip-path=\"url(#pfdd365e9a7)\" d=\"M 67.387125 109.294125 \nL 80.779125 109.294125 \nL 80.779125 120.166125 \nL 67.387125 120.166125 \nL 67.387125 109.294125 \n\" style=\"fill:#03051a;\"/>\n    <path clip-path=\"url(#pfdd365e9a7)\" d=\"M 80.779125 109.294125 \nL 94.171125 109.294125 \nL 94.171125 120.166125 \nL 80.779125 120.166125 \nL 80.779125 109.294125 \n\" style=\"fill:#03051a;\"/>\n    <path clip-path=\"url(#pfdd365e9a7)\" d=\"M 94.171125 109.294125 \nL 107.563125 109.294125 \nL 107.563125 120.166125 \nL 94.171125 120.166125 \nL 94.171125 109.294125 \n\" style=\"fill:#03051a;\"/>\n    <path clip-path=\"url(#pfdd365e9a7)\" d=\"M 107.563125 109.294125 \nL 120.955125 109.294125 \nL 120.955125 120.166125 \nL 107.563125 120.166125 \nL 107.563125 109.294125 \n\" style=\"fill:#04051a;\"/>\n    <path clip-path=\"url(#pfdd365e9a7)\" d=\"M 120.955125 109.294125 \nL 134.347125 109.294125 \nL 134.347125 120.166125 \nL 120.955125 120.166125 \nL 120.955125 109.294125 \n\" style=\"fill:#06071c;\"/>\n    <path clip-path=\"url(#pfdd365e9a7)\" d=\"M 134.347125 109.294125 \nL 147.739125 109.294125 \nL 147.739125 120.166125 \nL 134.347125 120.166125 \nL 134.347125 109.294125 \n\" style=\"fill:#1e122d;\"/>\n    <path clip-path=\"url(#pfdd365e9a7)\" d=\"M 147.739125 109.294125 \nL 161.131125 109.294125 \nL 161.131125 120.166125 \nL 147.739125 120.166125 \nL 147.739125 109.294125 \n\" style=\"fill:#f4815a;\"/>\n    <path clip-path=\"url(#pfdd365e9a7)\" d=\"M 161.131125 109.294125 \nL 174.523125 109.294125 \nL 174.523125 120.166125 \nL 161.131125 120.166125 \nL 161.131125 109.294125 \n\" style=\"fill:#05061b;\"/>\n    <path clip-path=\"url(#pfdd365e9a7)\" d=\"M 174.523125 109.294125 \nL 187.915125 109.294125 \nL 187.915125 120.166125 \nL 174.523125 120.166125 \nL 174.523125 109.294125 \n\" style=\"fill:#0e0b22;\"/>\n    <path clip-path=\"url(#pfdd365e9a7)\" d=\"M 187.915125 109.294125 \nL 201.307125 109.294125 \nL 201.307125 120.166125 \nL 187.915125 120.166125 \nL 187.915125 109.294125 \n\" style=\"fill:#04051a;\"/>\n    <path clip-path=\"url(#pfdd365e9a7)\" d=\"M 201.307125 109.294125 \nL 214.699125 109.294125 \nL 214.699125 120.166125 \nL 201.307125 120.166125 \nL 201.307125 109.294125 \n\" style=\"fill:#0a091f;\"/>\n    <path clip-path=\"url(#pfdd365e9a7)\" d=\"M 214.699125 109.294125 \nL 228.091125 109.294125 \nL 228.091125 120.166125 \nL 214.699125 120.166125 \nL 214.699125 109.294125 \n\" style=\"fill:#05061b;\"/>\n    <path clip-path=\"url(#pfdd365e9a7)\" d=\"M 228.091125 109.294125 \nL 241.483125 109.294125 \nL 241.483125 120.166125 \nL 228.091125 120.166125 \nL 228.091125 109.294125 \n\" style=\"fill:#08081e;\"/>\n    <path clip-path=\"url(#pfdd365e9a7)\" d=\"M 241.483125 109.294125 \nL 254.875125 109.294125 \nL 254.875125 120.166125 \nL 241.483125 120.166125 \nL 241.483125 109.294125 \n\" style=\"fill:#07071d;\"/>\n    <path clip-path=\"url(#pfdd365e9a7)\" d=\"M 254.875125 109.294125 \nL 268.267125 109.294125 \nL 268.267125 120.166125 \nL 254.875125 120.166125 \nL 254.875125 109.294125 \n\" style=\"fill:#0d0a21;\"/>\n    <path clip-path=\"url(#pfdd365e9a7)\" d=\"M 268.267125 109.294125 \nL 281.659125 109.294125 \nL 281.659125 120.166125 \nL 268.267125 120.166125 \nL 268.267125 109.294125 \n\" style=\"fill:#04051a;\"/>\n    <path clip-path=\"url(#pfdd365e9a7)\" d=\"M 281.659125 109.294125 \nL 295.051125 109.294125 \nL 295.051125 120.166125 \nL 281.659125 120.166125 \nL 281.659125 109.294125 \n\" style=\"fill:#0b0920;\"/>\n    <path clip-path=\"url(#pfdd365e9a7)\" d=\"M 295.051125 109.294125 \nL 308.443125 109.294125 \nL 308.443125 120.166125 \nL 295.051125 120.166125 \nL 295.051125 109.294125 \n\" style=\"fill:#05061b;\"/>\n    <path clip-path=\"url(#pfdd365e9a7)\" d=\"M 40.603125 120.166125 \nL 53.995125 120.166125 \nL 53.995125 131.038125 \nL 40.603125 131.038125 \nL 40.603125 120.166125 \n\" style=\"fill:#07071d;\"/>\n    <path clip-path=\"url(#pfdd365e9a7)\" d=\"M 53.995125 120.166125 \nL 67.387125 120.166125 \nL 67.387125 131.038125 \nL 53.995125 131.038125 \nL 53.995125 120.166125 \n\" style=\"fill:#05061b;\"/>\n    <path clip-path=\"url(#pfdd365e9a7)\" d=\"M 67.387125 120.166125 \nL 80.779125 120.166125 \nL 80.779125 131.038125 \nL 67.387125 131.038125 \nL 67.387125 120.166125 \n\" style=\"fill:#03051a;\"/>\n    <path clip-path=\"url(#pfdd365e9a7)\" d=\"M 80.779125 120.166125 \nL 94.171125 120.166125 \nL 94.171125 131.038125 \nL 80.779125 131.038125 \nL 80.779125 120.166125 \n\" style=\"fill:#03051a;\"/>\n    <path clip-path=\"url(#pfdd365e9a7)\" d=\"M 94.171125 120.166125 \nL 107.563125 120.166125 \nL 107.563125 131.038125 \nL 94.171125 131.038125 \nL 94.171125 120.166125 \n\" style=\"fill:#03051a;\"/>\n    <path clip-path=\"url(#pfdd365e9a7)\" d=\"M 107.563125 120.166125 \nL 120.955125 120.166125 \nL 120.955125 131.038125 \nL 107.563125 131.038125 \nL 107.563125 120.166125 \n\" style=\"fill:#04051a;\"/>\n    <path clip-path=\"url(#pfdd365e9a7)\" d=\"M 120.955125 120.166125 \nL 134.347125 120.166125 \nL 134.347125 131.038125 \nL 120.955125 131.038125 \nL 120.955125 120.166125 \n\" style=\"fill:#07071d;\"/>\n    <path clip-path=\"url(#pfdd365e9a7)\" d=\"M 134.347125 120.166125 \nL 147.739125 120.166125 \nL 147.739125 131.038125 \nL 134.347125 131.038125 \nL 134.347125 120.166125 \n\" style=\"fill:#03051a;\"/>\n    <path clip-path=\"url(#pfdd365e9a7)\" d=\"M 147.739125 120.166125 \nL 161.131125 120.166125 \nL 161.131125 131.038125 \nL 147.739125 131.038125 \nL 147.739125 120.166125 \n\" style=\"fill:#06071c;\"/>\n    <path clip-path=\"url(#pfdd365e9a7)\" d=\"M 161.131125 120.166125 \nL 174.523125 120.166125 \nL 174.523125 131.038125 \nL 161.131125 131.038125 \nL 161.131125 120.166125 \n\" style=\"fill:#f6ad85;\"/>\n    <path clip-path=\"url(#pfdd365e9a7)\" d=\"M 174.523125 120.166125 \nL 187.915125 120.166125 \nL 187.915125 131.038125 \nL 174.523125 131.038125 \nL 174.523125 120.166125 \n\" style=\"fill:#20122e;\"/>\n    <path clip-path=\"url(#pfdd365e9a7)\" d=\"M 187.915125 120.166125 \nL 201.307125 120.166125 \nL 201.307125 131.038125 \nL 187.915125 131.038125 \nL 187.915125 120.166125 \n\" style=\"fill:#04051a;\"/>\n    <path clip-path=\"url(#pfdd365e9a7)\" d=\"M 201.307125 120.166125 \nL 214.699125 120.166125 \nL 214.699125 131.038125 \nL 201.307125 131.038125 \nL 201.307125 120.166125 \n\" style=\"fill:#04051a;\"/>\n    <path clip-path=\"url(#pfdd365e9a7)\" d=\"M 214.699125 120.166125 \nL 228.091125 120.166125 \nL 228.091125 131.038125 \nL 214.699125 131.038125 \nL 214.699125 120.166125 \n\" style=\"fill:#06071c;\"/>\n    <path clip-path=\"url(#pfdd365e9a7)\" d=\"M 228.091125 120.166125 \nL 241.483125 120.166125 \nL 241.483125 131.038125 \nL 228.091125 131.038125 \nL 228.091125 120.166125 \n\" style=\"fill:#03051a;\"/>\n    <path clip-path=\"url(#pfdd365e9a7)\" d=\"M 241.483125 120.166125 \nL 254.875125 120.166125 \nL 254.875125 131.038125 \nL 241.483125 131.038125 \nL 241.483125 120.166125 \n\" style=\"fill:#06071c;\"/>\n    <path clip-path=\"url(#pfdd365e9a7)\" d=\"M 254.875125 120.166125 \nL 268.267125 120.166125 \nL 268.267125 131.038125 \nL 254.875125 131.038125 \nL 254.875125 120.166125 \n\" style=\"fill:#05061b;\"/>\n    <path clip-path=\"url(#pfdd365e9a7)\" d=\"M 268.267125 120.166125 \nL 281.659125 120.166125 \nL 281.659125 131.038125 \nL 268.267125 131.038125 \nL 268.267125 120.166125 \n\" style=\"fill:#04051a;\"/>\n    <path clip-path=\"url(#pfdd365e9a7)\" d=\"M 281.659125 120.166125 \nL 295.051125 120.166125 \nL 295.051125 131.038125 \nL 281.659125 131.038125 \nL 281.659125 120.166125 \n\" style=\"fill:#08081e;\"/>\n    <path clip-path=\"url(#pfdd365e9a7)\" d=\"M 295.051125 120.166125 \nL 308.443125 120.166125 \nL 308.443125 131.038125 \nL 295.051125 131.038125 \nL 295.051125 120.166125 \n\" style=\"fill:#03051a;\"/>\n    <path clip-path=\"url(#pfdd365e9a7)\" d=\"M 40.603125 131.038125 \nL 53.995125 131.038125 \nL 53.995125 141.910125 \nL 40.603125 141.910125 \nL 40.603125 131.038125 \n\" style=\"fill:#05061b;\"/>\n    <path clip-path=\"url(#pfdd365e9a7)\" d=\"M 53.995125 131.038125 \nL 67.387125 131.038125 \nL 67.387125 141.910125 \nL 53.995125 141.910125 \nL 53.995125 131.038125 \n\" style=\"fill:#03051a;\"/>\n    <path clip-path=\"url(#pfdd365e9a7)\" d=\"M 67.387125 131.038125 \nL 80.779125 131.038125 \nL 80.779125 141.910125 \nL 67.387125 141.910125 \nL 67.387125 131.038125 \n\" style=\"fill:#03051a;\"/>\n    <path clip-path=\"url(#pfdd365e9a7)\" d=\"M 80.779125 131.038125 \nL 94.171125 131.038125 \nL 94.171125 141.910125 \nL 80.779125 141.910125 \nL 80.779125 131.038125 \n\" style=\"fill:#03051a;\"/>\n    <path clip-path=\"url(#pfdd365e9a7)\" d=\"M 94.171125 131.038125 \nL 107.563125 131.038125 \nL 107.563125 141.910125 \nL 94.171125 141.910125 \nL 94.171125 131.038125 \n\" style=\"fill:#03051a;\"/>\n    <path clip-path=\"url(#pfdd365e9a7)\" d=\"M 107.563125 131.038125 \nL 120.955125 131.038125 \nL 120.955125 141.910125 \nL 107.563125 141.910125 \nL 107.563125 131.038125 \n\" style=\"fill:#03051a;\"/>\n    <path clip-path=\"url(#pfdd365e9a7)\" d=\"M 120.955125 131.038125 \nL 134.347125 131.038125 \nL 134.347125 141.910125 \nL 120.955125 141.910125 \nL 120.955125 131.038125 \n\" style=\"fill:#03051a;\"/>\n    <path clip-path=\"url(#pfdd365e9a7)\" d=\"M 134.347125 131.038125 \nL 147.739125 131.038125 \nL 147.739125 141.910125 \nL 134.347125 141.910125 \nL 134.347125 131.038125 \n\" style=\"fill:#04051a;\"/>\n    <path clip-path=\"url(#pfdd365e9a7)\" d=\"M 147.739125 131.038125 \nL 161.131125 131.038125 \nL 161.131125 141.910125 \nL 147.739125 141.910125 \nL 147.739125 131.038125 \n\" style=\"fill:#04051a;\"/>\n    <path clip-path=\"url(#pfdd365e9a7)\" d=\"M 161.131125 131.038125 \nL 174.523125 131.038125 \nL 174.523125 141.910125 \nL 161.131125 141.910125 \nL 161.131125 131.038125 \n\" style=\"fill:#06071c;\"/>\n    <path clip-path=\"url(#pfdd365e9a7)\" d=\"M 174.523125 131.038125 \nL 187.915125 131.038125 \nL 187.915125 141.910125 \nL 174.523125 141.910125 \nL 174.523125 131.038125 \n\" style=\"fill:#faebdd;\"/>\n    <path clip-path=\"url(#pfdd365e9a7)\" d=\"M 187.915125 131.038125 \nL 201.307125 131.038125 \nL 201.307125 141.910125 \nL 187.915125 141.910125 \nL 187.915125 131.038125 \n\" style=\"fill:#03051a;\"/>\n    <path clip-path=\"url(#pfdd365e9a7)\" d=\"M 201.307125 131.038125 \nL 214.699125 131.038125 \nL 214.699125 141.910125 \nL 201.307125 141.910125 \nL 201.307125 131.038125 \n\" style=\"fill:#03051a;\"/>\n    <path clip-path=\"url(#pfdd365e9a7)\" d=\"M 214.699125 131.038125 \nL 228.091125 131.038125 \nL 228.091125 141.910125 \nL 214.699125 141.910125 \nL 214.699125 131.038125 \n\" style=\"fill:#03051a;\"/>\n    <path clip-path=\"url(#pfdd365e9a7)\" d=\"M 228.091125 131.038125 \nL 241.483125 131.038125 \nL 241.483125 141.910125 \nL 228.091125 141.910125 \nL 228.091125 131.038125 \n\" style=\"fill:#03051a;\"/>\n    <path clip-path=\"url(#pfdd365e9a7)\" d=\"M 241.483125 131.038125 \nL 254.875125 131.038125 \nL 254.875125 141.910125 \nL 241.483125 141.910125 \nL 241.483125 131.038125 \n\" style=\"fill:#04051a;\"/>\n    <path clip-path=\"url(#pfdd365e9a7)\" d=\"M 254.875125 131.038125 \nL 268.267125 131.038125 \nL 268.267125 141.910125 \nL 254.875125 141.910125 \nL 254.875125 131.038125 \n\" style=\"fill:#03051a;\"/>\n    <path clip-path=\"url(#pfdd365e9a7)\" d=\"M 268.267125 131.038125 \nL 281.659125 131.038125 \nL 281.659125 141.910125 \nL 268.267125 141.910125 \nL 268.267125 131.038125 \n\" style=\"fill:#03051a;\"/>\n    <path clip-path=\"url(#pfdd365e9a7)\" d=\"M 281.659125 131.038125 \nL 295.051125 131.038125 \nL 295.051125 141.910125 \nL 281.659125 141.910125 \nL 281.659125 131.038125 \n\" style=\"fill:#06071c;\"/>\n    <path clip-path=\"url(#pfdd365e9a7)\" d=\"M 295.051125 131.038125 \nL 308.443125 131.038125 \nL 308.443125 141.910125 \nL 295.051125 141.910125 \nL 295.051125 131.038125 \n\" style=\"fill:#03051a;\"/>\n    <path clip-path=\"url(#pfdd365e9a7)\" d=\"M 40.603125 141.910125 \nL 53.995125 141.910125 \nL 53.995125 152.782125 \nL 40.603125 152.782125 \nL 40.603125 141.910125 \n\" style=\"fill:#04051a;\"/>\n    <path clip-path=\"url(#pfdd365e9a7)\" d=\"M 53.995125 141.910125 \nL 67.387125 141.910125 \nL 67.387125 152.782125 \nL 53.995125 152.782125 \nL 53.995125 141.910125 \n\" style=\"fill:#0d0a21;\"/>\n    <path clip-path=\"url(#pfdd365e9a7)\" d=\"M 67.387125 141.910125 \nL 80.779125 141.910125 \nL 80.779125 152.782125 \nL 67.387125 152.782125 \nL 67.387125 141.910125 \n\" style=\"fill:#07071d;\"/>\n    <path clip-path=\"url(#pfdd365e9a7)\" d=\"M 80.779125 141.910125 \nL 94.171125 141.910125 \nL 94.171125 152.782125 \nL 80.779125 152.782125 \nL 80.779125 141.910125 \n\" style=\"fill:#04051a;\"/>\n    <path clip-path=\"url(#pfdd365e9a7)\" d=\"M 94.171125 141.910125 \nL 107.563125 141.910125 \nL 107.563125 152.782125 \nL 94.171125 152.782125 \nL 94.171125 141.910125 \n\" style=\"fill:#05061b;\"/>\n    <path clip-path=\"url(#pfdd365e9a7)\" d=\"M 107.563125 141.910125 \nL 120.955125 141.910125 \nL 120.955125 152.782125 \nL 107.563125 152.782125 \nL 107.563125 141.910125 \n\" style=\"fill:#05061b;\"/>\n    <path clip-path=\"url(#pfdd365e9a7)\" d=\"M 120.955125 141.910125 \nL 134.347125 141.910125 \nL 134.347125 152.782125 \nL 120.955125 152.782125 \nL 120.955125 141.910125 \n\" style=\"fill:#03051a;\"/>\n    <path clip-path=\"url(#pfdd365e9a7)\" d=\"M 134.347125 141.910125 \nL 147.739125 141.910125 \nL 147.739125 152.782125 \nL 134.347125 152.782125 \nL 134.347125 141.910125 \n\" style=\"fill:#03051a;\"/>\n    <path clip-path=\"url(#pfdd365e9a7)\" d=\"M 147.739125 141.910125 \nL 161.131125 141.910125 \nL 161.131125 152.782125 \nL 147.739125 152.782125 \nL 147.739125 141.910125 \n\" style=\"fill:#05061b;\"/>\n    <path clip-path=\"url(#pfdd365e9a7)\" d=\"M 161.131125 141.910125 \nL 174.523125 141.910125 \nL 174.523125 152.782125 \nL 161.131125 152.782125 \nL 161.131125 141.910125 \n\" style=\"fill:#03051a;\"/>\n    <path clip-path=\"url(#pfdd365e9a7)\" d=\"M 174.523125 141.910125 \nL 187.915125 141.910125 \nL 187.915125 152.782125 \nL 174.523125 152.782125 \nL 174.523125 141.910125 \n\" style=\"fill:#130d25;\"/>\n    <path clip-path=\"url(#pfdd365e9a7)\" d=\"M 187.915125 141.910125 \nL 201.307125 141.910125 \nL 201.307125 152.782125 \nL 187.915125 152.782125 \nL 187.915125 141.910125 \n\" style=\"fill:#f69e75;\"/>\n    <path clip-path=\"url(#pfdd365e9a7)\" d=\"M 201.307125 141.910125 \nL 214.699125 141.910125 \nL 214.699125 152.782125 \nL 201.307125 152.782125 \nL 201.307125 141.910125 \n\" style=\"fill:#0a091f;\"/>\n    <path clip-path=\"url(#pfdd365e9a7)\" d=\"M 214.699125 141.910125 \nL 228.091125 141.910125 \nL 228.091125 152.782125 \nL 214.699125 152.782125 \nL 214.699125 141.910125 \n\" style=\"fill:#03051a;\"/>\n    <path clip-path=\"url(#pfdd365e9a7)\" d=\"M 228.091125 141.910125 \nL 241.483125 141.910125 \nL 241.483125 152.782125 \nL 228.091125 152.782125 \nL 228.091125 141.910125 \n\" style=\"fill:#05061b;\"/>\n    <path clip-path=\"url(#pfdd365e9a7)\" d=\"M 241.483125 141.910125 \nL 254.875125 141.910125 \nL 254.875125 152.782125 \nL 241.483125 152.782125 \nL 241.483125 141.910125 \n\" style=\"fill:#04051a;\"/>\n    <path clip-path=\"url(#pfdd365e9a7)\" d=\"M 254.875125 141.910125 \nL 268.267125 141.910125 \nL 268.267125 152.782125 \nL 254.875125 152.782125 \nL 254.875125 141.910125 \n\" style=\"fill:#100b23;\"/>\n    <path clip-path=\"url(#pfdd365e9a7)\" d=\"M 268.267125 141.910125 \nL 281.659125 141.910125 \nL 281.659125 152.782125 \nL 268.267125 152.782125 \nL 268.267125 141.910125 \n\" style=\"fill:#06071c;\"/>\n    <path clip-path=\"url(#pfdd365e9a7)\" d=\"M 281.659125 141.910125 \nL 295.051125 141.910125 \nL 295.051125 152.782125 \nL 281.659125 152.782125 \nL 281.659125 141.910125 \n\" style=\"fill:#08081e;\"/>\n    <path clip-path=\"url(#pfdd365e9a7)\" d=\"M 295.051125 141.910125 \nL 308.443125 141.910125 \nL 308.443125 152.782125 \nL 295.051125 152.782125 \nL 295.051125 141.910125 \n\" style=\"fill:#05061b;\"/>\n    <path clip-path=\"url(#pfdd365e9a7)\" d=\"M 40.603125 152.782125 \nL 53.995125 152.782125 \nL 53.995125 163.654125 \nL 40.603125 163.654125 \nL 40.603125 152.782125 \n\" style=\"fill:#04051a;\"/>\n    <path clip-path=\"url(#pfdd365e9a7)\" d=\"M 53.995125 152.782125 \nL 67.387125 152.782125 \nL 67.387125 163.654125 \nL 53.995125 163.654125 \nL 53.995125 152.782125 \n\" style=\"fill:#160e27;\"/>\n    <path clip-path=\"url(#pfdd365e9a7)\" d=\"M 67.387125 152.782125 \nL 80.779125 152.782125 \nL 80.779125 163.654125 \nL 67.387125 163.654125 \nL 67.387125 152.782125 \n\" style=\"fill:#0a091f;\"/>\n    <path clip-path=\"url(#pfdd365e9a7)\" d=\"M 80.779125 152.782125 \nL 94.171125 152.782125 \nL 94.171125 163.654125 \nL 80.779125 163.654125 \nL 80.779125 152.782125 \n\" style=\"fill:#211330;\"/>\n    <path clip-path=\"url(#pfdd365e9a7)\" d=\"M 94.171125 152.782125 \nL 107.563125 152.782125 \nL 107.563125 163.654125 \nL 94.171125 163.654125 \nL 94.171125 152.782125 \n\" style=\"fill:#07071d;\"/>\n    <path clip-path=\"url(#pfdd365e9a7)\" d=\"M 107.563125 152.782125 \nL 120.955125 152.782125 \nL 120.955125 163.654125 \nL 107.563125 163.654125 \nL 107.563125 152.782125 \n\" style=\"fill:#04051a;\"/>\n    <path clip-path=\"url(#pfdd365e9a7)\" d=\"M 120.955125 152.782125 \nL 134.347125 152.782125 \nL 134.347125 163.654125 \nL 120.955125 163.654125 \nL 120.955125 152.782125 \n\" style=\"fill:#0a091f;\"/>\n    <path clip-path=\"url(#pfdd365e9a7)\" d=\"M 134.347125 152.782125 \nL 147.739125 152.782125 \nL 147.739125 163.654125 \nL 134.347125 163.654125 \nL 134.347125 152.782125 \n\" style=\"fill:#0d0a21;\"/>\n    <path clip-path=\"url(#pfdd365e9a7)\" d=\"M 147.739125 152.782125 \nL 161.131125 152.782125 \nL 161.131125 163.654125 \nL 147.739125 163.654125 \nL 147.739125 152.782125 \n\" style=\"fill:#08081e;\"/>\n    <path clip-path=\"url(#pfdd365e9a7)\" d=\"M 161.131125 152.782125 \nL 174.523125 152.782125 \nL 174.523125 163.654125 \nL 161.131125 163.654125 \nL 161.131125 152.782125 \n\" style=\"fill:#03051a;\"/>\n    <path clip-path=\"url(#pfdd365e9a7)\" d=\"M 174.523125 152.782125 \nL 187.915125 152.782125 \nL 187.915125 163.654125 \nL 174.523125 163.654125 \nL 174.523125 152.782125 \n\" style=\"fill:#0d0a21;\"/>\n    <path clip-path=\"url(#pfdd365e9a7)\" d=\"M 187.915125 152.782125 \nL 201.307125 152.782125 \nL 201.307125 163.654125 \nL 187.915125 163.654125 \nL 187.915125 152.782125 \n\" style=\"fill:#1d112c;\"/>\n    <path clip-path=\"url(#pfdd365e9a7)\" d=\"M 201.307125 152.782125 \nL 214.699125 152.782125 \nL 214.699125 163.654125 \nL 201.307125 163.654125 \nL 201.307125 152.782125 \n\" style=\"fill:#e13342;\"/>\n    <path clip-path=\"url(#pfdd365e9a7)\" d=\"M 214.699125 152.782125 \nL 228.091125 152.782125 \nL 228.091125 163.654125 \nL 214.699125 163.654125 \nL 214.699125 152.782125 \n\" style=\"fill:#0e0b22;\"/>\n    <path clip-path=\"url(#pfdd365e9a7)\" d=\"M 228.091125 152.782125 \nL 241.483125 152.782125 \nL 241.483125 163.654125 \nL 228.091125 163.654125 \nL 228.091125 152.782125 \n\" style=\"fill:#0d0a21;\"/>\n    <path clip-path=\"url(#pfdd365e9a7)\" d=\"M 241.483125 152.782125 \nL 254.875125 152.782125 \nL 254.875125 163.654125 \nL 241.483125 163.654125 \nL 241.483125 152.782125 \n\" style=\"fill:#03051a;\"/>\n    <path clip-path=\"url(#pfdd365e9a7)\" d=\"M 254.875125 152.782125 \nL 268.267125 152.782125 \nL 268.267125 163.654125 \nL 254.875125 163.654125 \nL 254.875125 152.782125 \n\" style=\"fill:#03051a;\"/>\n    <path clip-path=\"url(#pfdd365e9a7)\" d=\"M 268.267125 152.782125 \nL 281.659125 152.782125 \nL 281.659125 163.654125 \nL 268.267125 163.654125 \nL 268.267125 152.782125 \n\" style=\"fill:#03051a;\"/>\n    <path clip-path=\"url(#pfdd365e9a7)\" d=\"M 281.659125 152.782125 \nL 295.051125 152.782125 \nL 295.051125 163.654125 \nL 281.659125 163.654125 \nL 281.659125 152.782125 \n\" style=\"fill:#04051a;\"/>\n    <path clip-path=\"url(#pfdd365e9a7)\" d=\"M 295.051125 152.782125 \nL 308.443125 152.782125 \nL 308.443125 163.654125 \nL 295.051125 163.654125 \nL 295.051125 152.782125 \n\" style=\"fill:#04051a;\"/>\n    <path clip-path=\"url(#pfdd365e9a7)\" d=\"M 40.603125 163.654125 \nL 53.995125 163.654125 \nL 53.995125 174.526125 \nL 40.603125 174.526125 \nL 40.603125 163.654125 \n\" style=\"fill:#07071d;\"/>\n    <path clip-path=\"url(#pfdd365e9a7)\" d=\"M 53.995125 163.654125 \nL 67.387125 163.654125 \nL 67.387125 174.526125 \nL 53.995125 174.526125 \nL 53.995125 163.654125 \n\" style=\"fill:#06071c;\"/>\n    <path clip-path=\"url(#pfdd365e9a7)\" d=\"M 67.387125 163.654125 \nL 80.779125 163.654125 \nL 80.779125 174.526125 \nL 67.387125 174.526125 \nL 67.387125 163.654125 \n\" style=\"fill:#03051a;\"/>\n    <path clip-path=\"url(#pfdd365e9a7)\" d=\"M 80.779125 163.654125 \nL 94.171125 163.654125 \nL 94.171125 174.526125 \nL 80.779125 174.526125 \nL 80.779125 163.654125 \n\" style=\"fill:#04051a;\"/>\n    <path clip-path=\"url(#pfdd365e9a7)\" d=\"M 94.171125 163.654125 \nL 107.563125 163.654125 \nL 107.563125 174.526125 \nL 94.171125 174.526125 \nL 94.171125 163.654125 \n\" style=\"fill:#04051a;\"/>\n    <path clip-path=\"url(#pfdd365e9a7)\" d=\"M 107.563125 163.654125 \nL 120.955125 163.654125 \nL 120.955125 174.526125 \nL 107.563125 174.526125 \nL 107.563125 163.654125 \n\" style=\"fill:#03051a;\"/>\n    <path clip-path=\"url(#pfdd365e9a7)\" d=\"M 120.955125 163.654125 \nL 134.347125 163.654125 \nL 134.347125 174.526125 \nL 120.955125 174.526125 \nL 120.955125 163.654125 \n\" style=\"fill:#05061b;\"/>\n    <path clip-path=\"url(#pfdd365e9a7)\" d=\"M 134.347125 163.654125 \nL 147.739125 163.654125 \nL 147.739125 174.526125 \nL 134.347125 174.526125 \nL 134.347125 163.654125 \n\" style=\"fill:#05061b;\"/>\n    <path clip-path=\"url(#pfdd365e9a7)\" d=\"M 147.739125 163.654125 \nL 161.131125 163.654125 \nL 161.131125 174.526125 \nL 147.739125 174.526125 \nL 147.739125 163.654125 \n\" style=\"fill:#06071c;\"/>\n    <path clip-path=\"url(#pfdd365e9a7)\" d=\"M 161.131125 163.654125 \nL 174.523125 163.654125 \nL 174.523125 174.526125 \nL 161.131125 174.526125 \nL 161.131125 163.654125 \n\" style=\"fill:#04051a;\"/>\n    <path clip-path=\"url(#pfdd365e9a7)\" d=\"M 174.523125 163.654125 \nL 187.915125 163.654125 \nL 187.915125 174.526125 \nL 174.523125 174.526125 \nL 174.523125 163.654125 \n\" style=\"fill:#100b23;\"/>\n    <path clip-path=\"url(#pfdd365e9a7)\" d=\"M 187.915125 163.654125 \nL 201.307125 163.654125 \nL 201.307125 174.526125 \nL 187.915125 174.526125 \nL 187.915125 163.654125 \n\" style=\"fill:#03051a;\"/>\n    <path clip-path=\"url(#pfdd365e9a7)\" d=\"M 201.307125 163.654125 \nL 214.699125 163.654125 \nL 214.699125 174.526125 \nL 201.307125 174.526125 \nL 201.307125 163.654125 \n\" style=\"fill:#08081e;\"/>\n    <path clip-path=\"url(#pfdd365e9a7)\" d=\"M 214.699125 163.654125 \nL 228.091125 163.654125 \nL 228.091125 174.526125 \nL 214.699125 174.526125 \nL 214.699125 163.654125 \n\" style=\"fill:#f6a178;\"/>\n    <path clip-path=\"url(#pfdd365e9a7)\" d=\"M 228.091125 163.654125 \nL 241.483125 163.654125 \nL 241.483125 174.526125 \nL 228.091125 174.526125 \nL 228.091125 163.654125 \n\" style=\"fill:#05061b;\"/>\n    <path clip-path=\"url(#pfdd365e9a7)\" d=\"M 241.483125 163.654125 \nL 254.875125 163.654125 \nL 254.875125 174.526125 \nL 241.483125 174.526125 \nL 241.483125 163.654125 \n\" style=\"fill:#0d0a21;\"/>\n    <path clip-path=\"url(#pfdd365e9a7)\" d=\"M 254.875125 163.654125 \nL 268.267125 163.654125 \nL 268.267125 174.526125 \nL 254.875125 174.526125 \nL 254.875125 163.654125 \n\" style=\"fill:#08081e;\"/>\n    <path clip-path=\"url(#pfdd365e9a7)\" d=\"M 268.267125 163.654125 \nL 281.659125 163.654125 \nL 281.659125 174.526125 \nL 268.267125 174.526125 \nL 268.267125 163.654125 \n\" style=\"fill:#05061b;\"/>\n    <path clip-path=\"url(#pfdd365e9a7)\" d=\"M 281.659125 163.654125 \nL 295.051125 163.654125 \nL 295.051125 174.526125 \nL 281.659125 174.526125 \nL 281.659125 163.654125 \n\" style=\"fill:#0a091f;\"/>\n    <path clip-path=\"url(#pfdd365e9a7)\" d=\"M 295.051125 163.654125 \nL 308.443125 163.654125 \nL 308.443125 174.526125 \nL 295.051125 174.526125 \nL 295.051125 163.654125 \n\" style=\"fill:#05061b;\"/>\n    <path clip-path=\"url(#pfdd365e9a7)\" d=\"M 40.603125 174.526125 \nL 53.995125 174.526125 \nL 53.995125 185.398125 \nL 40.603125 185.398125 \nL 40.603125 174.526125 \n\" style=\"fill:#07071d;\"/>\n    <path clip-path=\"url(#pfdd365e9a7)\" d=\"M 53.995125 174.526125 \nL 67.387125 174.526125 \nL 67.387125 185.398125 \nL 53.995125 185.398125 \nL 53.995125 174.526125 \n\" style=\"fill:#07071d;\"/>\n    <path clip-path=\"url(#pfdd365e9a7)\" d=\"M 67.387125 174.526125 \nL 80.779125 174.526125 \nL 80.779125 185.398125 \nL 67.387125 185.398125 \nL 67.387125 174.526125 \n\" style=\"fill:#03051a;\"/>\n    <path clip-path=\"url(#pfdd365e9a7)\" d=\"M 80.779125 174.526125 \nL 94.171125 174.526125 \nL 94.171125 185.398125 \nL 80.779125 185.398125 \nL 80.779125 174.526125 \n\" style=\"fill:#03051a;\"/>\n    <path clip-path=\"url(#pfdd365e9a7)\" d=\"M 94.171125 174.526125 \nL 107.563125 174.526125 \nL 107.563125 185.398125 \nL 94.171125 185.398125 \nL 94.171125 174.526125 \n\" style=\"fill:#03051a;\"/>\n    <path clip-path=\"url(#pfdd365e9a7)\" d=\"M 107.563125 174.526125 \nL 120.955125 174.526125 \nL 120.955125 185.398125 \nL 107.563125 185.398125 \nL 107.563125 174.526125 \n\" style=\"fill:#05061b;\"/>\n    <path clip-path=\"url(#pfdd365e9a7)\" d=\"M 120.955125 174.526125 \nL 134.347125 174.526125 \nL 134.347125 185.398125 \nL 120.955125 185.398125 \nL 120.955125 174.526125 \n\" style=\"fill:#03051a;\"/>\n    <path clip-path=\"url(#pfdd365e9a7)\" d=\"M 134.347125 174.526125 \nL 147.739125 174.526125 \nL 147.739125 185.398125 \nL 134.347125 185.398125 \nL 134.347125 174.526125 \n\" style=\"fill:#07071d;\"/>\n    <path clip-path=\"url(#pfdd365e9a7)\" d=\"M 147.739125 174.526125 \nL 161.131125 174.526125 \nL 161.131125 185.398125 \nL 147.739125 185.398125 \nL 147.739125 174.526125 \n\" style=\"fill:#04051a;\"/>\n    <path clip-path=\"url(#pfdd365e9a7)\" d=\"M 161.131125 174.526125 \nL 174.523125 174.526125 \nL 174.523125 185.398125 \nL 161.131125 185.398125 \nL 161.131125 174.526125 \n\" style=\"fill:#04051a;\"/>\n    <path clip-path=\"url(#pfdd365e9a7)\" d=\"M 174.523125 174.526125 \nL 187.915125 174.526125 \nL 187.915125 185.398125 \nL 174.523125 185.398125 \nL 174.523125 174.526125 \n\" style=\"fill:#110c24;\"/>\n    <path clip-path=\"url(#pfdd365e9a7)\" d=\"M 187.915125 174.526125 \nL 201.307125 174.526125 \nL 201.307125 185.398125 \nL 187.915125 185.398125 \nL 187.915125 174.526125 \n\" style=\"fill:#04051a;\"/>\n    <path clip-path=\"url(#pfdd365e9a7)\" d=\"M 201.307125 174.526125 \nL 214.699125 174.526125 \nL 214.699125 185.398125 \nL 201.307125 185.398125 \nL 201.307125 174.526125 \n\" style=\"fill:#06071c;\"/>\n    <path clip-path=\"url(#pfdd365e9a7)\" d=\"M 214.699125 174.526125 \nL 228.091125 174.526125 \nL 228.091125 185.398125 \nL 214.699125 185.398125 \nL 214.699125 174.526125 \n\" style=\"fill:#07071d;\"/>\n    <path clip-path=\"url(#pfdd365e9a7)\" d=\"M 228.091125 174.526125 \nL 241.483125 174.526125 \nL 241.483125 185.398125 \nL 228.091125 185.398125 \nL 228.091125 174.526125 \n\" style=\"fill:#f6a37a;\"/>\n    <path clip-path=\"url(#pfdd365e9a7)\" d=\"M 241.483125 174.526125 \nL 254.875125 174.526125 \nL 254.875125 185.398125 \nL 241.483125 185.398125 \nL 241.483125 174.526125 \n\" style=\"fill:#05061b;\"/>\n    <path clip-path=\"url(#pfdd365e9a7)\" d=\"M 254.875125 174.526125 \nL 268.267125 174.526125 \nL 268.267125 185.398125 \nL 254.875125 185.398125 \nL 254.875125 174.526125 \n\" style=\"fill:#07071d;\"/>\n    <path clip-path=\"url(#pfdd365e9a7)\" d=\"M 268.267125 174.526125 \nL 281.659125 174.526125 \nL 281.659125 185.398125 \nL 268.267125 185.398125 \nL 268.267125 174.526125 \n\" style=\"fill:#07071d;\"/>\n    <path clip-path=\"url(#pfdd365e9a7)\" d=\"M 281.659125 174.526125 \nL 295.051125 174.526125 \nL 295.051125 185.398125 \nL 281.659125 185.398125 \nL 281.659125 174.526125 \n\" style=\"fill:#0a091f;\"/>\n    <path clip-path=\"url(#pfdd365e9a7)\" d=\"M 295.051125 174.526125 \nL 308.443125 174.526125 \nL 308.443125 185.398125 \nL 295.051125 185.398125 \nL 295.051125 174.526125 \n\" style=\"fill:#04051a;\"/>\n    <path clip-path=\"url(#pfdd365e9a7)\" d=\"M 40.603125 185.398125 \nL 53.995125 185.398125 \nL 53.995125 196.270125 \nL 40.603125 196.270125 \nL 40.603125 185.398125 \n\" style=\"fill:#0d0a21;\"/>\n    <path clip-path=\"url(#pfdd365e9a7)\" d=\"M 53.995125 185.398125 \nL 67.387125 185.398125 \nL 67.387125 196.270125 \nL 53.995125 196.270125 \nL 53.995125 185.398125 \n\" style=\"fill:#06071c;\"/>\n    <path clip-path=\"url(#pfdd365e9a7)\" d=\"M 67.387125 185.398125 \nL 80.779125 185.398125 \nL 80.779125 196.270125 \nL 67.387125 196.270125 \nL 67.387125 185.398125 \n\" style=\"fill:#03051a;\"/>\n    <path clip-path=\"url(#pfdd365e9a7)\" d=\"M 80.779125 185.398125 \nL 94.171125 185.398125 \nL 94.171125 196.270125 \nL 80.779125 196.270125 \nL 80.779125 185.398125 \n\" style=\"fill:#03051a;\"/>\n    <path clip-path=\"url(#pfdd365e9a7)\" d=\"M 94.171125 185.398125 \nL 107.563125 185.398125 \nL 107.563125 196.270125 \nL 94.171125 196.270125 \nL 94.171125 185.398125 \n\" style=\"fill:#03051a;\"/>\n    <path clip-path=\"url(#pfdd365e9a7)\" d=\"M 107.563125 185.398125 \nL 120.955125 185.398125 \nL 120.955125 196.270125 \nL 107.563125 196.270125 \nL 107.563125 185.398125 \n\" style=\"fill:#03051a;\"/>\n    <path clip-path=\"url(#pfdd365e9a7)\" d=\"M 120.955125 185.398125 \nL 134.347125 185.398125 \nL 134.347125 196.270125 \nL 120.955125 196.270125 \nL 120.955125 185.398125 \n\" style=\"fill:#03051a;\"/>\n    <path clip-path=\"url(#pfdd365e9a7)\" d=\"M 134.347125 185.398125 \nL 147.739125 185.398125 \nL 147.739125 196.270125 \nL 134.347125 196.270125 \nL 134.347125 185.398125 \n\" style=\"fill:#03051a;\"/>\n    <path clip-path=\"url(#pfdd365e9a7)\" d=\"M 147.739125 185.398125 \nL 161.131125 185.398125 \nL 161.131125 196.270125 \nL 147.739125 196.270125 \nL 147.739125 185.398125 \n\" style=\"fill:#03051a;\"/>\n    <path clip-path=\"url(#pfdd365e9a7)\" d=\"M 161.131125 185.398125 \nL 174.523125 185.398125 \nL 174.523125 196.270125 \nL 161.131125 196.270125 \nL 161.131125 185.398125 \n\" style=\"fill:#03051a;\"/>\n    <path clip-path=\"url(#pfdd365e9a7)\" d=\"M 174.523125 185.398125 \nL 187.915125 185.398125 \nL 187.915125 196.270125 \nL 174.523125 196.270125 \nL 174.523125 185.398125 \n\" style=\"fill:#0e0b22;\"/>\n    <path clip-path=\"url(#pfdd365e9a7)\" d=\"M 187.915125 185.398125 \nL 201.307125 185.398125 \nL 201.307125 196.270125 \nL 187.915125 196.270125 \nL 187.915125 185.398125 \n\" style=\"fill:#03051a;\"/>\n    <path clip-path=\"url(#pfdd365e9a7)\" d=\"M 201.307125 185.398125 \nL 214.699125 185.398125 \nL 214.699125 196.270125 \nL 201.307125 196.270125 \nL 201.307125 185.398125 \n\" style=\"fill:#03051a;\"/>\n    <path clip-path=\"url(#pfdd365e9a7)\" d=\"M 214.699125 185.398125 \nL 228.091125 185.398125 \nL 228.091125 196.270125 \nL 214.699125 196.270125 \nL 214.699125 185.398125 \n\" style=\"fill:#06071c;\"/>\n    <path clip-path=\"url(#pfdd365e9a7)\" d=\"M 228.091125 185.398125 \nL 241.483125 185.398125 \nL 241.483125 196.270125 \nL 228.091125 196.270125 \nL 228.091125 185.398125 \n\" style=\"fill:#03051a;\"/>\n    <path clip-path=\"url(#pfdd365e9a7)\" d=\"M 241.483125 185.398125 \nL 254.875125 185.398125 \nL 254.875125 196.270125 \nL 241.483125 196.270125 \nL 241.483125 185.398125 \n\" style=\"fill:#f6bf9d;\"/>\n    <path clip-path=\"url(#pfdd365e9a7)\" d=\"M 254.875125 185.398125 \nL 268.267125 185.398125 \nL 268.267125 196.270125 \nL 254.875125 196.270125 \nL 254.875125 185.398125 \n\" style=\"fill:#05061b;\"/>\n    <path clip-path=\"url(#pfdd365e9a7)\" d=\"M 268.267125 185.398125 \nL 281.659125 185.398125 \nL 281.659125 196.270125 \nL 268.267125 196.270125 \nL 268.267125 185.398125 \n\" style=\"fill:#05061b;\"/>\n    <path clip-path=\"url(#pfdd365e9a7)\" d=\"M 281.659125 185.398125 \nL 295.051125 185.398125 \nL 295.051125 196.270125 \nL 281.659125 196.270125 \nL 281.659125 185.398125 \n\" style=\"fill:#04051a;\"/>\n    <path clip-path=\"url(#pfdd365e9a7)\" d=\"M 295.051125 185.398125 \nL 308.443125 185.398125 \nL 308.443125 196.270125 \nL 295.051125 196.270125 \nL 295.051125 185.398125 \n\" style=\"fill:#140e26;\"/>\n    <path clip-path=\"url(#pfdd365e9a7)\" d=\"M 40.603125 196.270125 \nL 53.995125 196.270125 \nL 53.995125 207.142125 \nL 40.603125 207.142125 \nL 40.603125 196.270125 \n\" style=\"fill:#06071c;\"/>\n    <path clip-path=\"url(#pfdd365e9a7)\" d=\"M 53.995125 196.270125 \nL 67.387125 196.270125 \nL 67.387125 207.142125 \nL 53.995125 207.142125 \nL 53.995125 196.270125 \n\" style=\"fill:#03051a;\"/>\n    <path clip-path=\"url(#pfdd365e9a7)\" d=\"M 67.387125 196.270125 \nL 80.779125 196.270125 \nL 80.779125 207.142125 \nL 67.387125 207.142125 \nL 67.387125 196.270125 \n\" style=\"fill:#03051a;\"/>\n    <path clip-path=\"url(#pfdd365e9a7)\" d=\"M 80.779125 196.270125 \nL 94.171125 196.270125 \nL 94.171125 207.142125 \nL 80.779125 207.142125 \nL 80.779125 196.270125 \n\" style=\"fill:#03051a;\"/>\n    <path clip-path=\"url(#pfdd365e9a7)\" d=\"M 94.171125 196.270125 \nL 107.563125 196.270125 \nL 107.563125 207.142125 \nL 94.171125 207.142125 \nL 94.171125 196.270125 \n\" style=\"fill:#03051a;\"/>\n    <path clip-path=\"url(#pfdd365e9a7)\" d=\"M 107.563125 196.270125 \nL 120.955125 196.270125 \nL 120.955125 207.142125 \nL 107.563125 207.142125 \nL 107.563125 196.270125 \n\" style=\"fill:#03051a;\"/>\n    <path clip-path=\"url(#pfdd365e9a7)\" d=\"M 120.955125 196.270125 \nL 134.347125 196.270125 \nL 134.347125 207.142125 \nL 120.955125 207.142125 \nL 120.955125 196.270125 \n\" style=\"fill:#03051a;\"/>\n    <path clip-path=\"url(#pfdd365e9a7)\" d=\"M 134.347125 196.270125 \nL 147.739125 196.270125 \nL 147.739125 207.142125 \nL 134.347125 207.142125 \nL 134.347125 196.270125 \n\" style=\"fill:#04051a;\"/>\n    <path clip-path=\"url(#pfdd365e9a7)\" d=\"M 147.739125 196.270125 \nL 161.131125 196.270125 \nL 161.131125 207.142125 \nL 147.739125 207.142125 \nL 147.739125 196.270125 \n\" style=\"fill:#05061b;\"/>\n    <path clip-path=\"url(#pfdd365e9a7)\" d=\"M 161.131125 196.270125 \nL 174.523125 196.270125 \nL 174.523125 207.142125 \nL 161.131125 207.142125 \nL 161.131125 196.270125 \n\" style=\"fill:#05061b;\"/>\n    <path clip-path=\"url(#pfdd365e9a7)\" d=\"M 174.523125 196.270125 \nL 187.915125 196.270125 \nL 187.915125 207.142125 \nL 174.523125 207.142125 \nL 174.523125 196.270125 \n\" style=\"fill:#0d0a21;\"/>\n    <path clip-path=\"url(#pfdd365e9a7)\" d=\"M 187.915125 196.270125 \nL 201.307125 196.270125 \nL 201.307125 207.142125 \nL 187.915125 207.142125 \nL 187.915125 196.270125 \n\" style=\"fill:#0e0b22;\"/>\n    <path clip-path=\"url(#pfdd365e9a7)\" d=\"M 201.307125 196.270125 \nL 214.699125 196.270125 \nL 214.699125 207.142125 \nL 201.307125 207.142125 \nL 201.307125 196.270125 \n\" style=\"fill:#03051a;\"/>\n    <path clip-path=\"url(#pfdd365e9a7)\" d=\"M 214.699125 196.270125 \nL 228.091125 196.270125 \nL 228.091125 207.142125 \nL 214.699125 207.142125 \nL 214.699125 196.270125 \n\" style=\"fill:#07071d;\"/>\n    <path clip-path=\"url(#pfdd365e9a7)\" d=\"M 228.091125 196.270125 \nL 241.483125 196.270125 \nL 241.483125 207.142125 \nL 228.091125 207.142125 \nL 228.091125 196.270125 \n\" style=\"fill:#07071d;\"/>\n    <path clip-path=\"url(#pfdd365e9a7)\" d=\"M 241.483125 196.270125 \nL 254.875125 196.270125 \nL 254.875125 207.142125 \nL 241.483125 207.142125 \nL 241.483125 196.270125 \n\" style=\"fill:#0d0a21;\"/>\n    <path clip-path=\"url(#pfdd365e9a7)\" d=\"M 254.875125 196.270125 \nL 268.267125 196.270125 \nL 268.267125 207.142125 \nL 254.875125 207.142125 \nL 254.875125 196.270125 \n\" style=\"fill:#f26f4c;\"/>\n    <path clip-path=\"url(#pfdd365e9a7)\" d=\"M 268.267125 196.270125 \nL 281.659125 196.270125 \nL 281.659125 207.142125 \nL 268.267125 207.142125 \nL 268.267125 196.270125 \n\" style=\"fill:#0d0a21;\"/>\n    <path clip-path=\"url(#pfdd365e9a7)\" d=\"M 281.659125 196.270125 \nL 295.051125 196.270125 \nL 295.051125 207.142125 \nL 281.659125 207.142125 \nL 281.659125 196.270125 \n\" style=\"fill:#100b23;\"/>\n    <path clip-path=\"url(#pfdd365e9a7)\" d=\"M 295.051125 196.270125 \nL 308.443125 196.270125 \nL 308.443125 207.142125 \nL 295.051125 207.142125 \nL 295.051125 196.270125 \n\" style=\"fill:#0a091f;\"/>\n    <path clip-path=\"url(#pfdd365e9a7)\" d=\"M 40.603125 207.142125 \nL 53.995125 207.142125 \nL 53.995125 218.014125 \nL 40.603125 218.014125 \nL 40.603125 207.142125 \n\" style=\"fill:#08081e;\"/>\n    <path clip-path=\"url(#pfdd365e9a7)\" d=\"M 53.995125 207.142125 \nL 67.387125 207.142125 \nL 67.387125 218.014125 \nL 53.995125 218.014125 \nL 53.995125 207.142125 \n\" style=\"fill:#05061b;\"/>\n    <path clip-path=\"url(#pfdd365e9a7)\" d=\"M 67.387125 207.142125 \nL 80.779125 207.142125 \nL 80.779125 218.014125 \nL 67.387125 218.014125 \nL 67.387125 207.142125 \n\" style=\"fill:#03051a;\"/>\n    <path clip-path=\"url(#pfdd365e9a7)\" d=\"M 80.779125 207.142125 \nL 94.171125 207.142125 \nL 94.171125 218.014125 \nL 80.779125 218.014125 \nL 80.779125 207.142125 \n\" style=\"fill:#03051a;\"/>\n    <path clip-path=\"url(#pfdd365e9a7)\" d=\"M 94.171125 207.142125 \nL 107.563125 207.142125 \nL 107.563125 218.014125 \nL 94.171125 218.014125 \nL 94.171125 207.142125 \n\" style=\"fill:#03051a;\"/>\n    <path clip-path=\"url(#pfdd365e9a7)\" d=\"M 107.563125 207.142125 \nL 120.955125 207.142125 \nL 120.955125 218.014125 \nL 107.563125 218.014125 \nL 107.563125 207.142125 \n\" style=\"fill:#03051a;\"/>\n    <path clip-path=\"url(#pfdd365e9a7)\" d=\"M 120.955125 207.142125 \nL 134.347125 207.142125 \nL 134.347125 218.014125 \nL 120.955125 218.014125 \nL 120.955125 207.142125 \n\" style=\"fill:#03051a;\"/>\n    <path clip-path=\"url(#pfdd365e9a7)\" d=\"M 134.347125 207.142125 \nL 147.739125 207.142125 \nL 147.739125 218.014125 \nL 134.347125 218.014125 \nL 134.347125 207.142125 \n\" style=\"fill:#04051a;\"/>\n    <path clip-path=\"url(#pfdd365e9a7)\" d=\"M 147.739125 207.142125 \nL 161.131125 207.142125 \nL 161.131125 218.014125 \nL 147.739125 218.014125 \nL 147.739125 207.142125 \n\" style=\"fill:#04051a;\"/>\n    <path clip-path=\"url(#pfdd365e9a7)\" d=\"M 161.131125 207.142125 \nL 174.523125 207.142125 \nL 174.523125 218.014125 \nL 161.131125 218.014125 \nL 161.131125 207.142125 \n\" style=\"fill:#05061b;\"/>\n    <path clip-path=\"url(#pfdd365e9a7)\" d=\"M 174.523125 207.142125 \nL 187.915125 207.142125 \nL 187.915125 218.014125 \nL 174.523125 218.014125 \nL 174.523125 207.142125 \n\" style=\"fill:#08081e;\"/>\n    <path clip-path=\"url(#pfdd365e9a7)\" d=\"M 187.915125 207.142125 \nL 201.307125 207.142125 \nL 201.307125 218.014125 \nL 187.915125 218.014125 \nL 187.915125 207.142125 \n\" style=\"fill:#07071d;\"/>\n    <path clip-path=\"url(#pfdd365e9a7)\" d=\"M 201.307125 207.142125 \nL 214.699125 207.142125 \nL 214.699125 218.014125 \nL 201.307125 218.014125 \nL 201.307125 207.142125 \n\" style=\"fill:#03051a;\"/>\n    <path clip-path=\"url(#pfdd365e9a7)\" d=\"M 214.699125 207.142125 \nL 228.091125 207.142125 \nL 228.091125 218.014125 \nL 214.699125 218.014125 \nL 214.699125 207.142125 \n\" style=\"fill:#03051a;\"/>\n    <path clip-path=\"url(#pfdd365e9a7)\" d=\"M 228.091125 207.142125 \nL 241.483125 207.142125 \nL 241.483125 218.014125 \nL 228.091125 218.014125 \nL 228.091125 207.142125 \n\" style=\"fill:#04051a;\"/>\n    <path clip-path=\"url(#pfdd365e9a7)\" d=\"M 241.483125 207.142125 \nL 254.875125 207.142125 \nL 254.875125 218.014125 \nL 241.483125 218.014125 \nL 241.483125 207.142125 \n\" style=\"fill:#100b23;\"/>\n    <path clip-path=\"url(#pfdd365e9a7)\" d=\"M 254.875125 207.142125 \nL 268.267125 207.142125 \nL 268.267125 218.014125 \nL 254.875125 218.014125 \nL 254.875125 207.142125 \n\" style=\"fill:#08081e;\"/>\n    <path clip-path=\"url(#pfdd365e9a7)\" d=\"M 268.267125 207.142125 \nL 281.659125 207.142125 \nL 281.659125 218.014125 \nL 268.267125 218.014125 \nL 268.267125 207.142125 \n\" style=\"fill:#f69e75;\"/>\n    <path clip-path=\"url(#pfdd365e9a7)\" d=\"M 281.659125 207.142125 \nL 295.051125 207.142125 \nL 295.051125 218.014125 \nL 281.659125 218.014125 \nL 281.659125 207.142125 \n\" style=\"fill:#100b23;\"/>\n    <path clip-path=\"url(#pfdd365e9a7)\" d=\"M 295.051125 207.142125 \nL 308.443125 207.142125 \nL 308.443125 218.014125 \nL 295.051125 218.014125 \nL 295.051125 207.142125 \n\" style=\"fill:#04051a;\"/>\n    <path clip-path=\"url(#pfdd365e9a7)\" d=\"M 40.603125 218.014125 \nL 53.995125 218.014125 \nL 53.995125 228.886125 \nL 40.603125 228.886125 \nL 40.603125 218.014125 \n\" style=\"fill:#100b23;\"/>\n    <path clip-path=\"url(#pfdd365e9a7)\" d=\"M 53.995125 218.014125 \nL 67.387125 218.014125 \nL 67.387125 228.886125 \nL 53.995125 228.886125 \nL 53.995125 218.014125 \n\" style=\"fill:#04051a;\"/>\n    <path clip-path=\"url(#pfdd365e9a7)\" d=\"M 67.387125 218.014125 \nL 80.779125 218.014125 \nL 80.779125 228.886125 \nL 67.387125 228.886125 \nL 67.387125 218.014125 \n\" style=\"fill:#03051a;\"/>\n    <path clip-path=\"url(#pfdd365e9a7)\" d=\"M 80.779125 218.014125 \nL 94.171125 218.014125 \nL 94.171125 228.886125 \nL 80.779125 228.886125 \nL 80.779125 218.014125 \n\" style=\"fill:#03051a;\"/>\n    <path clip-path=\"url(#pfdd365e9a7)\" d=\"M 94.171125 218.014125 \nL 107.563125 218.014125 \nL 107.563125 228.886125 \nL 94.171125 228.886125 \nL 94.171125 218.014125 \n\" style=\"fill:#03051a;\"/>\n    <path clip-path=\"url(#pfdd365e9a7)\" d=\"M 107.563125 218.014125 \nL 120.955125 218.014125 \nL 120.955125 228.886125 \nL 107.563125 228.886125 \nL 107.563125 218.014125 \n\" style=\"fill:#04051a;\"/>\n    <path clip-path=\"url(#pfdd365e9a7)\" d=\"M 120.955125 218.014125 \nL 134.347125 218.014125 \nL 134.347125 228.886125 \nL 120.955125 228.886125 \nL 120.955125 218.014125 \n\" style=\"fill:#03051a;\"/>\n    <path clip-path=\"url(#pfdd365e9a7)\" d=\"M 134.347125 218.014125 \nL 147.739125 218.014125 \nL 147.739125 228.886125 \nL 134.347125 228.886125 \nL 134.347125 218.014125 \n\" style=\"fill:#07071d;\"/>\n    <path clip-path=\"url(#pfdd365e9a7)\" d=\"M 147.739125 218.014125 \nL 161.131125 218.014125 \nL 161.131125 228.886125 \nL 147.739125 228.886125 \nL 147.739125 218.014125 \n\" style=\"fill:#05061b;\"/>\n    <path clip-path=\"url(#pfdd365e9a7)\" d=\"M 161.131125 218.014125 \nL 174.523125 218.014125 \nL 174.523125 228.886125 \nL 161.131125 228.886125 \nL 161.131125 218.014125 \n\" style=\"fill:#03051a;\"/>\n    <path clip-path=\"url(#pfdd365e9a7)\" d=\"M 174.523125 218.014125 \nL 187.915125 218.014125 \nL 187.915125 228.886125 \nL 174.523125 228.886125 \nL 174.523125 218.014125 \n\" style=\"fill:#0a091f;\"/>\n    <path clip-path=\"url(#pfdd365e9a7)\" d=\"M 187.915125 218.014125 \nL 201.307125 218.014125 \nL 201.307125 228.886125 \nL 187.915125 228.886125 \nL 187.915125 218.014125 \n\" style=\"fill:#05061b;\"/>\n    <path clip-path=\"url(#pfdd365e9a7)\" d=\"M 201.307125 218.014125 \nL 214.699125 218.014125 \nL 214.699125 228.886125 \nL 201.307125 228.886125 \nL 201.307125 218.014125 \n\" style=\"fill:#03051a;\"/>\n    <path clip-path=\"url(#pfdd365e9a7)\" d=\"M 214.699125 218.014125 \nL 228.091125 218.014125 \nL 228.091125 228.886125 \nL 214.699125 228.886125 \nL 214.699125 218.014125 \n\" style=\"fill:#05061b;\"/>\n    <path clip-path=\"url(#pfdd365e9a7)\" d=\"M 228.091125 218.014125 \nL 241.483125 218.014125 \nL 241.483125 228.886125 \nL 228.091125 228.886125 \nL 228.091125 218.014125 \n\" style=\"fill:#07071d;\"/>\n    <path clip-path=\"url(#pfdd365e9a7)\" d=\"M 241.483125 218.014125 \nL 254.875125 218.014125 \nL 254.875125 228.886125 \nL 241.483125 228.886125 \nL 241.483125 218.014125 \n\" style=\"fill:#07071d;\"/>\n    <path clip-path=\"url(#pfdd365e9a7)\" d=\"M 254.875125 218.014125 \nL 268.267125 218.014125 \nL 268.267125 228.886125 \nL 254.875125 228.886125 \nL 254.875125 218.014125 \n\" style=\"fill:#5b1e51;\"/>\n    <path clip-path=\"url(#pfdd365e9a7)\" d=\"M 268.267125 218.014125 \nL 281.659125 218.014125 \nL 281.659125 228.886125 \nL 268.267125 228.886125 \nL 268.267125 218.014125 \n\" style=\"fill:#0d0a21;\"/>\n    <path clip-path=\"url(#pfdd365e9a7)\" d=\"M 281.659125 218.014125 \nL 295.051125 218.014125 \nL 295.051125 228.886125 \nL 281.659125 228.886125 \nL 281.659125 218.014125 \n\" style=\"fill:#951c5b;\"/>\n    <path clip-path=\"url(#pfdd365e9a7)\" d=\"M 295.051125 218.014125 \nL 308.443125 218.014125 \nL 308.443125 228.886125 \nL 295.051125 228.886125 \nL 295.051125 218.014125 \n\" style=\"fill:#07071d;\"/>\n    <path clip-path=\"url(#pfdd365e9a7)\" d=\"M 40.603125 228.886125 \nL 53.995125 228.886125 \nL 53.995125 239.758125 \nL 40.603125 239.758125 \nL 40.603125 228.886125 \n\" style=\"fill:#1a102a;\"/>\n    <path clip-path=\"url(#pfdd365e9a7)\" d=\"M 53.995125 228.886125 \nL 67.387125 228.886125 \nL 67.387125 239.758125 \nL 53.995125 239.758125 \nL 53.995125 228.886125 \n\" style=\"fill:#04051a;\"/>\n    <path clip-path=\"url(#pfdd365e9a7)\" d=\"M 67.387125 228.886125 \nL 80.779125 228.886125 \nL 80.779125 239.758125 \nL 67.387125 239.758125 \nL 67.387125 228.886125 \n\" style=\"fill:#03051a;\"/>\n    <path clip-path=\"url(#pfdd365e9a7)\" d=\"M 80.779125 228.886125 \nL 94.171125 228.886125 \nL 94.171125 239.758125 \nL 80.779125 239.758125 \nL 80.779125 228.886125 \n\" style=\"fill:#03051a;\"/>\n    <path clip-path=\"url(#pfdd365e9a7)\" d=\"M 94.171125 228.886125 \nL 107.563125 228.886125 \nL 107.563125 239.758125 \nL 94.171125 239.758125 \nL 94.171125 228.886125 \n\" style=\"fill:#03051a;\"/>\n    <path clip-path=\"url(#pfdd365e9a7)\" d=\"M 107.563125 228.886125 \nL 120.955125 228.886125 \nL 120.955125 239.758125 \nL 107.563125 239.758125 \nL 107.563125 228.886125 \n\" style=\"fill:#03051a;\"/>\n    <path clip-path=\"url(#pfdd365e9a7)\" d=\"M 120.955125 228.886125 \nL 134.347125 228.886125 \nL 134.347125 239.758125 \nL 120.955125 239.758125 \nL 120.955125 228.886125 \n\" style=\"fill:#03051a;\"/>\n    <path clip-path=\"url(#pfdd365e9a7)\" d=\"M 134.347125 228.886125 \nL 147.739125 228.886125 \nL 147.739125 239.758125 \nL 134.347125 239.758125 \nL 134.347125 228.886125 \n\" style=\"fill:#04051a;\"/>\n    <path clip-path=\"url(#pfdd365e9a7)\" d=\"M 147.739125 228.886125 \nL 161.131125 228.886125 \nL 161.131125 239.758125 \nL 147.739125 239.758125 \nL 147.739125 228.886125 \n\" style=\"fill:#04051a;\"/>\n    <path clip-path=\"url(#pfdd365e9a7)\" d=\"M 161.131125 228.886125 \nL 174.523125 228.886125 \nL 174.523125 239.758125 \nL 161.131125 239.758125 \nL 161.131125 228.886125 \n\" style=\"fill:#04051a;\"/>\n    <path clip-path=\"url(#pfdd365e9a7)\" d=\"M 174.523125 228.886125 \nL 187.915125 228.886125 \nL 187.915125 239.758125 \nL 174.523125 239.758125 \nL 174.523125 228.886125 \n\" style=\"fill:#07071d;\"/>\n    <path clip-path=\"url(#pfdd365e9a7)\" d=\"M 187.915125 228.886125 \nL 201.307125 228.886125 \nL 201.307125 239.758125 \nL 187.915125 239.758125 \nL 187.915125 228.886125 \n\" style=\"fill:#05061b;\"/>\n    <path clip-path=\"url(#pfdd365e9a7)\" d=\"M 201.307125 228.886125 \nL 214.699125 228.886125 \nL 214.699125 239.758125 \nL 201.307125 239.758125 \nL 201.307125 228.886125 \n\" style=\"fill:#05061b;\"/>\n    <path clip-path=\"url(#pfdd365e9a7)\" d=\"M 214.699125 228.886125 \nL 228.091125 228.886125 \nL 228.091125 239.758125 \nL 214.699125 239.758125 \nL 214.699125 228.886125 \n\" style=\"fill:#07071d;\"/>\n    <path clip-path=\"url(#pfdd365e9a7)\" d=\"M 228.091125 228.886125 \nL 241.483125 228.886125 \nL 241.483125 239.758125 \nL 228.091125 239.758125 \nL 228.091125 228.886125 \n\" style=\"fill:#07071d;\"/>\n    <path clip-path=\"url(#pfdd365e9a7)\" d=\"M 241.483125 228.886125 \nL 254.875125 228.886125 \nL 254.875125 239.758125 \nL 241.483125 239.758125 \nL 241.483125 228.886125 \n\" style=\"fill:#431c46;\"/>\n    <path clip-path=\"url(#pfdd365e9a7)\" d=\"M 254.875125 228.886125 \nL 268.267125 228.886125 \nL 268.267125 239.758125 \nL 254.875125 239.758125 \nL 254.875125 228.886125 \n\" style=\"fill:#140e26;\"/>\n    <path clip-path=\"url(#pfdd365e9a7)\" d=\"M 268.267125 228.886125 \nL 281.659125 228.886125 \nL 281.659125 239.758125 \nL 268.267125 239.758125 \nL 268.267125 228.886125 \n\" style=\"fill:#0a091f;\"/>\n    <path clip-path=\"url(#pfdd365e9a7)\" d=\"M 281.659125 228.886125 \nL 295.051125 228.886125 \nL 295.051125 239.758125 \nL 281.659125 239.758125 \nL 281.659125 228.886125 \n\" style=\"fill:#0a091f;\"/>\n    <path clip-path=\"url(#pfdd365e9a7)\" d=\"M 295.051125 228.886125 \nL 308.443125 228.886125 \nL 308.443125 239.758125 \nL 295.051125 239.758125 \nL 295.051125 228.886125 \n\" style=\"fill:#561e4f;\"/>\n   </g>\n   <g id=\"matplotlib.axis_1\">\n    <g id=\"xtick_1\">\n     <g id=\"line2d_1\">\n      <defs>\n       <path d=\"M 0 0 \nL 0 3.5 \n\" id=\"m1822eb52fb\" style=\"stroke:#000000;stroke-width:0.8;\"/>\n      </defs>\n      <g>\n       <use style=\"stroke:#000000;stroke-width:0.8;\" x=\"47.299125\" xlink:href=\"#m1822eb52fb\" y=\"239.758125\"/>\n      </g>\n     </g>\n     <g id=\"text_1\">\n      <!-- 0 -->\n      <defs>\n       <path d=\"M 31.78125 66.40625 \nQ 24.171875 66.40625 20.328125 58.90625 \nQ 16.5 51.421875 16.5 36.375 \nQ 16.5 21.390625 20.328125 13.890625 \nQ 24.171875 6.390625 31.78125 6.390625 \nQ 39.453125 6.390625 43.28125 13.890625 \nQ 47.125 21.390625 47.125 36.375 \nQ 47.125 51.421875 43.28125 58.90625 \nQ 39.453125 66.40625 31.78125 66.40625 \nz\nM 31.78125 74.21875 \nQ 44.046875 74.21875 50.515625 64.515625 \nQ 56.984375 54.828125 56.984375 36.375 \nQ 56.984375 17.96875 50.515625 8.265625 \nQ 44.046875 -1.421875 31.78125 -1.421875 \nQ 19.53125 -1.421875 13.0625 8.265625 \nQ 6.59375 17.96875 6.59375 36.375 \nQ 6.59375 54.828125 13.0625 64.515625 \nQ 19.53125 74.21875 31.78125 74.21875 \nz\n\" id=\"DejaVuSans-48\"/>\n      </defs>\n      <g transform=\"translate(44.117875 254.356562)scale(0.1 -0.1)\">\n       <use xlink:href=\"#DejaVuSans-48\"/>\n      </g>\n     </g>\n    </g>\n    <g id=\"xtick_2\">\n     <g id=\"line2d_2\">\n      <g>\n       <use style=\"stroke:#000000;stroke-width:0.8;\" x=\"60.691125\" xlink:href=\"#m1822eb52fb\" y=\"239.758125\"/>\n      </g>\n     </g>\n     <g id=\"text_2\">\n      <!-- 1 -->\n      <defs>\n       <path d=\"M 12.40625 8.296875 \nL 28.515625 8.296875 \nL 28.515625 63.921875 \nL 10.984375 60.40625 \nL 10.984375 69.390625 \nL 28.421875 72.90625 \nL 38.28125 72.90625 \nL 38.28125 8.296875 \nL 54.390625 8.296875 \nL 54.390625 0 \nL 12.40625 0 \nz\n\" id=\"DejaVuSans-49\"/>\n      </defs>\n      <g transform=\"translate(57.509875 254.356562)scale(0.1 -0.1)\">\n       <use xlink:href=\"#DejaVuSans-49\"/>\n      </g>\n     </g>\n    </g>\n    <g id=\"xtick_3\">\n     <g id=\"line2d_3\">\n      <g>\n       <use style=\"stroke:#000000;stroke-width:0.8;\" x=\"74.083125\" xlink:href=\"#m1822eb52fb\" y=\"239.758125\"/>\n      </g>\n     </g>\n     <g id=\"text_3\">\n      <!-- 2 -->\n      <defs>\n       <path d=\"M 19.1875 8.296875 \nL 53.609375 8.296875 \nL 53.609375 0 \nL 7.328125 0 \nL 7.328125 8.296875 \nQ 12.9375 14.109375 22.625 23.890625 \nQ 32.328125 33.6875 34.8125 36.53125 \nQ 39.546875 41.84375 41.421875 45.53125 \nQ 43.3125 49.21875 43.3125 52.78125 \nQ 43.3125 58.59375 39.234375 62.25 \nQ 35.15625 65.921875 28.609375 65.921875 \nQ 23.96875 65.921875 18.8125 64.3125 \nQ 13.671875 62.703125 7.8125 59.421875 \nL 7.8125 69.390625 \nQ 13.765625 71.78125 18.9375 73 \nQ 24.125 74.21875 28.421875 74.21875 \nQ 39.75 74.21875 46.484375 68.546875 \nQ 53.21875 62.890625 53.21875 53.421875 \nQ 53.21875 48.921875 51.53125 44.890625 \nQ 49.859375 40.875 45.40625 35.40625 \nQ 44.1875 33.984375 37.640625 27.21875 \nQ 31.109375 20.453125 19.1875 8.296875 \nz\n\" id=\"DejaVuSans-50\"/>\n      </defs>\n      <g transform=\"translate(70.901875 254.356562)scale(0.1 -0.1)\">\n       <use xlink:href=\"#DejaVuSans-50\"/>\n      </g>\n     </g>\n    </g>\n    <g id=\"xtick_4\">\n     <g id=\"line2d_4\">\n      <g>\n       <use style=\"stroke:#000000;stroke-width:0.8;\" x=\"87.475125\" xlink:href=\"#m1822eb52fb\" y=\"239.758125\"/>\n      </g>\n     </g>\n     <g id=\"text_4\">\n      <!-- 3 -->\n      <defs>\n       <path d=\"M 40.578125 39.3125 \nQ 47.65625 37.796875 51.625 33 \nQ 55.609375 28.21875 55.609375 21.1875 \nQ 55.609375 10.40625 48.1875 4.484375 \nQ 40.765625 -1.421875 27.09375 -1.421875 \nQ 22.515625 -1.421875 17.65625 -0.515625 \nQ 12.796875 0.390625 7.625 2.203125 \nL 7.625 11.71875 \nQ 11.71875 9.328125 16.59375 8.109375 \nQ 21.484375 6.890625 26.8125 6.890625 \nQ 36.078125 6.890625 40.9375 10.546875 \nQ 45.796875 14.203125 45.796875 21.1875 \nQ 45.796875 27.640625 41.28125 31.265625 \nQ 36.765625 34.90625 28.71875 34.90625 \nL 20.21875 34.90625 \nL 20.21875 43.015625 \nL 29.109375 43.015625 \nQ 36.375 43.015625 40.234375 45.921875 \nQ 44.09375 48.828125 44.09375 54.296875 \nQ 44.09375 59.90625 40.109375 62.90625 \nQ 36.140625 65.921875 28.71875 65.921875 \nQ 24.65625 65.921875 20.015625 65.03125 \nQ 15.375 64.15625 9.8125 62.3125 \nL 9.8125 71.09375 \nQ 15.4375 72.65625 20.34375 73.4375 \nQ 25.25 74.21875 29.59375 74.21875 \nQ 40.828125 74.21875 47.359375 69.109375 \nQ 53.90625 64.015625 53.90625 55.328125 \nQ 53.90625 49.265625 50.4375 45.09375 \nQ 46.96875 40.921875 40.578125 39.3125 \nz\n\" id=\"DejaVuSans-51\"/>\n      </defs>\n      <g transform=\"translate(84.293875 254.356562)scale(0.1 -0.1)\">\n       <use xlink:href=\"#DejaVuSans-51\"/>\n      </g>\n     </g>\n    </g>\n    <g id=\"xtick_5\">\n     <g id=\"line2d_5\">\n      <g>\n       <use style=\"stroke:#000000;stroke-width:0.8;\" x=\"100.867125\" xlink:href=\"#m1822eb52fb\" y=\"239.758125\"/>\n      </g>\n     </g>\n     <g id=\"text_5\">\n      <!-- 4 -->\n      <defs>\n       <path d=\"M 37.796875 64.3125 \nL 12.890625 25.390625 \nL 37.796875 25.390625 \nz\nM 35.203125 72.90625 \nL 47.609375 72.90625 \nL 47.609375 25.390625 \nL 58.015625 25.390625 \nL 58.015625 17.1875 \nL 47.609375 17.1875 \nL 47.609375 0 \nL 37.796875 0 \nL 37.796875 17.1875 \nL 4.890625 17.1875 \nL 4.890625 26.703125 \nz\n\" id=\"DejaVuSans-52\"/>\n      </defs>\n      <g transform=\"translate(97.685875 254.356562)scale(0.1 -0.1)\">\n       <use xlink:href=\"#DejaVuSans-52\"/>\n      </g>\n     </g>\n    </g>\n    <g id=\"xtick_6\">\n     <g id=\"line2d_6\">\n      <g>\n       <use style=\"stroke:#000000;stroke-width:0.8;\" x=\"114.259125\" xlink:href=\"#m1822eb52fb\" y=\"239.758125\"/>\n      </g>\n     </g>\n     <g id=\"text_6\">\n      <!-- 5 -->\n      <defs>\n       <path d=\"M 10.796875 72.90625 \nL 49.515625 72.90625 \nL 49.515625 64.59375 \nL 19.828125 64.59375 \nL 19.828125 46.734375 \nQ 21.96875 47.46875 24.109375 47.828125 \nQ 26.265625 48.1875 28.421875 48.1875 \nQ 40.625 48.1875 47.75 41.5 \nQ 54.890625 34.8125 54.890625 23.390625 \nQ 54.890625 11.625 47.5625 5.09375 \nQ 40.234375 -1.421875 26.90625 -1.421875 \nQ 22.3125 -1.421875 17.546875 -0.640625 \nQ 12.796875 0.140625 7.71875 1.703125 \nL 7.71875 11.625 \nQ 12.109375 9.234375 16.796875 8.0625 \nQ 21.484375 6.890625 26.703125 6.890625 \nQ 35.15625 6.890625 40.078125 11.328125 \nQ 45.015625 15.765625 45.015625 23.390625 \nQ 45.015625 31 40.078125 35.4375 \nQ 35.15625 39.890625 26.703125 39.890625 \nQ 22.75 39.890625 18.8125 39.015625 \nQ 14.890625 38.140625 10.796875 36.28125 \nz\n\" id=\"DejaVuSans-53\"/>\n      </defs>\n      <g transform=\"translate(111.077875 254.356562)scale(0.1 -0.1)\">\n       <use xlink:href=\"#DejaVuSans-53\"/>\n      </g>\n     </g>\n    </g>\n    <g id=\"xtick_7\">\n     <g id=\"line2d_7\">\n      <g>\n       <use style=\"stroke:#000000;stroke-width:0.8;\" x=\"127.651125\" xlink:href=\"#m1822eb52fb\" y=\"239.758125\"/>\n      </g>\n     </g>\n     <g id=\"text_7\">\n      <!-- 6 -->\n      <defs>\n       <path d=\"M 33.015625 40.375 \nQ 26.375 40.375 22.484375 35.828125 \nQ 18.609375 31.296875 18.609375 23.390625 \nQ 18.609375 15.53125 22.484375 10.953125 \nQ 26.375 6.390625 33.015625 6.390625 \nQ 39.65625 6.390625 43.53125 10.953125 \nQ 47.40625 15.53125 47.40625 23.390625 \nQ 47.40625 31.296875 43.53125 35.828125 \nQ 39.65625 40.375 33.015625 40.375 \nz\nM 52.59375 71.296875 \nL 52.59375 62.3125 \nQ 48.875 64.0625 45.09375 64.984375 \nQ 41.3125 65.921875 37.59375 65.921875 \nQ 27.828125 65.921875 22.671875 59.328125 \nQ 17.53125 52.734375 16.796875 39.40625 \nQ 19.671875 43.65625 24.015625 45.921875 \nQ 28.375 48.1875 33.59375 48.1875 \nQ 44.578125 48.1875 50.953125 41.515625 \nQ 57.328125 34.859375 57.328125 23.390625 \nQ 57.328125 12.15625 50.6875 5.359375 \nQ 44.046875 -1.421875 33.015625 -1.421875 \nQ 20.359375 -1.421875 13.671875 8.265625 \nQ 6.984375 17.96875 6.984375 36.375 \nQ 6.984375 53.65625 15.1875 63.9375 \nQ 23.390625 74.21875 37.203125 74.21875 \nQ 40.921875 74.21875 44.703125 73.484375 \nQ 48.484375 72.75 52.59375 71.296875 \nz\n\" id=\"DejaVuSans-54\"/>\n      </defs>\n      <g transform=\"translate(124.469875 254.356562)scale(0.1 -0.1)\">\n       <use xlink:href=\"#DejaVuSans-54\"/>\n      </g>\n     </g>\n    </g>\n    <g id=\"xtick_8\">\n     <g id=\"line2d_8\">\n      <g>\n       <use style=\"stroke:#000000;stroke-width:0.8;\" x=\"141.043125\" xlink:href=\"#m1822eb52fb\" y=\"239.758125\"/>\n      </g>\n     </g>\n     <g id=\"text_8\">\n      <!-- 7 -->\n      <defs>\n       <path d=\"M 8.203125 72.90625 \nL 55.078125 72.90625 \nL 55.078125 68.703125 \nL 28.609375 0 \nL 18.3125 0 \nL 43.21875 64.59375 \nL 8.203125 64.59375 \nz\n\" id=\"DejaVuSans-55\"/>\n      </defs>\n      <g transform=\"translate(137.861875 254.356562)scale(0.1 -0.1)\">\n       <use xlink:href=\"#DejaVuSans-55\"/>\n      </g>\n     </g>\n    </g>\n    <g id=\"xtick_9\">\n     <g id=\"line2d_9\">\n      <g>\n       <use style=\"stroke:#000000;stroke-width:0.8;\" x=\"154.435125\" xlink:href=\"#m1822eb52fb\" y=\"239.758125\"/>\n      </g>\n     </g>\n     <g id=\"text_9\">\n      <!-- 8 -->\n      <defs>\n       <path d=\"M 31.78125 34.625 \nQ 24.75 34.625 20.71875 30.859375 \nQ 16.703125 27.09375 16.703125 20.515625 \nQ 16.703125 13.921875 20.71875 10.15625 \nQ 24.75 6.390625 31.78125 6.390625 \nQ 38.8125 6.390625 42.859375 10.171875 \nQ 46.921875 13.96875 46.921875 20.515625 \nQ 46.921875 27.09375 42.890625 30.859375 \nQ 38.875 34.625 31.78125 34.625 \nz\nM 21.921875 38.8125 \nQ 15.578125 40.375 12.03125 44.71875 \nQ 8.5 49.078125 8.5 55.328125 \nQ 8.5 64.0625 14.71875 69.140625 \nQ 20.953125 74.21875 31.78125 74.21875 \nQ 42.671875 74.21875 48.875 69.140625 \nQ 55.078125 64.0625 55.078125 55.328125 \nQ 55.078125 49.078125 51.53125 44.71875 \nQ 48 40.375 41.703125 38.8125 \nQ 48.828125 37.15625 52.796875 32.3125 \nQ 56.78125 27.484375 56.78125 20.515625 \nQ 56.78125 9.90625 50.3125 4.234375 \nQ 43.84375 -1.421875 31.78125 -1.421875 \nQ 19.734375 -1.421875 13.25 4.234375 \nQ 6.78125 9.90625 6.78125 20.515625 \nQ 6.78125 27.484375 10.78125 32.3125 \nQ 14.796875 37.15625 21.921875 38.8125 \nz\nM 18.3125 54.390625 \nQ 18.3125 48.734375 21.84375 45.5625 \nQ 25.390625 42.390625 31.78125 42.390625 \nQ 38.140625 42.390625 41.71875 45.5625 \nQ 45.3125 48.734375 45.3125 54.390625 \nQ 45.3125 60.0625 41.71875 63.234375 \nQ 38.140625 66.40625 31.78125 66.40625 \nQ 25.390625 66.40625 21.84375 63.234375 \nQ 18.3125 60.0625 18.3125 54.390625 \nz\n\" id=\"DejaVuSans-56\"/>\n      </defs>\n      <g transform=\"translate(151.253875 254.356562)scale(0.1 -0.1)\">\n       <use xlink:href=\"#DejaVuSans-56\"/>\n      </g>\n     </g>\n    </g>\n    <g id=\"xtick_10\">\n     <g id=\"line2d_10\">\n      <g>\n       <use style=\"stroke:#000000;stroke-width:0.8;\" x=\"167.827125\" xlink:href=\"#m1822eb52fb\" y=\"239.758125\"/>\n      </g>\n     </g>\n     <g id=\"text_10\">\n      <!-- 9 -->\n      <defs>\n       <path d=\"M 10.984375 1.515625 \nL 10.984375 10.5 \nQ 14.703125 8.734375 18.5 7.8125 \nQ 22.3125 6.890625 25.984375 6.890625 \nQ 35.75 6.890625 40.890625 13.453125 \nQ 46.046875 20.015625 46.78125 33.40625 \nQ 43.953125 29.203125 39.59375 26.953125 \nQ 35.25 24.703125 29.984375 24.703125 \nQ 19.046875 24.703125 12.671875 31.3125 \nQ 6.296875 37.9375 6.296875 49.421875 \nQ 6.296875 60.640625 12.9375 67.421875 \nQ 19.578125 74.21875 30.609375 74.21875 \nQ 43.265625 74.21875 49.921875 64.515625 \nQ 56.59375 54.828125 56.59375 36.375 \nQ 56.59375 19.140625 48.40625 8.859375 \nQ 40.234375 -1.421875 26.421875 -1.421875 \nQ 22.703125 -1.421875 18.890625 -0.6875 \nQ 15.09375 0.046875 10.984375 1.515625 \nz\nM 30.609375 32.421875 \nQ 37.25 32.421875 41.125 36.953125 \nQ 45.015625 41.5 45.015625 49.421875 \nQ 45.015625 57.28125 41.125 61.84375 \nQ 37.25 66.40625 30.609375 66.40625 \nQ 23.96875 66.40625 20.09375 61.84375 \nQ 16.21875 57.28125 16.21875 49.421875 \nQ 16.21875 41.5 20.09375 36.953125 \nQ 23.96875 32.421875 30.609375 32.421875 \nz\n\" id=\"DejaVuSans-57\"/>\n      </defs>\n      <g transform=\"translate(164.645875 254.356562)scale(0.1 -0.1)\">\n       <use xlink:href=\"#DejaVuSans-57\"/>\n      </g>\n     </g>\n    </g>\n    <g id=\"xtick_11\">\n     <g id=\"line2d_11\">\n      <g>\n       <use style=\"stroke:#000000;stroke-width:0.8;\" x=\"181.219125\" xlink:href=\"#m1822eb52fb\" y=\"239.758125\"/>\n      </g>\n     </g>\n     <g id=\"text_11\">\n      <!-- 10 -->\n      <g transform=\"translate(174.856625 254.356562)scale(0.1 -0.1)\">\n       <use xlink:href=\"#DejaVuSans-49\"/>\n       <use x=\"63.623047\" xlink:href=\"#DejaVuSans-48\"/>\n      </g>\n     </g>\n    </g>\n    <g id=\"xtick_12\">\n     <g id=\"line2d_12\">\n      <g>\n       <use style=\"stroke:#000000;stroke-width:0.8;\" x=\"194.611125\" xlink:href=\"#m1822eb52fb\" y=\"239.758125\"/>\n      </g>\n     </g>\n     <g id=\"text_12\">\n      <!-- 11 -->\n      <g transform=\"translate(188.248625 254.356562)scale(0.1 -0.1)\">\n       <use xlink:href=\"#DejaVuSans-49\"/>\n       <use x=\"63.623047\" xlink:href=\"#DejaVuSans-49\"/>\n      </g>\n     </g>\n    </g>\n    <g id=\"xtick_13\">\n     <g id=\"line2d_13\">\n      <g>\n       <use style=\"stroke:#000000;stroke-width:0.8;\" x=\"208.003125\" xlink:href=\"#m1822eb52fb\" y=\"239.758125\"/>\n      </g>\n     </g>\n     <g id=\"text_13\">\n      <!-- 12 -->\n      <g transform=\"translate(201.640625 254.356562)scale(0.1 -0.1)\">\n       <use xlink:href=\"#DejaVuSans-49\"/>\n       <use x=\"63.623047\" xlink:href=\"#DejaVuSans-50\"/>\n      </g>\n     </g>\n    </g>\n    <g id=\"xtick_14\">\n     <g id=\"line2d_14\">\n      <g>\n       <use style=\"stroke:#000000;stroke-width:0.8;\" x=\"221.395125\" xlink:href=\"#m1822eb52fb\" y=\"239.758125\"/>\n      </g>\n     </g>\n     <g id=\"text_14\">\n      <!-- 13 -->\n      <g transform=\"translate(215.032625 254.356562)scale(0.1 -0.1)\">\n       <use xlink:href=\"#DejaVuSans-49\"/>\n       <use x=\"63.623047\" xlink:href=\"#DejaVuSans-51\"/>\n      </g>\n     </g>\n    </g>\n    <g id=\"xtick_15\">\n     <g id=\"line2d_15\">\n      <g>\n       <use style=\"stroke:#000000;stroke-width:0.8;\" x=\"234.787125\" xlink:href=\"#m1822eb52fb\" y=\"239.758125\"/>\n      </g>\n     </g>\n     <g id=\"text_15\">\n      <!-- 14 -->\n      <g transform=\"translate(228.424625 254.356562)scale(0.1 -0.1)\">\n       <use xlink:href=\"#DejaVuSans-49\"/>\n       <use x=\"63.623047\" xlink:href=\"#DejaVuSans-52\"/>\n      </g>\n     </g>\n    </g>\n    <g id=\"xtick_16\">\n     <g id=\"line2d_16\">\n      <g>\n       <use style=\"stroke:#000000;stroke-width:0.8;\" x=\"248.179125\" xlink:href=\"#m1822eb52fb\" y=\"239.758125\"/>\n      </g>\n     </g>\n     <g id=\"text_16\">\n      <!-- 15 -->\n      <g transform=\"translate(241.816625 254.356562)scale(0.1 -0.1)\">\n       <use xlink:href=\"#DejaVuSans-49\"/>\n       <use x=\"63.623047\" xlink:href=\"#DejaVuSans-53\"/>\n      </g>\n     </g>\n    </g>\n    <g id=\"xtick_17\">\n     <g id=\"line2d_17\">\n      <g>\n       <use style=\"stroke:#000000;stroke-width:0.8;\" x=\"261.571125\" xlink:href=\"#m1822eb52fb\" y=\"239.758125\"/>\n      </g>\n     </g>\n     <g id=\"text_17\">\n      <!-- 16 -->\n      <g transform=\"translate(255.208625 254.356562)scale(0.1 -0.1)\">\n       <use xlink:href=\"#DejaVuSans-49\"/>\n       <use x=\"63.623047\" xlink:href=\"#DejaVuSans-54\"/>\n      </g>\n     </g>\n    </g>\n    <g id=\"xtick_18\">\n     <g id=\"line2d_18\">\n      <g>\n       <use style=\"stroke:#000000;stroke-width:0.8;\" x=\"274.963125\" xlink:href=\"#m1822eb52fb\" y=\"239.758125\"/>\n      </g>\n     </g>\n     <g id=\"text_18\">\n      <!-- 17 -->\n      <g transform=\"translate(268.600625 254.356562)scale(0.1 -0.1)\">\n       <use xlink:href=\"#DejaVuSans-49\"/>\n       <use x=\"63.623047\" xlink:href=\"#DejaVuSans-55\"/>\n      </g>\n     </g>\n    </g>\n    <g id=\"xtick_19\">\n     <g id=\"line2d_19\">\n      <g>\n       <use style=\"stroke:#000000;stroke-width:0.8;\" x=\"288.355125\" xlink:href=\"#m1822eb52fb\" y=\"239.758125\"/>\n      </g>\n     </g>\n     <g id=\"text_19\">\n      <!-- 18 -->\n      <g transform=\"translate(281.992625 254.356562)scale(0.1 -0.1)\">\n       <use xlink:href=\"#DejaVuSans-49\"/>\n       <use x=\"63.623047\" xlink:href=\"#DejaVuSans-56\"/>\n      </g>\n     </g>\n    </g>\n    <g id=\"xtick_20\">\n     <g id=\"line2d_20\">\n      <g>\n       <use style=\"stroke:#000000;stroke-width:0.8;\" x=\"301.747125\" xlink:href=\"#m1822eb52fb\" y=\"239.758125\"/>\n      </g>\n     </g>\n     <g id=\"text_20\">\n      <!-- 19 -->\n      <g transform=\"translate(295.384625 254.356562)scale(0.1 -0.1)\">\n       <use xlink:href=\"#DejaVuSans-49\"/>\n       <use x=\"63.623047\" xlink:href=\"#DejaVuSans-57\"/>\n      </g>\n     </g>\n    </g>\n    <g id=\"text_21\">\n     <!-- Predicted label -->\n     <defs>\n      <path d=\"M 19.671875 64.796875 \nL 19.671875 37.40625 \nL 32.078125 37.40625 \nQ 38.96875 37.40625 42.71875 40.96875 \nQ 46.484375 44.53125 46.484375 51.125 \nQ 46.484375 57.671875 42.71875 61.234375 \nQ 38.96875 64.796875 32.078125 64.796875 \nz\nM 9.8125 72.90625 \nL 32.078125 72.90625 \nQ 44.34375 72.90625 50.609375 67.359375 \nQ 56.890625 61.8125 56.890625 51.125 \nQ 56.890625 40.328125 50.609375 34.8125 \nQ 44.34375 29.296875 32.078125 29.296875 \nL 19.671875 29.296875 \nL 19.671875 0 \nL 9.8125 0 \nz\n\" id=\"DejaVuSans-80\"/>\n      <path d=\"M 41.109375 46.296875 \nQ 39.59375 47.171875 37.8125 47.578125 \nQ 36.03125 48 33.890625 48 \nQ 26.265625 48 22.1875 43.046875 \nQ 18.109375 38.09375 18.109375 28.8125 \nL 18.109375 0 \nL 9.078125 0 \nL 9.078125 54.6875 \nL 18.109375 54.6875 \nL 18.109375 46.1875 \nQ 20.953125 51.171875 25.484375 53.578125 \nQ 30.03125 56 36.53125 56 \nQ 37.453125 56 38.578125 55.875 \nQ 39.703125 55.765625 41.0625 55.515625 \nz\n\" id=\"DejaVuSans-114\"/>\n      <path d=\"M 56.203125 29.59375 \nL 56.203125 25.203125 \nL 14.890625 25.203125 \nQ 15.484375 15.921875 20.484375 11.0625 \nQ 25.484375 6.203125 34.421875 6.203125 \nQ 39.59375 6.203125 44.453125 7.46875 \nQ 49.3125 8.734375 54.109375 11.28125 \nL 54.109375 2.78125 \nQ 49.265625 0.734375 44.1875 -0.34375 \nQ 39.109375 -1.421875 33.890625 -1.421875 \nQ 20.796875 -1.421875 13.15625 6.1875 \nQ 5.515625 13.8125 5.515625 26.8125 \nQ 5.515625 40.234375 12.765625 48.109375 \nQ 20.015625 56 32.328125 56 \nQ 43.359375 56 49.78125 48.890625 \nQ 56.203125 41.796875 56.203125 29.59375 \nz\nM 47.21875 32.234375 \nQ 47.125 39.59375 43.09375 43.984375 \nQ 39.0625 48.390625 32.421875 48.390625 \nQ 24.90625 48.390625 20.390625 44.140625 \nQ 15.875 39.890625 15.1875 32.171875 \nz\n\" id=\"DejaVuSans-101\"/>\n      <path d=\"M 45.40625 46.390625 \nL 45.40625 75.984375 \nL 54.390625 75.984375 \nL 54.390625 0 \nL 45.40625 0 \nL 45.40625 8.203125 \nQ 42.578125 3.328125 38.25 0.953125 \nQ 33.9375 -1.421875 27.875 -1.421875 \nQ 17.96875 -1.421875 11.734375 6.484375 \nQ 5.515625 14.40625 5.515625 27.296875 \nQ 5.515625 40.1875 11.734375 48.09375 \nQ 17.96875 56 27.875 56 \nQ 33.9375 56 38.25 53.625 \nQ 42.578125 51.265625 45.40625 46.390625 \nz\nM 14.796875 27.296875 \nQ 14.796875 17.390625 18.875 11.75 \nQ 22.953125 6.109375 30.078125 6.109375 \nQ 37.203125 6.109375 41.296875 11.75 \nQ 45.40625 17.390625 45.40625 27.296875 \nQ 45.40625 37.203125 41.296875 42.84375 \nQ 37.203125 48.484375 30.078125 48.484375 \nQ 22.953125 48.484375 18.875 42.84375 \nQ 14.796875 37.203125 14.796875 27.296875 \nz\n\" id=\"DejaVuSans-100\"/>\n      <path d=\"M 9.421875 54.6875 \nL 18.40625 54.6875 \nL 18.40625 0 \nL 9.421875 0 \nz\nM 9.421875 75.984375 \nL 18.40625 75.984375 \nL 18.40625 64.59375 \nL 9.421875 64.59375 \nz\n\" id=\"DejaVuSans-105\"/>\n      <path d=\"M 48.78125 52.59375 \nL 48.78125 44.1875 \nQ 44.96875 46.296875 41.140625 47.34375 \nQ 37.3125 48.390625 33.40625 48.390625 \nQ 24.65625 48.390625 19.8125 42.84375 \nQ 14.984375 37.3125 14.984375 27.296875 \nQ 14.984375 17.28125 19.8125 11.734375 \nQ 24.65625 6.203125 33.40625 6.203125 \nQ 37.3125 6.203125 41.140625 7.25 \nQ 44.96875 8.296875 48.78125 10.40625 \nL 48.78125 2.09375 \nQ 45.015625 0.34375 40.984375 -0.53125 \nQ 36.96875 -1.421875 32.421875 -1.421875 \nQ 20.0625 -1.421875 12.78125 6.34375 \nQ 5.515625 14.109375 5.515625 27.296875 \nQ 5.515625 40.671875 12.859375 48.328125 \nQ 20.21875 56 33.015625 56 \nQ 37.15625 56 41.109375 55.140625 \nQ 45.0625 54.296875 48.78125 52.59375 \nz\n\" id=\"DejaVuSans-99\"/>\n      <path d=\"M 18.3125 70.21875 \nL 18.3125 54.6875 \nL 36.8125 54.6875 \nL 36.8125 47.703125 \nL 18.3125 47.703125 \nL 18.3125 18.015625 \nQ 18.3125 11.328125 20.140625 9.421875 \nQ 21.96875 7.515625 27.59375 7.515625 \nL 36.8125 7.515625 \nL 36.8125 0 \nL 27.59375 0 \nQ 17.1875 0 13.234375 3.875 \nQ 9.28125 7.765625 9.28125 18.015625 \nL 9.28125 47.703125 \nL 2.6875 47.703125 \nL 2.6875 54.6875 \nL 9.28125 54.6875 \nL 9.28125 70.21875 \nz\n\" id=\"DejaVuSans-116\"/>\n      <path id=\"DejaVuSans-32\"/>\n      <path d=\"M 9.421875 75.984375 \nL 18.40625 75.984375 \nL 18.40625 0 \nL 9.421875 0 \nz\n\" id=\"DejaVuSans-108\"/>\n      <path d=\"M 34.28125 27.484375 \nQ 23.390625 27.484375 19.1875 25 \nQ 14.984375 22.515625 14.984375 16.5 \nQ 14.984375 11.71875 18.140625 8.90625 \nQ 21.296875 6.109375 26.703125 6.109375 \nQ 34.1875 6.109375 38.703125 11.40625 \nQ 43.21875 16.703125 43.21875 25.484375 \nL 43.21875 27.484375 \nz\nM 52.203125 31.203125 \nL 52.203125 0 \nL 43.21875 0 \nL 43.21875 8.296875 \nQ 40.140625 3.328125 35.546875 0.953125 \nQ 30.953125 -1.421875 24.3125 -1.421875 \nQ 15.921875 -1.421875 10.953125 3.296875 \nQ 6 8.015625 6 15.921875 \nQ 6 25.140625 12.171875 29.828125 \nQ 18.359375 34.515625 30.609375 34.515625 \nL 43.21875 34.515625 \nL 43.21875 35.40625 \nQ 43.21875 41.609375 39.140625 45 \nQ 35.0625 48.390625 27.6875 48.390625 \nQ 23 48.390625 18.546875 47.265625 \nQ 14.109375 46.140625 10.015625 43.890625 \nL 10.015625 52.203125 \nQ 14.9375 54.109375 19.578125 55.046875 \nQ 24.21875 56 28.609375 56 \nQ 40.484375 56 46.34375 49.84375 \nQ 52.203125 43.703125 52.203125 31.203125 \nz\n\" id=\"DejaVuSans-97\"/>\n      <path d=\"M 48.6875 27.296875 \nQ 48.6875 37.203125 44.609375 42.84375 \nQ 40.53125 48.484375 33.40625 48.484375 \nQ 26.265625 48.484375 22.1875 42.84375 \nQ 18.109375 37.203125 18.109375 27.296875 \nQ 18.109375 17.390625 22.1875 11.75 \nQ 26.265625 6.109375 33.40625 6.109375 \nQ 40.53125 6.109375 44.609375 11.75 \nQ 48.6875 17.390625 48.6875 27.296875 \nz\nM 18.109375 46.390625 \nQ 20.953125 51.265625 25.265625 53.625 \nQ 29.59375 56 35.59375 56 \nQ 45.5625 56 51.78125 48.09375 \nQ 58.015625 40.1875 58.015625 27.296875 \nQ 58.015625 14.40625 51.78125 6.484375 \nQ 45.5625 -1.421875 35.59375 -1.421875 \nQ 29.59375 -1.421875 25.265625 0.953125 \nQ 20.953125 3.328125 18.109375 8.203125 \nL 18.109375 0 \nL 9.078125 0 \nL 9.078125 75.984375 \nL 18.109375 75.984375 \nz\n\" id=\"DejaVuSans-98\"/>\n     </defs>\n     <g transform=\"translate(137.370781 268.034687)scale(0.1 -0.1)\">\n      <use xlink:href=\"#DejaVuSans-80\"/>\n      <use x=\"58.552734\" xlink:href=\"#DejaVuSans-114\"/>\n      <use x=\"97.416016\" xlink:href=\"#DejaVuSans-101\"/>\n      <use x=\"158.939453\" xlink:href=\"#DejaVuSans-100\"/>\n      <use x=\"222.416016\" xlink:href=\"#DejaVuSans-105\"/>\n      <use x=\"250.199219\" xlink:href=\"#DejaVuSans-99\"/>\n      <use x=\"305.179688\" xlink:href=\"#DejaVuSans-116\"/>\n      <use x=\"344.388672\" xlink:href=\"#DejaVuSans-101\"/>\n      <use x=\"405.912109\" xlink:href=\"#DejaVuSans-100\"/>\n      <use x=\"469.388672\" xlink:href=\"#DejaVuSans-32\"/>\n      <use x=\"501.175781\" xlink:href=\"#DejaVuSans-108\"/>\n      <use x=\"528.958984\" xlink:href=\"#DejaVuSans-97\"/>\n      <use x=\"590.238281\" xlink:href=\"#DejaVuSans-98\"/>\n      <use x=\"653.714844\" xlink:href=\"#DejaVuSans-101\"/>\n      <use x=\"715.238281\" xlink:href=\"#DejaVuSans-108\"/>\n     </g>\n    </g>\n   </g>\n   <g id=\"matplotlib.axis_2\">\n    <g id=\"ytick_1\">\n     <g id=\"line2d_21\">\n      <defs>\n       <path d=\"M 0 0 \nL -3.5 0 \n\" id=\"m9b824a2241\" style=\"stroke:#000000;stroke-width:0.8;\"/>\n      </defs>\n      <g>\n       <use style=\"stroke:#000000;stroke-width:0.8;\" x=\"40.603125\" xlink:href=\"#m9b824a2241\" y=\"27.754125\"/>\n      </g>\n     </g>\n     <g id=\"text_22\">\n      <!-- 0 -->\n      <g transform=\"translate(27.240625 31.553344)scale(0.1 -0.1)\">\n       <use xlink:href=\"#DejaVuSans-48\"/>\n      </g>\n     </g>\n    </g>\n    <g id=\"ytick_2\">\n     <g id=\"line2d_22\">\n      <g>\n       <use style=\"stroke:#000000;stroke-width:0.8;\" x=\"40.603125\" xlink:href=\"#m9b824a2241\" y=\"38.626125\"/>\n      </g>\n     </g>\n     <g id=\"text_23\">\n      <!-- 1 -->\n      <g transform=\"translate(27.240625 42.425344)scale(0.1 -0.1)\">\n       <use xlink:href=\"#DejaVuSans-49\"/>\n      </g>\n     </g>\n    </g>\n    <g id=\"ytick_3\">\n     <g id=\"line2d_23\">\n      <g>\n       <use style=\"stroke:#000000;stroke-width:0.8;\" x=\"40.603125\" xlink:href=\"#m9b824a2241\" y=\"49.498125\"/>\n      </g>\n     </g>\n     <g id=\"text_24\">\n      <!-- 2 -->\n      <g transform=\"translate(27.240625 53.297344)scale(0.1 -0.1)\">\n       <use xlink:href=\"#DejaVuSans-50\"/>\n      </g>\n     </g>\n    </g>\n    <g id=\"ytick_4\">\n     <g id=\"line2d_24\">\n      <g>\n       <use style=\"stroke:#000000;stroke-width:0.8;\" x=\"40.603125\" xlink:href=\"#m9b824a2241\" y=\"60.370125\"/>\n      </g>\n     </g>\n     <g id=\"text_25\">\n      <!-- 3 -->\n      <g transform=\"translate(27.240625 64.169344)scale(0.1 -0.1)\">\n       <use xlink:href=\"#DejaVuSans-51\"/>\n      </g>\n     </g>\n    </g>\n    <g id=\"ytick_5\">\n     <g id=\"line2d_25\">\n      <g>\n       <use style=\"stroke:#000000;stroke-width:0.8;\" x=\"40.603125\" xlink:href=\"#m9b824a2241\" y=\"71.242125\"/>\n      </g>\n     </g>\n     <g id=\"text_26\">\n      <!-- 4 -->\n      <g transform=\"translate(27.240625 75.041344)scale(0.1 -0.1)\">\n       <use xlink:href=\"#DejaVuSans-52\"/>\n      </g>\n     </g>\n    </g>\n    <g id=\"ytick_6\">\n     <g id=\"line2d_26\">\n      <g>\n       <use style=\"stroke:#000000;stroke-width:0.8;\" x=\"40.603125\" xlink:href=\"#m9b824a2241\" y=\"82.114125\"/>\n      </g>\n     </g>\n     <g id=\"text_27\">\n      <!-- 5 -->\n      <g transform=\"translate(27.240625 85.913344)scale(0.1 -0.1)\">\n       <use xlink:href=\"#DejaVuSans-53\"/>\n      </g>\n     </g>\n    </g>\n    <g id=\"ytick_7\">\n     <g id=\"line2d_27\">\n      <g>\n       <use style=\"stroke:#000000;stroke-width:0.8;\" x=\"40.603125\" xlink:href=\"#m9b824a2241\" y=\"92.986125\"/>\n      </g>\n     </g>\n     <g id=\"text_28\">\n      <!-- 6 -->\n      <g transform=\"translate(27.240625 96.785344)scale(0.1 -0.1)\">\n       <use xlink:href=\"#DejaVuSans-54\"/>\n      </g>\n     </g>\n    </g>\n    <g id=\"ytick_8\">\n     <g id=\"line2d_28\">\n      <g>\n       <use style=\"stroke:#000000;stroke-width:0.8;\" x=\"40.603125\" xlink:href=\"#m9b824a2241\" y=\"103.858125\"/>\n      </g>\n     </g>\n     <g id=\"text_29\">\n      <!-- 7 -->\n      <g transform=\"translate(27.240625 107.657344)scale(0.1 -0.1)\">\n       <use xlink:href=\"#DejaVuSans-55\"/>\n      </g>\n     </g>\n    </g>\n    <g id=\"ytick_9\">\n     <g id=\"line2d_29\">\n      <g>\n       <use style=\"stroke:#000000;stroke-width:0.8;\" x=\"40.603125\" xlink:href=\"#m9b824a2241\" y=\"114.730125\"/>\n      </g>\n     </g>\n     <g id=\"text_30\">\n      <!-- 8 -->\n      <g transform=\"translate(27.240625 118.529344)scale(0.1 -0.1)\">\n       <use xlink:href=\"#DejaVuSans-56\"/>\n      </g>\n     </g>\n    </g>\n    <g id=\"ytick_10\">\n     <g id=\"line2d_30\">\n      <g>\n       <use style=\"stroke:#000000;stroke-width:0.8;\" x=\"40.603125\" xlink:href=\"#m9b824a2241\" y=\"125.602125\"/>\n      </g>\n     </g>\n     <g id=\"text_31\">\n      <!-- 9 -->\n      <g transform=\"translate(27.240625 129.401344)scale(0.1 -0.1)\">\n       <use xlink:href=\"#DejaVuSans-57\"/>\n      </g>\n     </g>\n    </g>\n    <g id=\"ytick_11\">\n     <g id=\"line2d_31\">\n      <g>\n       <use style=\"stroke:#000000;stroke-width:0.8;\" x=\"40.603125\" xlink:href=\"#m9b824a2241\" y=\"136.474125\"/>\n      </g>\n     </g>\n     <g id=\"text_32\">\n      <!-- 10 -->\n      <g transform=\"translate(20.878125 140.273344)scale(0.1 -0.1)\">\n       <use xlink:href=\"#DejaVuSans-49\"/>\n       <use x=\"63.623047\" xlink:href=\"#DejaVuSans-48\"/>\n      </g>\n     </g>\n    </g>\n    <g id=\"ytick_12\">\n     <g id=\"line2d_32\">\n      <g>\n       <use style=\"stroke:#000000;stroke-width:0.8;\" x=\"40.603125\" xlink:href=\"#m9b824a2241\" y=\"147.346125\"/>\n      </g>\n     </g>\n     <g id=\"text_33\">\n      <!-- 11 -->\n      <g transform=\"translate(20.878125 151.145344)scale(0.1 -0.1)\">\n       <use xlink:href=\"#DejaVuSans-49\"/>\n       <use x=\"63.623047\" xlink:href=\"#DejaVuSans-49\"/>\n      </g>\n     </g>\n    </g>\n    <g id=\"ytick_13\">\n     <g id=\"line2d_33\">\n      <g>\n       <use style=\"stroke:#000000;stroke-width:0.8;\" x=\"40.603125\" xlink:href=\"#m9b824a2241\" y=\"158.218125\"/>\n      </g>\n     </g>\n     <g id=\"text_34\">\n      <!-- 12 -->\n      <g transform=\"translate(20.878125 162.017344)scale(0.1 -0.1)\">\n       <use xlink:href=\"#DejaVuSans-49\"/>\n       <use x=\"63.623047\" xlink:href=\"#DejaVuSans-50\"/>\n      </g>\n     </g>\n    </g>\n    <g id=\"ytick_14\">\n     <g id=\"line2d_34\">\n      <g>\n       <use style=\"stroke:#000000;stroke-width:0.8;\" x=\"40.603125\" xlink:href=\"#m9b824a2241\" y=\"169.090125\"/>\n      </g>\n     </g>\n     <g id=\"text_35\">\n      <!-- 13 -->\n      <g transform=\"translate(20.878125 172.889344)scale(0.1 -0.1)\">\n       <use xlink:href=\"#DejaVuSans-49\"/>\n       <use x=\"63.623047\" xlink:href=\"#DejaVuSans-51\"/>\n      </g>\n     </g>\n    </g>\n    <g id=\"ytick_15\">\n     <g id=\"line2d_35\">\n      <g>\n       <use style=\"stroke:#000000;stroke-width:0.8;\" x=\"40.603125\" xlink:href=\"#m9b824a2241\" y=\"179.962125\"/>\n      </g>\n     </g>\n     <g id=\"text_36\">\n      <!-- 14 -->\n      <g transform=\"translate(20.878125 183.761344)scale(0.1 -0.1)\">\n       <use xlink:href=\"#DejaVuSans-49\"/>\n       <use x=\"63.623047\" xlink:href=\"#DejaVuSans-52\"/>\n      </g>\n     </g>\n    </g>\n    <g id=\"ytick_16\">\n     <g id=\"line2d_36\">\n      <g>\n       <use style=\"stroke:#000000;stroke-width:0.8;\" x=\"40.603125\" xlink:href=\"#m9b824a2241\" y=\"190.834125\"/>\n      </g>\n     </g>\n     <g id=\"text_37\">\n      <!-- 15 -->\n      <g transform=\"translate(20.878125 194.633344)scale(0.1 -0.1)\">\n       <use xlink:href=\"#DejaVuSans-49\"/>\n       <use x=\"63.623047\" xlink:href=\"#DejaVuSans-53\"/>\n      </g>\n     </g>\n    </g>\n    <g id=\"ytick_17\">\n     <g id=\"line2d_37\">\n      <g>\n       <use style=\"stroke:#000000;stroke-width:0.8;\" x=\"40.603125\" xlink:href=\"#m9b824a2241\" y=\"201.706125\"/>\n      </g>\n     </g>\n     <g id=\"text_38\">\n      <!-- 16 -->\n      <g transform=\"translate(20.878125 205.505344)scale(0.1 -0.1)\">\n       <use xlink:href=\"#DejaVuSans-49\"/>\n       <use x=\"63.623047\" xlink:href=\"#DejaVuSans-54\"/>\n      </g>\n     </g>\n    </g>\n    <g id=\"ytick_18\">\n     <g id=\"line2d_38\">\n      <g>\n       <use style=\"stroke:#000000;stroke-width:0.8;\" x=\"40.603125\" xlink:href=\"#m9b824a2241\" y=\"212.578125\"/>\n      </g>\n     </g>\n     <g id=\"text_39\">\n      <!-- 17 -->\n      <g transform=\"translate(20.878125 216.377344)scale(0.1 -0.1)\">\n       <use xlink:href=\"#DejaVuSans-49\"/>\n       <use x=\"63.623047\" xlink:href=\"#DejaVuSans-55\"/>\n      </g>\n     </g>\n    </g>\n    <g id=\"ytick_19\">\n     <g id=\"line2d_39\">\n      <g>\n       <use style=\"stroke:#000000;stroke-width:0.8;\" x=\"40.603125\" xlink:href=\"#m9b824a2241\" y=\"223.450125\"/>\n      </g>\n     </g>\n     <g id=\"text_40\">\n      <!-- 18 -->\n      <g transform=\"translate(20.878125 227.249344)scale(0.1 -0.1)\">\n       <use xlink:href=\"#DejaVuSans-49\"/>\n       <use x=\"63.623047\" xlink:href=\"#DejaVuSans-56\"/>\n      </g>\n     </g>\n    </g>\n    <g id=\"ytick_20\">\n     <g id=\"line2d_40\">\n      <g>\n       <use style=\"stroke:#000000;stroke-width:0.8;\" x=\"40.603125\" xlink:href=\"#m9b824a2241\" y=\"234.322125\"/>\n      </g>\n     </g>\n     <g id=\"text_41\">\n      <!-- 19 -->\n      <g transform=\"translate(20.878125 238.121344)scale(0.1 -0.1)\">\n       <use xlink:href=\"#DejaVuSans-49\"/>\n       <use x=\"63.623047\" xlink:href=\"#DejaVuSans-57\"/>\n      </g>\n     </g>\n    </g>\n    <g id=\"text_42\">\n     <!-- True label -->\n     <defs>\n      <path d=\"M -0.296875 72.90625 \nL 61.375 72.90625 \nL 61.375 64.59375 \nL 35.5 64.59375 \nL 35.5 0 \nL 25.59375 0 \nL 25.59375 64.59375 \nL -0.296875 64.59375 \nz\n\" id=\"DejaVuSans-84\"/>\n      <path d=\"M 8.5 21.578125 \nL 8.5 54.6875 \nL 17.484375 54.6875 \nL 17.484375 21.921875 \nQ 17.484375 14.15625 20.5 10.265625 \nQ 23.53125 6.390625 29.59375 6.390625 \nQ 36.859375 6.390625 41.078125 11.03125 \nQ 45.3125 15.671875 45.3125 23.6875 \nL 45.3125 54.6875 \nL 54.296875 54.6875 \nL 54.296875 0 \nL 45.3125 0 \nL 45.3125 8.40625 \nQ 42.046875 3.421875 37.71875 1 \nQ 33.40625 -1.421875 27.6875 -1.421875 \nQ 18.265625 -1.421875 13.375 4.4375 \nQ 8.5 10.296875 8.5 21.578125 \nz\nM 31.109375 56 \nz\n\" id=\"DejaVuSans-117\"/>\n     </defs>\n     <g transform=\"translate(14.798438 155.337344)rotate(-90)scale(0.1 -0.1)\">\n      <use xlink:href=\"#DejaVuSans-84\"/>\n      <use x=\"46.333984\" xlink:href=\"#DejaVuSans-114\"/>\n      <use x=\"87.447266\" xlink:href=\"#DejaVuSans-117\"/>\n      <use x=\"150.826172\" xlink:href=\"#DejaVuSans-101\"/>\n      <use x=\"212.349609\" xlink:href=\"#DejaVuSans-32\"/>\n      <use x=\"244.136719\" xlink:href=\"#DejaVuSans-108\"/>\n      <use x=\"271.919922\" xlink:href=\"#DejaVuSans-97\"/>\n      <use x=\"333.199219\" xlink:href=\"#DejaVuSans-98\"/>\n      <use x=\"396.675781\" xlink:href=\"#DejaVuSans-101\"/>\n      <use x=\"458.199219\" xlink:href=\"#DejaVuSans-108\"/>\n     </g>\n    </g>\n   </g>\n   <g id=\"text_43\">\n    <!-- Confusion Matrix -->\n    <defs>\n     <path d=\"M 64.40625 67.28125 \nL 64.40625 56.890625 \nQ 59.421875 61.53125 53.78125 63.8125 \nQ 48.140625 66.109375 41.796875 66.109375 \nQ 29.296875 66.109375 22.65625 58.46875 \nQ 16.015625 50.828125 16.015625 36.375 \nQ 16.015625 21.96875 22.65625 14.328125 \nQ 29.296875 6.6875 41.796875 6.6875 \nQ 48.140625 6.6875 53.78125 8.984375 \nQ 59.421875 11.28125 64.40625 15.921875 \nL 64.40625 5.609375 \nQ 59.234375 2.09375 53.4375 0.328125 \nQ 47.65625 -1.421875 41.21875 -1.421875 \nQ 24.65625 -1.421875 15.125 8.703125 \nQ 5.609375 18.84375 5.609375 36.375 \nQ 5.609375 53.953125 15.125 64.078125 \nQ 24.65625 74.21875 41.21875 74.21875 \nQ 47.75 74.21875 53.53125 72.484375 \nQ 59.328125 70.75 64.40625 67.28125 \nz\n\" id=\"DejaVuSans-67\"/>\n     <path d=\"M 30.609375 48.390625 \nQ 23.390625 48.390625 19.1875 42.75 \nQ 14.984375 37.109375 14.984375 27.296875 \nQ 14.984375 17.484375 19.15625 11.84375 \nQ 23.34375 6.203125 30.609375 6.203125 \nQ 37.796875 6.203125 41.984375 11.859375 \nQ 46.1875 17.53125 46.1875 27.296875 \nQ 46.1875 37.015625 41.984375 42.703125 \nQ 37.796875 48.390625 30.609375 48.390625 \nz\nM 30.609375 56 \nQ 42.328125 56 49.015625 48.375 \nQ 55.71875 40.765625 55.71875 27.296875 \nQ 55.71875 13.875 49.015625 6.21875 \nQ 42.328125 -1.421875 30.609375 -1.421875 \nQ 18.84375 -1.421875 12.171875 6.21875 \nQ 5.515625 13.875 5.515625 27.296875 \nQ 5.515625 40.765625 12.171875 48.375 \nQ 18.84375 56 30.609375 56 \nz\n\" id=\"DejaVuSans-111\"/>\n     <path d=\"M 54.890625 33.015625 \nL 54.890625 0 \nL 45.90625 0 \nL 45.90625 32.71875 \nQ 45.90625 40.484375 42.875 44.328125 \nQ 39.84375 48.1875 33.796875 48.1875 \nQ 26.515625 48.1875 22.3125 43.546875 \nQ 18.109375 38.921875 18.109375 30.90625 \nL 18.109375 0 \nL 9.078125 0 \nL 9.078125 54.6875 \nL 18.109375 54.6875 \nL 18.109375 46.1875 \nQ 21.34375 51.125 25.703125 53.5625 \nQ 30.078125 56 35.796875 56 \nQ 45.21875 56 50.046875 50.171875 \nQ 54.890625 44.34375 54.890625 33.015625 \nz\n\" id=\"DejaVuSans-110\"/>\n     <path d=\"M 37.109375 75.984375 \nL 37.109375 68.5 \nL 28.515625 68.5 \nQ 23.6875 68.5 21.796875 66.546875 \nQ 19.921875 64.59375 19.921875 59.515625 \nL 19.921875 54.6875 \nL 34.71875 54.6875 \nL 34.71875 47.703125 \nL 19.921875 47.703125 \nL 19.921875 0 \nL 10.890625 0 \nL 10.890625 47.703125 \nL 2.296875 47.703125 \nL 2.296875 54.6875 \nL 10.890625 54.6875 \nL 10.890625 58.5 \nQ 10.890625 67.625 15.140625 71.796875 \nQ 19.390625 75.984375 28.609375 75.984375 \nz\n\" id=\"DejaVuSans-102\"/>\n     <path d=\"M 44.28125 53.078125 \nL 44.28125 44.578125 \nQ 40.484375 46.53125 36.375 47.5 \nQ 32.28125 48.484375 27.875 48.484375 \nQ 21.1875 48.484375 17.84375 46.4375 \nQ 14.5 44.390625 14.5 40.28125 \nQ 14.5 37.15625 16.890625 35.375 \nQ 19.28125 33.59375 26.515625 31.984375 \nL 29.59375 31.296875 \nQ 39.15625 29.25 43.1875 25.515625 \nQ 47.21875 21.78125 47.21875 15.09375 \nQ 47.21875 7.46875 41.1875 3.015625 \nQ 35.15625 -1.421875 24.609375 -1.421875 \nQ 20.21875 -1.421875 15.453125 -0.5625 \nQ 10.6875 0.296875 5.421875 2 \nL 5.421875 11.28125 \nQ 10.40625 8.6875 15.234375 7.390625 \nQ 20.0625 6.109375 24.8125 6.109375 \nQ 31.15625 6.109375 34.5625 8.28125 \nQ 37.984375 10.453125 37.984375 14.40625 \nQ 37.984375 18.0625 35.515625 20.015625 \nQ 33.0625 21.96875 24.703125 23.78125 \nL 21.578125 24.515625 \nQ 13.234375 26.265625 9.515625 29.90625 \nQ 5.8125 33.546875 5.8125 39.890625 \nQ 5.8125 47.609375 11.28125 51.796875 \nQ 16.75 56 26.8125 56 \nQ 31.78125 56 36.171875 55.265625 \nQ 40.578125 54.546875 44.28125 53.078125 \nz\n\" id=\"DejaVuSans-115\"/>\n     <path d=\"M 9.8125 72.90625 \nL 24.515625 72.90625 \nL 43.109375 23.296875 \nL 61.8125 72.90625 \nL 76.515625 72.90625 \nL 76.515625 0 \nL 66.890625 0 \nL 66.890625 64.015625 \nL 48.09375 14.015625 \nL 38.1875 14.015625 \nL 19.390625 64.015625 \nL 19.390625 0 \nL 9.8125 0 \nz\n\" id=\"DejaVuSans-77\"/>\n     <path d=\"M 54.890625 54.6875 \nL 35.109375 28.078125 \nL 55.90625 0 \nL 45.3125 0 \nL 29.390625 21.484375 \nL 13.484375 0 \nL 2.875 0 \nL 24.125 28.609375 \nL 4.6875 54.6875 \nL 15.28125 54.6875 \nL 29.78125 35.203125 \nL 44.28125 54.6875 \nz\n\" id=\"DejaVuSans-120\"/>\n    </defs>\n    <g transform=\"translate(123.88125 16.318125)scale(0.12 -0.12)\">\n     <use xlink:href=\"#DejaVuSans-67\"/>\n     <use x=\"69.824219\" xlink:href=\"#DejaVuSans-111\"/>\n     <use x=\"131.005859\" xlink:href=\"#DejaVuSans-110\"/>\n     <use x=\"194.384766\" xlink:href=\"#DejaVuSans-102\"/>\n     <use x=\"229.589844\" xlink:href=\"#DejaVuSans-117\"/>\n     <use x=\"292.96875\" xlink:href=\"#DejaVuSans-115\"/>\n     <use x=\"345.068359\" xlink:href=\"#DejaVuSans-105\"/>\n     <use x=\"372.851562\" xlink:href=\"#DejaVuSans-111\"/>\n     <use x=\"434.033203\" xlink:href=\"#DejaVuSans-110\"/>\n     <use x=\"497.412109\" xlink:href=\"#DejaVuSans-32\"/>\n     <use x=\"529.199219\" xlink:href=\"#DejaVuSans-77\"/>\n     <use x=\"615.478516\" xlink:href=\"#DejaVuSans-97\"/>\n     <use x=\"676.757812\" xlink:href=\"#DejaVuSans-116\"/>\n     <use x=\"715.966797\" xlink:href=\"#DejaVuSans-114\"/>\n     <use x=\"757.080078\" xlink:href=\"#DejaVuSans-105\"/>\n     <use x=\"784.863281\" xlink:href=\"#DejaVuSans-120\"/>\n    </g>\n   </g>\n  </g>\n  <g id=\"axes_2\">\n   <g id=\"patch_3\">\n    <path clip-path=\"url(#p0257f56e18)\" d=\"M 325.183125 239.758125 \nL 325.183125 238.90875 \nL 325.183125 23.1675 \nL 325.183125 22.318125 \nL 336.055125 22.318125 \nL 336.055125 23.1675 \nL 336.055125 238.90875 \nL 336.055125 239.758125 \nz\n\" style=\"fill:#ffffff;stroke:#ffffff;stroke-linejoin:miter;stroke-width:0.01;\"/>\n   </g>\n   <image height=\"217\" id=\"image72dc9b3bd9\" transform=\"scale(1 -1)translate(0 -217)\" width=\"11\" x=\"325\" xlink:href=\"data:image/png;base64,\niVBORw0KGgoAAAANSUhEUgAAAAsAAADZCAYAAAD2WsoCAAAABHNCSVQICAgIfAhkiAAAAVJJREFUaIHV2kEOAjEMQ9GmDZfg/veEK/QtLKWsLcv5dToMovrz/a3LT1fVrXb1rn0vRmcQ14o5i/gIjVyMLTRyAw7JjM4woNHIVXSGs5V/ynHLgGtE+W3Aa6l2YwgNK/+1NNoNipHcFIiRGxBPcEj5Y62LOefQ9ZCFFTHRODHnIQPu69cDp0Hi2HaTeAgNiZGjcSQGHreIn6Rxr7YBc/dG/yAzck7RKHK+N159Ys6YWcRwKhbjFMWIFYmcRXygduaMma+1yRgbLruuIehgCTFGjoahu9aiMw6YikHOK9aN3RLDaDzoDDd0FzyBLMYSZ4sRHDAlpl97LAa81iQPhcTy+7N8Weva4pzLbOjE+eSO+0F0RoNijKBRtN3GOSa2u47Kf/+kH5PZYgyhMaNINGAuc8y5Sra7X6QRu76kG8Z5RjfW+UyIQf+ySN51QuPFAWFT/gJ8LSOCIrIBAAAAAElFTkSuQmCC\" y=\"-22\"/>\n   <g id=\"matplotlib.axis_3\"/>\n   <g id=\"matplotlib.axis_4\">\n    <g id=\"ytick_21\">\n     <g id=\"line2d_41\">\n      <defs>\n       <path d=\"M 0 0 \nL 3.5 0 \n\" id=\"mdcea85cb53\" style=\"stroke:#000000;stroke-width:0.8;\"/>\n      </defs>\n      <g>\n       <use style=\"stroke:#000000;stroke-width:0.8;\" x=\"336.055125\" xlink:href=\"#mdcea85cb53\" y=\"239.758125\"/>\n      </g>\n     </g>\n     <g id=\"text_44\">\n      <!-- 0 -->\n      <g transform=\"translate(343.055125 243.557344)scale(0.1 -0.1)\">\n       <use xlink:href=\"#DejaVuSans-48\"/>\n      </g>\n     </g>\n    </g>\n    <g id=\"ytick_22\">\n     <g id=\"line2d_42\">\n      <g>\n       <use style=\"stroke:#000000;stroke-width:0.8;\" x=\"336.055125\" xlink:href=\"#mdcea85cb53\" y=\"210.610672\"/>\n      </g>\n     </g>\n     <g id=\"text_45\">\n      <!-- 50 -->\n      <g transform=\"translate(343.055125 214.409891)scale(0.1 -0.1)\">\n       <use xlink:href=\"#DejaVuSans-53\"/>\n       <use x=\"63.623047\" xlink:href=\"#DejaVuSans-48\"/>\n      </g>\n     </g>\n    </g>\n    <g id=\"ytick_23\">\n     <g id=\"line2d_43\">\n      <g>\n       <use style=\"stroke:#000000;stroke-width:0.8;\" x=\"336.055125\" xlink:href=\"#mdcea85cb53\" y=\"181.463219\"/>\n      </g>\n     </g>\n     <g id=\"text_46\">\n      <!-- 100 -->\n      <g transform=\"translate(343.055125 185.262438)scale(0.1 -0.1)\">\n       <use xlink:href=\"#DejaVuSans-49\"/>\n       <use x=\"63.623047\" xlink:href=\"#DejaVuSans-48\"/>\n       <use x=\"127.246094\" xlink:href=\"#DejaVuSans-48\"/>\n      </g>\n     </g>\n    </g>\n    <g id=\"ytick_24\">\n     <g id=\"line2d_44\">\n      <g>\n       <use style=\"stroke:#000000;stroke-width:0.8;\" x=\"336.055125\" xlink:href=\"#mdcea85cb53\" y=\"152.315766\"/>\n      </g>\n     </g>\n     <g id=\"text_47\">\n      <!-- 150 -->\n      <g transform=\"translate(343.055125 156.114985)scale(0.1 -0.1)\">\n       <use xlink:href=\"#DejaVuSans-49\"/>\n       <use x=\"63.623047\" xlink:href=\"#DejaVuSans-53\"/>\n       <use x=\"127.246094\" xlink:href=\"#DejaVuSans-48\"/>\n      </g>\n     </g>\n    </g>\n    <g id=\"ytick_25\">\n     <g id=\"line2d_45\">\n      <g>\n       <use style=\"stroke:#000000;stroke-width:0.8;\" x=\"336.055125\" xlink:href=\"#mdcea85cb53\" y=\"123.168313\"/>\n      </g>\n     </g>\n     <g id=\"text_48\">\n      <!-- 200 -->\n      <g transform=\"translate(343.055125 126.967531)scale(0.1 -0.1)\">\n       <use xlink:href=\"#DejaVuSans-50\"/>\n       <use x=\"63.623047\" xlink:href=\"#DejaVuSans-48\"/>\n       <use x=\"127.246094\" xlink:href=\"#DejaVuSans-48\"/>\n      </g>\n     </g>\n    </g>\n    <g id=\"ytick_26\">\n     <g id=\"line2d_46\">\n      <g>\n       <use style=\"stroke:#000000;stroke-width:0.8;\" x=\"336.055125\" xlink:href=\"#mdcea85cb53\" y=\"94.02086\"/>\n      </g>\n     </g>\n     <g id=\"text_49\">\n      <!-- 250 -->\n      <g transform=\"translate(343.055125 97.820078)scale(0.1 -0.1)\">\n       <use xlink:href=\"#DejaVuSans-50\"/>\n       <use x=\"63.623047\" xlink:href=\"#DejaVuSans-53\"/>\n       <use x=\"127.246094\" xlink:href=\"#DejaVuSans-48\"/>\n      </g>\n     </g>\n    </g>\n    <g id=\"ytick_27\">\n     <g id=\"line2d_47\">\n      <g>\n       <use style=\"stroke:#000000;stroke-width:0.8;\" x=\"336.055125\" xlink:href=\"#mdcea85cb53\" y=\"64.873407\"/>\n      </g>\n     </g>\n     <g id=\"text_50\">\n      <!-- 300 -->\n      <g transform=\"translate(343.055125 68.672625)scale(0.1 -0.1)\">\n       <use xlink:href=\"#DejaVuSans-51\"/>\n       <use x=\"63.623047\" xlink:href=\"#DejaVuSans-48\"/>\n       <use x=\"127.246094\" xlink:href=\"#DejaVuSans-48\"/>\n      </g>\n     </g>\n    </g>\n    <g id=\"ytick_28\">\n     <g id=\"line2d_48\">\n      <g>\n       <use style=\"stroke:#000000;stroke-width:0.8;\" x=\"336.055125\" xlink:href=\"#mdcea85cb53\" y=\"35.725953\"/>\n      </g>\n     </g>\n     <g id=\"text_51\">\n      <!-- 350 -->\n      <g transform=\"translate(343.055125 39.525172)scale(0.1 -0.1)\">\n       <use xlink:href=\"#DejaVuSans-51\"/>\n       <use x=\"63.623047\" xlink:href=\"#DejaVuSans-53\"/>\n       <use x=\"127.246094\" xlink:href=\"#DejaVuSans-48\"/>\n      </g>\n     </g>\n    </g>\n   </g>\n   <g id=\"patch_4\">\n    <path d=\"M 325.183125 239.758125 \nL 325.183125 238.90875 \nL 325.183125 23.1675 \nL 325.183125 22.318125 \nL 336.055125 22.318125 \nL 336.055125 23.1675 \nL 336.055125 238.90875 \nL 336.055125 239.758125 \nz\n\" style=\"fill:none;\"/>\n   </g>\n  </g>\n </g>\n <defs>\n  <clipPath id=\"pfdd365e9a7\">\n   <rect height=\"217.44\" width=\"267.84\" x=\"40.603125\" y=\"22.318125\"/>\n  </clipPath>\n  <clipPath id=\"p0257f56e18\">\n   <rect height=\"217.44\" width=\"10.872\" x=\"325.183125\" y=\"22.318125\"/>\n  </clipPath>\n </defs>\n</svg>\n",
      "image/png": "[encoded data removed]"
     },
     "metadata": {
      "needs_background": "light"
     }
    }
   ],
   "source": [
    "## very slow... you can see the benefits if you really want\n",
    "if False: # set to true if you want to see\n",
    "    bayes_tfidf_clf.fit(X_train,y_train)\n",
    "    report_clf_evals(bayes_tfidf_clf,X_test,y_test)"
   ]
  },
  {
   "cell_type": "code",
   "execution_count": 30,
   "metadata": {},
   "outputs": [],
   "source": [
    "## I saved the result in case I ever really wanted it.\n",
    "\n",
    "import pickle\n",
    "pickle_out = open('bayes__clf.pickle','wb')\n",
    "pickle.dump(bayes_tfidf_clf,pickle_out)"
   ]
  },
  {
   "source": [
    "### Comment\n",
    "\n",
    "There's no clear gain from lemmatizing, unless you count what you learned about nltk."
   ],
   "cell_type": "markdown",
   "metadata": {}
  },
  {
   "source": [
    "## But what are we learning?\n",
    "\n",
    "Perhaps we will find a better classifier, perhaps not. Let's assume that our classifier is finding real similarities; What do we learn from this classifier? "
   ],
   "cell_type": "markdown",
   "metadata": {}
  },
  {
   "cell_type": "code",
   "execution_count": 38,
   "metadata": {},
   "outputs": [],
   "source": [
    "predictions = bayes_tfidf_clf.predict(X_test)\n"
   ]
  },
  {
   "cell_type": "code",
   "execution_count": 114,
   "metadata": {},
   "outputs": [
    {
     "output_type": "stream",
     "name": "stdout",
     "text": [
      "Category                 cor   incor\nalt.atheism        ( 0)  49.8  50.2 soc.religion.christian\ncomp.graphics      ( 1)  72.8  27.2 comp.windows.x\ncomp.os.ms-windows ( 2)  55.3  44.7 comp.sys.ibm.pc.hardware\ncomp.sys.ibm.pc.ha ( 3)  69.1  30.9 comp.sys.mac.hardware\ncomp.sys.mac.hardw ( 4)  68.1  31.9 comp.sys.ibm.pc.hardware\ncomp.windows.x     ( 5)  74.7  25.3 comp.graphics\nmisc.forsale       ( 6)  75.9  24.1 comp.sys.ibm.pc.hardware\nrec.autos          ( 7)  71.2  28.8 rec.motorcycles\nrec.motorcycles    ( 8)  69.1  30.9 rec.autos\nrec.sport.baseball ( 9)  78.8  21.2 rec.sport.hockey\nrec.sport.hockey   (10)  93.5  6.5 rec.sport.baseball\nsci.crypt          (11)  75.5  24.5 rec.sport.hockey\nsci.electronics    (12)  54.2  45.8 comp.sys.ibm.pc.hardware\nsci.med            (13)  76.5  23.5 rec.sport.hockey\nsci.space          (14)  77.2  22.8 rec.sport.hockey\nsoc.religion.chris (15)  82.9  17.1 talk.religion.misc\ntalk.politics.guns (16)  71.4  28.6 talk.politics.misc\ntalk.politics.mide (17)  79.5  20.5 soc.religion.christian\ntalk.politics.misc (18)  44.8  55.2 talk.politics.guns\ntalk.religion.misc (19)  33.5  66.5 soc.religion.christian\n"
     ]
    }
   ],
   "source": [
    "matrix = confusion_matrix(y_test,predictions)\n",
    "fmt_string = '{:18} ({:2})  {:.1f}  {:.1f} {}'\n",
    "print('{:24} {:4}  {:4}'.format('Category','cor','incor'))\n",
    "# print(matrix[0,:])\n",
    "for i in range(0,20):\n",
    "    cat = target_names_dict[i]\n",
    "    cat = cat[0:min(len(cat),18)]\n",
    "    total = matrix[i,:].sum()\n",
    "    correct = matrix[i,i]/total*100\n",
    "    incorrect = 100 - correct\n",
    "    miscat = list(np.delete(matrix[i,:], [i]))\n",
    "    miscat_ind = miscat.index(max(miscat))\n",
    "    miscat = target_names_dict[miscat_ind] if miscat_ind < i else target_names_dict[miscat_ind+1]\n",
    "    print(fmt_string.format(cat, i, correct, incorrect, miscat))\n"
   ]
  },
  {
   "source": [],
   "cell_type": "markdown",
   "metadata": {}
  },
  {
   "source": [
    "### Thoughts\n",
    "\n",
    "It's fun to see when things seem to work: notice how similar the most frequent misclassification is: atheism classifies as religion.christianity; the sports are mistaken for one another; science electronics sometimes looks like ibm.pc hardware.\n",
    "\n",
    "#### Hocky?\n",
    "\n",
    "I would not have guessed that hockey would be so strong. By the way, it is also the number one source of false positives. Why so many classifications as hocky? \n",
    "\n",
    "#### A weaker classification scheme?\n",
    "\n",
    "The results certainly suggest that you could get a pretty good classifier on this data that's \"Sports or Politics or Science.\" I might try that sometime."
   ],
   "cell_type": "markdown",
   "metadata": {}
  },
  {
   "cell_type": "code",
   "execution_count": null,
   "metadata": {},
   "outputs": [],
   "source": []
  }
 ],
 "metadata": {
  "kernelspec": {
   "display_name": "Python 3",
   "language": "python",
   "name": "python3"
  },
  "language_info": {
   "codemirror_mode": {
    "name": "ipython",
    "version": 3
   },
   "file_extension": ".py",
   "mimetype": "text/x-python",
   "name": "python",
   "nbconvert_exporter": "python",
   "pygments_lexer": "ipython3",
   "version": "3.8.3-final"
  }
 },
 "nbformat": 4,
 "nbformat_minor": 2
}