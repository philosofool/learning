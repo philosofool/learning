{
 "metadata": {
  "language_info": {
   "codemirror_mode": {
    "name": "ipython",
    "version": 3
   },
   "file_extension": ".py",
   "mimetype": "text/x-python",
   "name": "python",
   "nbconvert_exporter": "python",
   "pygments_lexer": "ipython3",
   "version": "3.8.5-final"
  },
  "orig_nbformat": 2,
  "kernelspec": {
   "name": "python3",
   "display_name": "Python 3",
   "language": "python"
  }
 },
 "nbformat": 4,
 "nbformat_minor": 2,
 "cells": [
  {
   "source": [
    "# Convolutional Networks\n",
    "\n",
    "## A basic problem\n",
    "\n",
    "Suppose you have a 1,000x1,000 image; the first layer of a dense neural network would be a 3 billion element matrix. this is too big.\n",
    "\n",
    "## Let's detect edges instead\n",
    "\n",
    "Take a 6x6 image and perform a convolution on it.\n",
    "```\n",
    "[[8, 4, 9, 3, 3, 1],\n",
    "[6, 8, 0, 0, 2, 4],\n",
    "[1, 3, 3, 2, 4, 4],\n",
    "[2, 1, 2, 8, 5, 8],\n",
    "[9, 5, 5, 8, 1, 8],\n",
    "[4, 7, 3, 8, 4, 2]]\n",
    "```\n",
    " An edge detection filter of the form\n",
    "```\n",
    "[[ 1.,  0., -1.],\n",
    "[ 1.,  0., -1.],\n",
    "[ 1.,  0., -1.]]\n",
    "```\n",
    "Take the sum of the elementwise product of this filter imposed on each 3x3 section of the grid. The Convolutional output will be 4x4 with each elementwise product. Hence, the first cell of our convolution output will be 1*(8+6+1)+0*(4+8+3)+-1*(9+0+3).\n"
   ],
   "cell_type": "markdown",
   "metadata": {}
  },
  {
   "source": [
    "## How does this detect edges?\n",
    "\n",
    "If you look at an image with pixels like this:\n",
    "```\n",
    "[10., 10., 10.,  0.,  0.,  0.],\n",
    "[10., 10., 10.,  0.,  0.,  0.],\n",
    "[10., 10., 10.,  0.,  0.,  0.],\n",
    "[10., 10., 10.,  0.,  0.,  0.],\n",
    "[10., 10., 10.,  0.,  0.,  0.],\n",
    "[10., 10., 10.,  0.,  0.,  0.],\n",
    "```\n",
    "The middle 2 columns of the convolutional out put will be 30 and 0 on the edges. (You can verify this yourself.) The filter essentailly says \"there's an edge where we have dark pixels on one side and light ones on another.\" Note, that the numbers would be negative if right side were 10s and the left were ones."
   ],
   "cell_type": "markdown",
   "metadata": {}
  },
  {
   "source": [
    "### 1,0,-1 is arbitrary\n",
    "\n",
    "We could use a different matrix for our edge detector; it will have slightly different properties, which might be better or worse for our applicaiton. For example a Sobel filter would be:\n",
    "```\n",
    "[[ 1  0 -1]\n",
    " [ 2  0 -2]\n",
    " [ 1  0 -1]]\n",
    "```\n",
    "Which adds emphasis on the middle of the edge. Another possibility is Scharr:\n",
    "```\n",
    "[[  3   0  -3]\n",
    " [ 10   0 -10]\n",
    " [  3   0  -3]]\n",
    "```\n",
    "Which places more emphsis on the middle. \n",
    "\n",
    "## The **best** part\n",
    "\n",
    "Is that the value of the filter/kernel is a learnable parameter that can be trained by gradient descent."
   ],
   "cell_type": "markdown",
   "metadata": {}
  },
  {
   "source": [
    "## Padding\n",
    "\n",
    "We need to pad images because corners are used just once and edges 4 times while middle pixels get used 16 times. Also, a convolition reduces the dimensionality of our image. If we have a very deep network, we lose pixels.\n",
    "\n",
    "*Valid*: no Padding\n",
    "\n",
    "*Same*: output has dimension of input; this implies that padding = (f-1)/2, where f is the dimension of the filter.\n",
    "\n",
    "## Striding\n",
    "\n",
    "Stride is the number of steps taken before \"overlaying\" the filter. \n",
    "\n",
    "Once we adding padding (p) and stride (s) with filter (f), the dimension of the output is the floor of...\n",
    "$$dim = \\frac{n + 2p - f}{s}+1$$\n",
    "in each dimension."
   ],
   "cell_type": "markdown",
   "metadata": {}
  },
  {
   "source": [
    "### 3 dimensions\n",
    "\n",
    "Images are HxWxC dimensions, where C is the RGB chanel (usuall with 0-255 values).\n",
    "\n",
    "The 3D convolution filter is a 3D volume. To detect a vertical edge (light to dark):\n",
    "```\n",
    "[[[ 1.  0. -1.]\n",
    "  [ 1.  0. -1.]\n",
    "  [ 1.  0. -1.]]\n",
    "\n",
    " [[ 1.  0. -1.]\n",
    "  [ 1.  0. -1.]\n",
    "  [ 1.  0. -1.]]\n",
    "\n",
    " [[ 1.  0. -1.]\n",
    "  [ 1.  0. -1.]\n",
    "  [ 1.  0. -1.]]]\n",
    "  ```\n",
    "  To detect red edges:\n",
    "  ```\n",
    "[[[ 1.  0. -1.]\n",
    "  [ 1.  0. -1.]\n",
    "  [ 1.  0. -1.]]\n",
    "\n",
    " [[ 0.  0. -0.]\n",
    "  [ 0.  0. -0.]\n",
    "  [ 0.  0. -0.]]\n",
    "\n",
    " [[ 0.  0. -0.]\n",
    "  [ 0.  0. -0.]\n",
    "  [ 0.  0. -0.]]]\n",
    "  ```\n",
    "  The convolution operation now overlays a _cubic array_ on the image, taking elemnetwise products and summing to get the output. N.B. _The output is 2D._ \n",
    "\n",
    "### Multiple Filters\n",
    "\n",
    "When we apply multiple filters, we stack the outputs of the filters. The shape will be \n",
    "\n",
    "$$dim = \\frac{n + 2p - f}{s}+1, \\frac{n + 2p - f}{s}+1, n_c$$\n",
    "\n",
    "where $n_c$ is the number of channels.\n",
    "\n",
    " "
   ],
   "cell_type": "markdown",
   "metadata": {}
  },
  {
   "cell_type": "code",
   "execution_count": 87,
   "metadata": {},
   "outputs": [
    {
     "output_type": "stream",
     "name": "stdout",
     "text": [
      "[[1. 1. 1.]\n [1. 1. 1.]\n [1. 1. 1.]]\n[[[ 1.  0. -1.]\n  [ 1.  0. -1.]\n  [ 1.  0. -1.]]\n\n [[ 0.  0. -0.]\n  [ 0.  0. -0.]\n  [ 0.  0. -0.]]\n\n [[ 0.  0. -0.]\n  [ 0.  0. -0.]\n  [ 0.  0. -0.]]]\n"
     ]
    }
   ],
   "source": [
    "import numpy as np\n",
    "\n",
    "x = np.ones((3,3))\n",
    "print(x)\n",
    "x = x[:,:,None]*[1,0,-1]\n",
    "x[1:] = x[1:]*0\n",
    "print(x)"
   ]
  },
  {
   "cell_type": "code",
   "execution_count": 68,
   "metadata": {},
   "outputs": [
    {
     "output_type": "stream",
     "name": "stdout",
     "text": [
      "(1, 3)\n(3, 3)\n"
     ]
    }
   ],
   "source": [
    "x = np.array([[1,0,-1]])\n",
    "print(x.shape)\n",
    "sobel = np.array([3,10,3])\n",
    "sobel = np.outer(sobel,x)\n",
    "print(sobel.shape)\n",
    "#np.ones(3)*np.ones([3,1])"
   ]
  },
  {
   "cell_type": "code",
   "execution_count": 100,
   "metadata": {},
   "outputs": [],
   "source": [
    "x = np.ones((3,3))\n",
    "y = np.zeros((3,3))\n",
    "z = np.stack((x, y), axis=-1)"
   ]
  },
  {
   "cell_type": "code",
   "execution_count": 102,
   "metadata": {},
   "outputs": [
    {
     "output_type": "execute_result",
     "data": {
      "text/plain": [
       "array([[ True,  True,  True],\n",
       "       [ True,  True,  True],\n",
       "       [ True,  True,  True]])"
      ]
     },
     "metadata": {},
     "execution_count": 102
    }
   ],
   "source": [
    "x == z[:,:,0]"
   ]
  },
  {
   "cell_type": "code",
   "execution_count": null,
   "metadata": {},
   "outputs": [],
   "source": []
  }
 ]
}